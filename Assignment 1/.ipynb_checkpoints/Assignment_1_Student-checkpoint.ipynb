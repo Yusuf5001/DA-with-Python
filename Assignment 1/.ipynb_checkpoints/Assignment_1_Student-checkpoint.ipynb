{
 "cells": [
  {
   "cell_type": "markdown",
   "metadata": {
    "colab_type": "text",
    "id": "view-in-github"
   },
   "source": [
    "<a href=\"https://colab.research.google.com/github/Yusuf5001/DA-with-Python/blob/main/Assignment_1_Student.ipynb\" target=\"_parent\"><img src=\"https://colab.research.google.com/assets/colab-badge.svg\" alt=\"Open In Colab\"/></a>"
   ]
  },
  {
   "cell_type": "markdown",
   "metadata": {
    "id": "UpnEitCpvH_W"
   },
   "source": [
    "___\n",
    "\n",
    "<p style=\"text-align: center;\"><img src=\"https://docs.google.com/uc?id=1lY0Uj5R04yMY3-ZppPWxqCr5pvBLYPnV\" class=\"img-fluid\" alt=\"Rossum\"></p>"
   ]
  },
  {
   "cell_type": "markdown",
   "metadata": {
    "id": "e7P_yrRdvH_X"
   },
   "source": [
    "In this assignment you will start off with Numpy Exercises and then complete the whole Exercise with Pandas questions. All the subjects related to questions here already covered in preclass materials and in-class sessions. So good luck!\n"
   ]
  },
  {
   "cell_type": "markdown",
   "metadata": {
    "id": "ZQJ90z4PvH_Y"
   },
   "source": [
    "#### 1. Import NumPy Library"
   ]
  },
  {
   "cell_type": "code",
   "execution_count": 1,
   "metadata": {
    "id": "oOKUJuSkvH_Y"
   },
   "outputs": [],
   "source": [
    "import numpy as np"
   ]
  },
  {
   "cell_type": "markdown",
   "metadata": {
    "id": "rKd85UwHvH_Y"
   },
   "source": [
    "#### 2. Create an array from my_list=[5,10,15,20,25]"
   ]
  },
  {
   "cell_type": "code",
   "execution_count": 2,
   "metadata": {
    "colab": {
     "base_uri": "https://localhost:8080/"
    },
    "id": "vFvJJENuvH_Y",
    "outputId": "d7e530ac-95d0-4b32-a634-f3fbcae01f17"
   },
   "outputs": [
    {
     "data": {
      "text/plain": [
       "array([ 5, 10, 15, 20, 25])"
      ]
     },
     "execution_count": 2,
     "metadata": {},
     "output_type": "execute_result"
    }
   ],
   "source": [
    "my_list=[5,10,15,20,25]\n",
    "np.array(my_list)"
   ]
  },
  {
   "cell_type": "markdown",
   "metadata": {
    "id": "4EOYTKSwvH_Z"
   },
   "source": [
    "#### 3. Generate an array 5x5 zeros "
   ]
  },
  {
   "cell_type": "code",
   "execution_count": 3,
   "metadata": {
    "colab": {
     "base_uri": "https://localhost:8080/"
    },
    "id": "CROOmlptvH_Z",
    "outputId": "057154de-0e40-44db-e1dd-5728e13d5031"
   },
   "outputs": [
    {
     "data": {
      "text/plain": [
       "array([[0., 0., 0., 0., 0.],\n",
       "       [0., 0., 0., 0., 0.],\n",
       "       [0., 0., 0., 0., 0.],\n",
       "       [0., 0., 0., 0., 0.],\n",
       "       [0., 0., 0., 0., 0.]])"
      ]
     },
     "execution_count": 3,
     "metadata": {},
     "output_type": "execute_result"
    }
   ],
   "source": [
    "np.zeros((5,5))"
   ]
  },
  {
   "cell_type": "markdown",
   "metadata": {
    "id": "QshMvn-dvH_Z"
   },
   "source": [
    "#### 4. Generate an array 4x4 ones assign data type int"
   ]
  },
  {
   "cell_type": "code",
   "execution_count": 4,
   "metadata": {
    "colab": {
     "base_uri": "https://localhost:8080/"
    },
    "id": "TjQdgIYLvH_a",
    "outputId": "05068db3-1432-447b-d5e2-b02777f02ddd"
   },
   "outputs": [
    {
     "data": {
      "text/plain": [
       "array([[1, 1, 1, 1],\n",
       "       [1, 1, 1, 1],\n",
       "       [1, 1, 1, 1],\n",
       "       [1, 1, 1, 1]])"
      ]
     },
     "execution_count": 4,
     "metadata": {},
     "output_type": "execute_result"
    }
   ],
   "source": [
    "np.ones((4,4), dtype=int)"
   ]
  },
  {
   "cell_type": "markdown",
   "metadata": {
    "id": "EKgjZo_SvH_a"
   },
   "source": [
    "#### 5. Make all the values of the array above 7"
   ]
  },
  {
   "cell_type": "code",
   "execution_count": 5,
   "metadata": {
    "id": "RRIQwD1svH_a"
   },
   "outputs": [
    {
     "data": {
      "text/plain": [
       "array([[1, 1, 1, 1, 1, 1, 1],\n",
       "       [1, 1, 1, 1, 1, 1, 1],\n",
       "       [1, 1, 1, 1, 1, 1, 1],\n",
       "       [1, 1, 1, 1, 1, 1, 1],\n",
       "       [1, 1, 1, 1, 1, 1, 1],\n",
       "       [1, 1, 1, 1, 1, 1, 1],\n",
       "       [1, 1, 1, 1, 1, 1, 1]])"
      ]
     },
     "execution_count": 5,
     "metadata": {},
     "output_type": "execute_result"
    }
   ],
   "source": [
    "np.ones((7,7), dtype=int)"
   ]
  },
  {
   "cell_type": "code",
   "execution_count": null,
   "metadata": {},
   "outputs": [],
   "source": []
  },
  {
   "cell_type": "markdown",
   "metadata": {
    "id": "fOUGKC85vH_a"
   },
   "source": [
    "#### 6. Create same array above with full method"
   ]
  },
  {
   "cell_type": "code",
   "execution_count": null,
   "metadata": {
    "colab": {
     "base_uri": "https://localhost:8080/"
    },
    "id": "2P1d_aeqvH_a",
    "outputId": "2dfa76c7-cec4-4e69-edbb-e801e6c4ede0"
   },
   "outputs": [
    {
     "data": {
      "text/plain": [
       "array([[7, 7, 7, 7],\n",
       "       [7, 7, 7, 7],\n",
       "       [7, 7, 7, 7],\n",
       "       [7, 7, 7, 7]])"
      ]
     },
     "execution_count": 5,
     "metadata": {},
     "output_type": "execute_result"
    }
   ],
   "source": [
    "np.full((4,4),7)"
   ]
  },
  {
   "cell_type": "markdown",
   "metadata": {
    "id": "b-28IhPxvH_b"
   },
   "source": [
    "#### 7. Create an array of even integers from 2 to 16 "
   ]
  },
  {
   "cell_type": "code",
   "execution_count": null,
   "metadata": {
    "colab": {
     "base_uri": "https://localhost:8080/"
    },
    "id": "9iVPvMIkvH_b",
    "outputId": "cbf72118-e6eb-4fe6-f919-e016a964f663"
   },
   "outputs": [
    {
     "data": {
      "text/plain": [
       "array([ 2,  4,  6,  8, 10, 12, 14])"
      ]
     },
     "execution_count": 6,
     "metadata": {},
     "output_type": "execute_result"
    }
   ],
   "source": [
    "np.arange(2,16,2)"
   ]
  },
  {
   "cell_type": "markdown",
   "metadata": {
    "id": "VRexd28vvH_b"
   },
   "source": [
    "#### 8. Create a 5x5 matrix with values between 0 to 25"
   ]
  },
  {
   "cell_type": "code",
   "execution_count": null,
   "metadata": {
    "colab": {
     "base_uri": "https://localhost:8080/"
    },
    "id": "8iRISy5xvH_b",
    "outputId": "905e4ff4-26e1-4df0-984f-eb6a527b06b5"
   },
   "outputs": [
    {
     "data": {
      "text/plain": [
       "array([[22,  8, 10, 21, 22],\n",
       "       [ 8,  8, 11, 15,  9],\n",
       "       [ 2, 23,  7, 18, 22],\n",
       "       [23,  6, 12, 13, 23],\n",
       "       [23,  8,  1, 13, 22]])"
      ]
     },
     "execution_count": 7,
     "metadata": {},
     "output_type": "execute_result"
    }
   ],
   "source": [
    "np.random.randint((25), size=(5,5))"
   ]
  },
  {
   "cell_type": "markdown",
   "metadata": {
    "id": "QpzxRCZevH_b"
   },
   "source": [
    "#### 9. Create a 5x5 matrix with values between 0 to 25 using linspace"
   ]
  },
  {
   "cell_type": "code",
   "execution_count": null,
   "metadata": {
    "colab": {
     "base_uri": "https://localhost:8080/"
    },
    "id": "f48AEpWEvH_c",
    "outputId": "5a7f0db6-b703-4804-f589-47e4a68cb8d0"
   },
   "outputs": [
    {
     "data": {
      "text/plain": [
       "array([ 0.        ,  1.04166667,  2.08333333,  3.125     ,  4.16666667,\n",
       "        5.20833333,  6.25      ,  7.29166667,  8.33333333,  9.375     ,\n",
       "       10.41666667, 11.45833333, 12.5       , 13.54166667, 14.58333333,\n",
       "       15.625     , 16.66666667, 17.70833333, 18.75      , 19.79166667,\n",
       "       20.83333333, 21.875     , 22.91666667, 23.95833333, 25.        ])"
      ]
     },
     "execution_count": 8,
     "metadata": {},
     "output_type": "execute_result"
    }
   ],
   "source": [
    "np.linspace(0,25,25)"
   ]
  },
  {
   "cell_type": "markdown",
   "metadata": {
    "id": "k8_zZ84nvH_c"
   },
   "source": [
    "#### 10. Create 5 random number with numpy"
   ]
  },
  {
   "cell_type": "code",
   "execution_count": null,
   "metadata": {
    "colab": {
     "base_uri": "https://localhost:8080/"
    },
    "id": "7o3_nLcHvH_c",
    "outputId": "11fde833-d1b7-4ff8-ac3b-d651129a7867"
   },
   "outputs": [
    {
     "data": {
      "text/plain": [
       "array([-1.58879245,  0.29527393, -0.43145816, -1.25004766, -0.38404877])"
      ]
     },
     "execution_count": 9,
     "metadata": {},
     "output_type": "execute_result"
    }
   ],
   "source": [
    "np.random.randn(5)"
   ]
  },
  {
   "cell_type": "markdown",
   "metadata": {
    "id": "c-WdbyFTvH_c"
   },
   "source": [
    "#### 11. Create random normal distributed 5x5 array\n",
    "\n",
    "> Indented block\n",
    "\n"
   ]
  },
  {
   "cell_type": "code",
   "execution_count": null,
   "metadata": {
    "colab": {
     "base_uri": "https://localhost:8080/"
    },
    "id": "AtOLurl4vH_c",
    "outputId": "5fbd5ef7-19aa-4340-9836-57383b45e155"
   },
   "outputs": [
    {
     "data": {
      "text/plain": [
       "array([[0.97663449, 0.57561994, 0.01574313, 0.54716296, 0.7878531 ],\n",
       "       [0.27888611, 0.51147762, 0.96404137, 0.4321868 , 0.50843058],\n",
       "       [0.43676922, 0.85467098, 0.19757942, 0.51970674, 0.57834565],\n",
       "       [0.29769761, 0.20586042, 0.20316667, 0.8168434 , 0.86987471],\n",
       "       [0.7761609 , 0.54130827, 0.94019507, 0.94284771, 0.69265751]])"
      ]
     },
     "execution_count": 10,
     "metadata": {},
     "output_type": "execute_result"
    }
   ],
   "source": [
    "np.random.rand(5,5)"
   ]
  },
  {
   "cell_type": "markdown",
   "metadata": {
    "id": "wwfxU8RLvH_d"
   },
   "source": [
    "#### 12. Create 3x4 shaped array with random int numbers between 20 and 50 with numpy"
   ]
  },
  {
   "cell_type": "code",
   "execution_count": null,
   "metadata": {
    "colab": {
     "base_uri": "https://localhost:8080/"
    },
    "id": "eQPeFSJ_vH_d",
    "outputId": "8360abe3-246f-4b29-fe2b-a183f6daec46"
   },
   "outputs": [
    {
     "data": {
      "text/plain": [
       "array([[42, 34, 38, 31],\n",
       "       [49, 25, 29, 43],\n",
       "       [24, 20, 35, 44]])"
      ]
     },
     "execution_count": 11,
     "metadata": {},
     "output_type": "execute_result"
    }
   ],
   "source": [
    "arr = np.random.randint(20,50, size=(3,4))\n",
    "arr"
   ]
  },
  {
   "cell_type": "markdown",
   "metadata": {
    "id": "nuPfLOIIvH_d"
   },
   "source": [
    "#### 13. Reshape the array below with shape 6x8"
   ]
  },
  {
   "cell_type": "code",
   "execution_count": null,
   "metadata": {
    "id": "2G0Y1IpUvH_d"
   },
   "outputs": [],
   "source": [
    "listem = [52, 48, 21, 29, 15, 35,  3, 29, 43, 48, 38,  8, 44,  2, 46, 27, 11,\n",
    "       29, 30, 26,  8, 49, 19,  2,  9, 38, 40, 36, 16, 41, 39, 17, 20, 42,\n",
    "       23, 35, 45, 18, 40,  9, 36, 37,  5, 17, 44, 36,  2, 52]"
   ]
  },
  {
   "cell_type": "code",
   "execution_count": null,
   "metadata": {
    "colab": {
     "base_uri": "https://localhost:8080/"
    },
    "id": "wMEX87mQvH_d",
    "outputId": "c1ad0bd2-82b3-46df-d2f2-c500704e84c8"
   },
   "outputs": [
    {
     "data": {
      "text/plain": [
       "array([52, 48, 21, 29, 15, 35,  3, 29, 43, 48, 38,  8, 44,  2, 46, 27, 11,\n",
       "       29, 30, 26,  8, 49, 19,  2,  9, 38, 40, 36, 16, 41, 39, 17, 20, 42,\n",
       "       23, 35, 45, 18, 40,  9, 36, 37,  5, 17, 44, 36,  2, 52])"
      ]
     },
     "execution_count": 13,
     "metadata": {},
     "output_type": "execute_result"
    }
   ],
   "source": [
    "ranarr = np.array(listem)\n",
    "ranarr"
   ]
  },
  {
   "cell_type": "code",
   "execution_count": null,
   "metadata": {
    "colab": {
     "base_uri": "https://localhost:8080/"
    },
    "id": "FnEq2IlBvH_d",
    "outputId": "88c69fb7-2210-478d-875b-7b2ef1fa4313"
   },
   "outputs": [
    {
     "data": {
      "text/plain": [
       "array([[52, 48, 21, 29, 15, 35,  3, 29],\n",
       "       [43, 48, 38,  8, 44,  2, 46, 27],\n",
       "       [11, 29, 30, 26,  8, 49, 19,  2],\n",
       "       [ 9, 38, 40, 36, 16, 41, 39, 17],\n",
       "       [20, 42, 23, 35, 45, 18, 40,  9],\n",
       "       [36, 37,  5, 17, 44, 36,  2, 52]])"
      ]
     },
     "execution_count": 14,
     "metadata": {},
     "output_type": "execute_result"
    }
   ],
   "source": [
    "ranarr.reshape(6,8)"
   ]
  },
  {
   "cell_type": "code",
   "execution_count": null,
   "metadata": {
    "colab": {
     "base_uri": "https://localhost:8080/"
    },
    "id": "eEbD3j10vH_d",
    "outputId": "01179da7-1130-480f-deb5-29a6cd54483f"
   },
   "outputs": [
    {
     "data": {
      "text/plain": [
       "array([[52, 48, 21, 29, 15, 35,  3, 29, 43, 48, 38,  8],\n",
       "       [44,  2, 46, 27, 11, 29, 30, 26,  8, 49, 19,  2],\n",
       "       [ 9, 38, 40, 36, 16, 41, 39, 17, 20, 42, 23, 35],\n",
       "       [45, 18, 40,  9, 36, 37,  5, 17, 44, 36,  2, 52]])"
      ]
     },
     "execution_count": 15,
     "metadata": {},
     "output_type": "execute_result"
    }
   ],
   "source": [
    "#reshape with -1\n",
    "ranarr.reshape(-1,12)"
   ]
  },
  {
   "cell_type": "markdown",
   "metadata": {
    "id": "9yvaiZiDvH_e"
   },
   "source": [
    "## Numpy Indexing and Selection\n"
   ]
  },
  {
   "cell_type": "code",
   "execution_count": null,
   "metadata": {
    "colab": {
     "base_uri": "https://localhost:8080/"
    },
    "id": "qHis-4smvH_e",
    "outputId": "b5c57478-7fa1-4be3-c4d8-6cb158741392"
   },
   "outputs": [
    {
     "data": {
      "text/plain": [
       "array([[ 1,  2,  3,  4],\n",
       "       [ 5,  6,  7,  8],\n",
       "       [ 9, 10, 11, 12],\n",
       "       [13, 14, 15, 16]])"
      ]
     },
     "execution_count": 16,
     "metadata": {},
     "output_type": "execute_result"
    }
   ],
   "source": [
    "#Create array below\n",
    "mat= np.arange(1,17).reshape(4,4)\n",
    "mat "
   ]
  },
  {
   "cell_type": "markdown",
   "metadata": {
    "id": "ifdkVi8AvH_e"
   },
   "source": [
    "#### 14. Write code that reproduces the output shown below.<br>"
   ]
  },
  {
   "cell_type": "code",
   "execution_count": null,
   "metadata": {
    "colab": {
     "base_uri": "https://localhost:8080/"
    },
    "id": "bu91eydZvH_e",
    "outputId": "faa33fbd-fa3e-4efd-d217-9d469f064660"
   },
   "outputs": [
    {
     "data": {
      "text/plain": [
       "array([[ 6,  7],\n",
       "       [10, 11]])"
      ]
     },
     "execution_count": 17,
     "metadata": {},
     "output_type": "execute_result"
    }
   ],
   "source": [
    "mat[1:3,1:3]"
   ]
  },
  {
   "cell_type": "markdown",
   "metadata": {
    "id": "JYcruqCAvH_e"
   },
   "source": [
    "#### 15. Get the first column of the array."
   ]
  },
  {
   "cell_type": "code",
   "execution_count": null,
   "metadata": {
    "colab": {
     "base_uri": "https://localhost:8080/"
    },
    "id": "ZySdF_FVvH_e",
    "outputId": "c77c40e8-190b-4dd6-8621-0a3a2428f2bb"
   },
   "outputs": [
    {
     "data": {
      "text/plain": [
       "array([ 1,  5,  9, 13])"
      ]
     },
     "execution_count": 18,
     "metadata": {},
     "output_type": "execute_result"
    }
   ],
   "source": [
    "mat[:,0]"
   ]
  },
  {
   "cell_type": "markdown",
   "metadata": {
    "id": "X44nvBXqvH_f"
   },
   "source": [
    "#### 16. Get the values in 2nd row for every 2 step."
   ]
  },
  {
   "cell_type": "code",
   "execution_count": null,
   "metadata": {
    "colab": {
     "base_uri": "https://localhost:8080/"
    },
    "id": "n25bDL2bvH_f",
    "outputId": "f6c9d7b2-4c5f-47e3-c44c-70afa98143a6"
   },
   "outputs": [
    {
     "data": {
      "text/plain": [
       "array([5, 7])"
      ]
     },
     "execution_count": 19,
     "metadata": {},
     "output_type": "execute_result"
    }
   ],
   "source": [
    "mat[1,0:3:2]"
   ]
  },
  {
   "cell_type": "markdown",
   "metadata": {
    "id": "GCTclGouvH_f"
   },
   "source": [
    "#### 17.Assign 77 to every cell in 3rd column."
   ]
  },
  {
   "cell_type": "code",
   "execution_count": null,
   "metadata": {
    "id": "s8Hggi35vH_f"
   },
   "outputs": [],
   "source": [
    "mat[:,2:3]=77"
   ]
  },
  {
   "cell_type": "code",
   "execution_count": null,
   "metadata": {
    "colab": {
     "base_uri": "https://localhost:8080/"
    },
    "id": "RW8_MwhCvH_f",
    "outputId": "f242f845-a973-4b6b-c451-a84dd6f780ae"
   },
   "outputs": [
    {
     "data": {
      "text/plain": [
       "array([[ 1,  2, 77,  4],\n",
       "       [ 5,  6, 77,  8],\n",
       "       [ 9, 10, 77, 12],\n",
       "       [13, 14, 77, 16]])"
      ]
     },
     "execution_count": 21,
     "metadata": {},
     "output_type": "execute_result"
    }
   ],
   "source": [
    "mat"
   ]
  },
  {
   "cell_type": "markdown",
   "metadata": {
    "id": "rIhKKNnCvH_f"
   },
   "source": [
    "#### 18. Take 2nd row 1st column, 4th row 2nd column."
   ]
  },
  {
   "cell_type": "code",
   "execution_count": null,
   "metadata": {
    "colab": {
     "base_uri": "https://localhost:8080/"
    },
    "id": "Jb0P2jPSvH_f",
    "outputId": "4b5ca26a-69a9-48e3-b93f-3cf0e5cf4e73",
    "scrolled": true
   },
   "outputs": [
    {
     "data": {
      "text/plain": [
       "array([ 5, 14])"
      ]
     },
     "execution_count": 22,
     "metadata": {},
     "output_type": "execute_result"
    }
   ],
   "source": [
    "mat[[1,3],[0,1]]"
   ]
  },
  {
   "cell_type": "markdown",
   "metadata": {
    "id": "zMwddSH7vH_f"
   },
   "source": [
    "#### 19. Take between 2nd and last row with step 2 and between 1 and last column with step 2."
   ]
  },
  {
   "cell_type": "code",
   "execution_count": null,
   "metadata": {
    "colab": {
     "base_uri": "https://localhost:8080/"
    },
    "id": "LViEsa2KvH_g",
    "outputId": "48e7634b-64dc-4070-f275-41f70d53a3ee"
   },
   "outputs": [
    {
     "data": {
      "text/plain": [
       "array([[ 5, 77],\n",
       "       [13, 77]])"
      ]
     },
     "execution_count": 23,
     "metadata": {},
     "output_type": "execute_result"
    }
   ],
   "source": [
    "mat[1:4:2, 0:3:2]"
   ]
  },
  {
   "cell_type": "code",
   "execution_count": null,
   "metadata": {
    "colab": {
     "base_uri": "https://localhost:8080/"
    },
    "id": "hnywDdjDFTfo",
    "outputId": "9dd4f132-8e8b-466f-e04e-c739e53cbf9c"
   },
   "outputs": [
    {
     "data": {
      "text/plain": [
       "array([[ 1,  2, 77,  4],\n",
       "       [ 5,  6, 77,  8],\n",
       "       [ 9, 10, 77, 12],\n",
       "       [13, 14, 77, 16]])"
      ]
     },
     "execution_count": 24,
     "metadata": {},
     "output_type": "execute_result"
    }
   ],
   "source": [
    "mat"
   ]
  },
  {
   "cell_type": "markdown",
   "metadata": {
    "id": "WHDQsDt0vH_g"
   },
   "source": [
    "## NumPy Operations"
   ]
  },
  {
   "cell_type": "markdown",
   "metadata": {
    "id": "ly0G1GFzvH_g"
   },
   "source": [
    "#### 20. Get the sum of values smaller than 10 and values bigger than 12 from array above "
   ]
  },
  {
   "cell_type": "code",
   "execution_count": null,
   "metadata": {
    "colab": {
     "base_uri": "https://localhost:8080/"
    },
    "id": "_58FhEl4vH_g",
    "outputId": "7098ebca-e4b6-4645-e22e-64d33a60ba38"
   },
   "outputs": [
    {
     "data": {
      "text/plain": [
       "array([1, 2, 4, 5, 6, 8, 9])"
      ]
     },
     "execution_count": 25,
     "metadata": {},
     "output_type": "execute_result"
    }
   ],
   "source": [
    "  smaller = mat[mat<10]\n",
    "  smaller"
   ]
  },
  {
   "cell_type": "code",
   "execution_count": null,
   "metadata": {
    "colab": {
     "base_uri": "https://localhost:8080/"
    },
    "id": "gjQPU5lgvH_g",
    "outputId": "d55726df-cdb3-45c2-9822-1964740f1917"
   },
   "outputs": [
    {
     "data": {
      "text/plain": [
       "array([77, 77, 77, 13, 14, 77, 16])"
      ]
     },
     "execution_count": 26,
     "metadata": {},
     "output_type": "execute_result"
    }
   ],
   "source": [
    "bigger = mat[mat>12]\n",
    "bigger"
   ]
  },
  {
   "cell_type": "code",
   "execution_count": null,
   "metadata": {
    "colab": {
     "base_uri": "https://localhost:8080/"
    },
    "id": "FDiNq3nZvH_g",
    "outputId": "db5e73c0-bf20-49cd-a090-1b047cb9b5c3"
   },
   "outputs": [
    {
     "data": {
      "text/plain": [
       "array([78, 79, 81, 18, 20, 85, 25])"
      ]
     },
     "execution_count": 27,
     "metadata": {},
     "output_type": "execute_result"
    }
   ],
   "source": [
    "result = smaller + bigger\n",
    "result"
   ]
  },
  {
   "cell_type": "code",
   "execution_count": null,
   "metadata": {
    "id": "kyjLZjtivH_g"
   },
   "outputs": [],
   "source": []
  },
  {
   "cell_type": "markdown",
   "metadata": {
    "id": "YRc4VyXOvH_g"
   },
   "source": [
    "#### 21. Get the standard deviation of the result above"
   ]
  },
  {
   "cell_type": "code",
   "execution_count": null,
   "metadata": {
    "colab": {
     "base_uri": "https://localhost:8080/"
    },
    "id": "Rt-vU9wtvH_g",
    "outputId": "1e105835-47bd-40b1-d5f2-bddd713cbcc3"
   },
   "outputs": [
    {
     "data": {
      "text/plain": [
       "29.700546274093877"
      ]
     },
     "execution_count": 28,
     "metadata": {},
     "output_type": "execute_result"
    }
   ],
   "source": [
    "np.std(result)"
   ]
  },
  {
   "cell_type": "markdown",
   "metadata": {
    "id": "DicUVVB2vH_h"
   },
   "source": [
    "#### 22. Get the sum of second column from array above"
   ]
  },
  {
   "cell_type": "code",
   "execution_count": null,
   "metadata": {
    "colab": {
     "base_uri": "https://localhost:8080/"
    },
    "id": "sWgYr3t1vH_h",
    "outputId": "f72f4a98-1870-4c91-b9ed-26322d065d9f"
   },
   "outputs": [
    {
     "data": {
      "text/plain": [
       "array([[ 1,  2, 77,  4],\n",
       "       [ 5,  6, 77,  8],\n",
       "       [ 9, 10, 77, 12],\n",
       "       [13, 14, 77, 16]])"
      ]
     },
     "execution_count": 29,
     "metadata": {},
     "output_type": "execute_result"
    }
   ],
   "source": [
    "#print array here\n",
    "mat"
   ]
  },
  {
   "cell_type": "code",
   "execution_count": null,
   "metadata": {
    "colab": {
     "base_uri": "https://localhost:8080/"
    },
    "id": "QNeWHxWsvH_h",
    "outputId": "4be47284-5e6f-4a19-db6d-f3507b252084"
   },
   "outputs": [
    {
     "data": {
      "text/plain": [
       "32"
      ]
     },
     "execution_count": 30,
     "metadata": {},
     "output_type": "execute_result"
    }
   ],
   "source": [
    "second_sum = np.sum(mat[:,1])\n",
    "second_sum"
   ]
  },
  {
   "cell_type": "markdown",
   "metadata": {
    "id": "vZl147w6vH_h"
   },
   "source": [
    "#### 23. Get the median,mean and std of 3rd row from array above"
   ]
  },
  {
   "cell_type": "code",
   "execution_count": null,
   "metadata": {
    "colab": {
     "base_uri": "https://localhost:8080/"
    },
    "id": "qqC8ZmIOvH_h",
    "outputId": "8e7066f3-d793-420b-b8b6-edde5e9e9adb"
   },
   "outputs": [
    {
     "data": {
      "text/plain": [
       "array([[ 1,  2, 77,  4],\n",
       "       [ 5,  6, 77,  8],\n",
       "       [ 9, 10, 77, 12],\n",
       "       [13, 14, 77, 16]])"
      ]
     },
     "execution_count": 31,
     "metadata": {},
     "output_type": "execute_result"
    }
   ],
   "source": [
    "mat"
   ]
  },
  {
   "cell_type": "code",
   "execution_count": null,
   "metadata": {
    "colab": {
     "base_uri": "https://localhost:8080/"
    },
    "id": "c9n5ZZYavH_h",
    "outputId": "839771cf-cdff-429a-f058-ffabbaa3b9dc"
   },
   "outputs": [
    {
     "data": {
      "text/plain": [
       "array([ 9, 10, 77, 12])"
      ]
     },
     "execution_count": 32,
     "metadata": {},
     "output_type": "execute_result"
    }
   ],
   "source": [
    "mat[2]"
   ]
  },
  {
   "cell_type": "code",
   "execution_count": null,
   "metadata": {
    "colab": {
     "base_uri": "https://localhost:8080/"
    },
    "id": "JkON3lYfvH_h",
    "outputId": "e1d94735-d183-4586-e759-87150d18a4b5"
   },
   "outputs": [
    {
     "data": {
      "text/plain": [
       "11.0"
      ]
     },
     "execution_count": 33,
     "metadata": {},
     "output_type": "execute_result"
    }
   ],
   "source": [
    "#median\n",
    "np.median(mat[2])"
   ]
  },
  {
   "cell_type": "code",
   "execution_count": null,
   "metadata": {
    "colab": {
     "base_uri": "https://localhost:8080/"
    },
    "id": "ien-Qn1RvH_h",
    "outputId": "a740ead7-3450-4678-f23e-5f89be46a47a"
   },
   "outputs": [
    {
     "data": {
      "text/plain": [
       "27.0"
      ]
     },
     "execution_count": 34,
     "metadata": {},
     "output_type": "execute_result"
    }
   ],
   "source": [
    "#mean\n",
    "np.mean(mat[2])"
   ]
  },
  {
   "cell_type": "code",
   "execution_count": null,
   "metadata": {
    "colab": {
     "base_uri": "https://localhost:8080/"
    },
    "id": "k1SdoNdPvH_i",
    "outputId": "252c462c-6538-48ef-83ce-07fd3c6ad7bb"
   },
   "outputs": [
    {
     "data": {
      "text/plain": [
       "28.88771365130858"
      ]
     },
     "execution_count": 35,
     "metadata": {},
     "output_type": "execute_result"
    }
   ],
   "source": [
    "#std\n",
    "np.std(mat[2])"
   ]
  },
  {
   "cell_type": "markdown",
   "metadata": {
    "collapsed": true,
    "id": "wwWzWM-IvH_i"
   },
   "source": [
    "# Pandas Section"
   ]
  },
  {
   "cell_type": "code",
   "execution_count": null,
   "metadata": {
    "id": "RQESi6b8vH_i"
   },
   "outputs": [],
   "source": [
    "import pandas as pd"
   ]
  },
  {
   "cell_type": "code",
   "execution_count": null,
   "metadata": {
    "colab": {
     "base_uri": "https://localhost:8080/"
    },
    "id": "HriZXq4nD8jJ",
    "outputId": "40768b7c-df2f-4230-ecb2-1caa09f01bc3"
   },
   "outputs": [
    {
     "name": "stdout",
     "output_type": "stream",
     "text": [
      "/content/sample_data\n"
     ]
    }
   ],
   "source": [
    "cd /content/sample_data/"
   ]
  },
  {
   "cell_type": "code",
   "execution_count": null,
   "metadata": {
    "colab": {
     "base_uri": "https://localhost:8080/",
     "height": 35
    },
    "id": "qX7xA_kKESlS",
    "outputId": "893b85b4-2b33-4fac-8de8-0c1ba7571004"
   },
   "outputs": [
    {
     "data": {
      "application/vnd.google.colaboratory.intrinsic+json": {
       "type": "string"
      },
      "text/plain": [
       "'/content/sample_data'"
      ]
     },
     "execution_count": 40,
     "metadata": {},
     "output_type": "execute_result"
    }
   ],
   "source": [
    "pwd"
   ]
  },
  {
   "cell_type": "markdown",
   "metadata": {
    "id": "kDIsGoyhvH_i"
   },
   "source": [
    "**Read Salaries.csv take a look at first 5 rows, df info and df statistical measurements**"
   ]
  },
  {
   "cell_type": "code",
   "execution_count": null,
   "metadata": {
    "id": "HeUdFGgIvH_i"
   },
   "outputs": [],
   "source": [
    "sal = pd.read_csv(\"/content/sample_data/Salaries.csv\", error_bad_lines=False)"
   ]
  },
  {
   "cell_type": "code",
   "execution_count": null,
   "metadata": {
    "colab": {
     "base_uri": "https://localhost:8080/",
     "height": 337
    },
    "id": "MI_EJNk6vH_i",
    "outputId": "d14d6d89-454e-4ecf-95ae-c510fd5ff2af"
   },
   "outputs": [
    {
     "data": {
      "text/html": [
       "\n",
       "  <div id=\"df-d4dfc3c4-18c9-4f42-a366-bef97bd534f6\">\n",
       "    <div class=\"colab-df-container\">\n",
       "      <div>\n",
       "<style scoped>\n",
       "    .dataframe tbody tr th:only-of-type {\n",
       "        vertical-align: middle;\n",
       "    }\n",
       "\n",
       "    .dataframe tbody tr th {\n",
       "        vertical-align: top;\n",
       "    }\n",
       "\n",
       "    .dataframe thead th {\n",
       "        text-align: right;\n",
       "    }\n",
       "</style>\n",
       "<table border=\"1\" class=\"dataframe\">\n",
       "  <thead>\n",
       "    <tr style=\"text-align: right;\">\n",
       "      <th></th>\n",
       "      <th>Id</th>\n",
       "      <th>EmployeeName</th>\n",
       "      <th>JobTitle</th>\n",
       "      <th>BasePay</th>\n",
       "      <th>OvertimePay</th>\n",
       "      <th>OtherPay</th>\n",
       "      <th>Benefits</th>\n",
       "      <th>TotalPay</th>\n",
       "      <th>TotalPayBenefits</th>\n",
       "      <th>Year</th>\n",
       "      <th>Notes</th>\n",
       "      <th>Agency</th>\n",
       "      <th>Status</th>\n",
       "    </tr>\n",
       "  </thead>\n",
       "  <tbody>\n",
       "    <tr>\n",
       "      <th>0</th>\n",
       "      <td>1</td>\n",
       "      <td>NATHANIEL FORD</td>\n",
       "      <td>GENERAL MANAGER-METROPOLITAN TRANSIT AUTHORITY</td>\n",
       "      <td>167411.18</td>\n",
       "      <td>0.00</td>\n",
       "      <td>400184.25</td>\n",
       "      <td>NaN</td>\n",
       "      <td>567595.43</td>\n",
       "      <td>567595.43</td>\n",
       "      <td>2011.0</td>\n",
       "      <td>NaN</td>\n",
       "      <td>San Francisco</td>\n",
       "      <td>NaN</td>\n",
       "    </tr>\n",
       "    <tr>\n",
       "      <th>1</th>\n",
       "      <td>2</td>\n",
       "      <td>GARY JIMENEZ</td>\n",
       "      <td>CAPTAIN III (POLICE DEPARTMENT)</td>\n",
       "      <td>155966.02</td>\n",
       "      <td>245131.88</td>\n",
       "      <td>137811.38</td>\n",
       "      <td>NaN</td>\n",
       "      <td>538909.28</td>\n",
       "      <td>538909.28</td>\n",
       "      <td>2011.0</td>\n",
       "      <td>NaN</td>\n",
       "      <td>San Francisco</td>\n",
       "      <td>NaN</td>\n",
       "    </tr>\n",
       "    <tr>\n",
       "      <th>2</th>\n",
       "      <td>3</td>\n",
       "      <td>ALBERT PARDINI</td>\n",
       "      <td>CAPTAIN III (POLICE DEPARTMENT)</td>\n",
       "      <td>212739.13</td>\n",
       "      <td>106088.18</td>\n",
       "      <td>16452.60</td>\n",
       "      <td>NaN</td>\n",
       "      <td>335279.91</td>\n",
       "      <td>335279.91</td>\n",
       "      <td>2011.0</td>\n",
       "      <td>NaN</td>\n",
       "      <td>San Francisco</td>\n",
       "      <td>NaN</td>\n",
       "    </tr>\n",
       "    <tr>\n",
       "      <th>3</th>\n",
       "      <td>4</td>\n",
       "      <td>CHRISTOPHER CHONG</td>\n",
       "      <td>WIRE ROPE CABLE MAINTENANCE MECHANIC</td>\n",
       "      <td>77916.00</td>\n",
       "      <td>56120.71</td>\n",
       "      <td>198306.90</td>\n",
       "      <td>NaN</td>\n",
       "      <td>332343.61</td>\n",
       "      <td>332343.61</td>\n",
       "      <td>2011.0</td>\n",
       "      <td>NaN</td>\n",
       "      <td>San Francisco</td>\n",
       "      <td>NaN</td>\n",
       "    </tr>\n",
       "    <tr>\n",
       "      <th>4</th>\n",
       "      <td>5</td>\n",
       "      <td>PATRICK GARDNER</td>\n",
       "      <td>DEPUTY CHIEF OF DEPARTMENT,(FIRE DEPARTMENT)</td>\n",
       "      <td>134401.60</td>\n",
       "      <td>9737.00</td>\n",
       "      <td>182234.59</td>\n",
       "      <td>NaN</td>\n",
       "      <td>326373.19</td>\n",
       "      <td>326373.19</td>\n",
       "      <td>2011.0</td>\n",
       "      <td>NaN</td>\n",
       "      <td>San Francisco</td>\n",
       "      <td>NaN</td>\n",
       "    </tr>\n",
       "  </tbody>\n",
       "</table>\n",
       "</div>\n",
       "      <button class=\"colab-df-convert\" onclick=\"convertToInteractive('df-d4dfc3c4-18c9-4f42-a366-bef97bd534f6')\"\n",
       "              title=\"Convert this dataframe to an interactive table.\"\n",
       "              style=\"display:none;\">\n",
       "        \n",
       "  <svg xmlns=\"http://www.w3.org/2000/svg\" height=\"24px\"viewBox=\"0 0 24 24\"\n",
       "       width=\"24px\">\n",
       "    <path d=\"M0 0h24v24H0V0z\" fill=\"none\"/>\n",
       "    <path d=\"M18.56 5.44l.94 2.06.94-2.06 2.06-.94-2.06-.94-.94-2.06-.94 2.06-2.06.94zm-11 1L8.5 8.5l.94-2.06 2.06-.94-2.06-.94L8.5 2.5l-.94 2.06-2.06.94zm10 10l.94 2.06.94-2.06 2.06-.94-2.06-.94-.94-2.06-.94 2.06-2.06.94z\"/><path d=\"M17.41 7.96l-1.37-1.37c-.4-.4-.92-.59-1.43-.59-.52 0-1.04.2-1.43.59L10.3 9.45l-7.72 7.72c-.78.78-.78 2.05 0 2.83L4 21.41c.39.39.9.59 1.41.59.51 0 1.02-.2 1.41-.59l7.78-7.78 2.81-2.81c.8-.78.8-2.07 0-2.86zM5.41 20L4 18.59l7.72-7.72 1.47 1.35L5.41 20z\"/>\n",
       "  </svg>\n",
       "      </button>\n",
       "      \n",
       "  <style>\n",
       "    .colab-df-container {\n",
       "      display:flex;\n",
       "      flex-wrap:wrap;\n",
       "      gap: 12px;\n",
       "    }\n",
       "\n",
       "    .colab-df-convert {\n",
       "      background-color: #E8F0FE;\n",
       "      border: none;\n",
       "      border-radius: 50%;\n",
       "      cursor: pointer;\n",
       "      display: none;\n",
       "      fill: #1967D2;\n",
       "      height: 32px;\n",
       "      padding: 0 0 0 0;\n",
       "      width: 32px;\n",
       "    }\n",
       "\n",
       "    .colab-df-convert:hover {\n",
       "      background-color: #E2EBFA;\n",
       "      box-shadow: 0px 1px 2px rgba(60, 64, 67, 0.3), 0px 1px 3px 1px rgba(60, 64, 67, 0.15);\n",
       "      fill: #174EA6;\n",
       "    }\n",
       "\n",
       "    [theme=dark] .colab-df-convert {\n",
       "      background-color: #3B4455;\n",
       "      fill: #D2E3FC;\n",
       "    }\n",
       "\n",
       "    [theme=dark] .colab-df-convert:hover {\n",
       "      background-color: #434B5C;\n",
       "      box-shadow: 0px 1px 3px 1px rgba(0, 0, 0, 0.15);\n",
       "      filter: drop-shadow(0px 1px 2px rgba(0, 0, 0, 0.3));\n",
       "      fill: #FFFFFF;\n",
       "    }\n",
       "  </style>\n",
       "\n",
       "      <script>\n",
       "        const buttonEl =\n",
       "          document.querySelector('#df-d4dfc3c4-18c9-4f42-a366-bef97bd534f6 button.colab-df-convert');\n",
       "        buttonEl.style.display =\n",
       "          google.colab.kernel.accessAllowed ? 'block' : 'none';\n",
       "\n",
       "        async function convertToInteractive(key) {\n",
       "          const element = document.querySelector('#df-d4dfc3c4-18c9-4f42-a366-bef97bd534f6');\n",
       "          const dataTable =\n",
       "            await google.colab.kernel.invokeFunction('convertToInteractive',\n",
       "                                                     [key], {});\n",
       "          if (!dataTable) return;\n",
       "\n",
       "          const docLinkHtml = 'Like what you see? Visit the ' +\n",
       "            '<a target=\"_blank\" href=https://colab.research.google.com/notebooks/data_table.ipynb>data table notebook</a>'\n",
       "            + ' to learn more about interactive tables.';\n",
       "          element.innerHTML = '';\n",
       "          dataTable['output_type'] = 'display_data';\n",
       "          await google.colab.output.renderOutput(dataTable, element);\n",
       "          const docLink = document.createElement('div');\n",
       "          docLink.innerHTML = docLinkHtml;\n",
       "          element.appendChild(docLink);\n",
       "        }\n",
       "      </script>\n",
       "    </div>\n",
       "  </div>\n",
       "  "
      ],
      "text/plain": [
       "   Id       EmployeeName  ...         Agency  Status\n",
       "0   1     NATHANIEL FORD  ...  San Francisco     NaN\n",
       "1   2       GARY JIMENEZ  ...  San Francisco     NaN\n",
       "2   3     ALBERT PARDINI  ...  San Francisco     NaN\n",
       "3   4  CHRISTOPHER CHONG  ...  San Francisco     NaN\n",
       "4   5    PATRICK GARDNER  ...  San Francisco     NaN\n",
       "\n",
       "[5 rows x 13 columns]"
      ]
     },
     "execution_count": 45,
     "metadata": {},
     "output_type": "execute_result"
    }
   ],
   "source": [
    "sal.head()"
   ]
  },
  {
   "cell_type": "code",
   "execution_count": null,
   "metadata": {
    "colab": {
     "base_uri": "https://localhost:8080/"
    },
    "id": "79--_GYbvH_i",
    "outputId": "08edb30f-8989-4222-bb1b-c74b5d98e4ee"
   },
   "outputs": [
    {
     "name": "stdout",
     "output_type": "stream",
     "text": [
      "<class 'pandas.core.frame.DataFrame'>\n",
      "RangeIndex: 19731 entries, 0 to 19730\n",
      "Data columns (total 13 columns):\n",
      " #   Column            Non-Null Count  Dtype  \n",
      "---  ------            --------------  -----  \n",
      " 0   Id                19731 non-null  int64  \n",
      " 1   EmployeeName      19731 non-null  object \n",
      " 2   JobTitle          19731 non-null  object \n",
      " 3   BasePay           19731 non-null  float64\n",
      " 4   OvertimePay       19730 non-null  float64\n",
      " 5   OtherPay          19730 non-null  float64\n",
      " 6   Benefits          0 non-null      float64\n",
      " 7   TotalPay          19730 non-null  float64\n",
      " 8   TotalPayBenefits  19730 non-null  float64\n",
      " 9   Year              19730 non-null  float64\n",
      " 10  Notes             0 non-null      float64\n",
      " 11  Agency            19730 non-null  object \n",
      " 12  Status            0 non-null      float64\n",
      "dtypes: float64(9), int64(1), object(3)\n",
      "memory usage: 2.0+ MB\n"
     ]
    }
   ],
   "source": [
    "sal.info()"
   ]
  },
  {
   "cell_type": "code",
   "execution_count": null,
   "metadata": {
    "colab": {
     "base_uri": "https://localhost:8080/",
     "height": 300
    },
    "id": "e15wlwbLvH_j",
    "outputId": "7ff73257-ca52-4c60-bcbe-1b2e7d21ad0c"
   },
   "outputs": [
    {
     "data": {
      "text/html": [
       "\n",
       "  <div id=\"df-bf62186f-4a15-4e0c-bf53-286fc5485960\">\n",
       "    <div class=\"colab-df-container\">\n",
       "      <div>\n",
       "<style scoped>\n",
       "    .dataframe tbody tr th:only-of-type {\n",
       "        vertical-align: middle;\n",
       "    }\n",
       "\n",
       "    .dataframe tbody tr th {\n",
       "        vertical-align: top;\n",
       "    }\n",
       "\n",
       "    .dataframe thead th {\n",
       "        text-align: right;\n",
       "    }\n",
       "</style>\n",
       "<table border=\"1\" class=\"dataframe\">\n",
       "  <thead>\n",
       "    <tr style=\"text-align: right;\">\n",
       "      <th></th>\n",
       "      <th>Id</th>\n",
       "      <th>BasePay</th>\n",
       "      <th>OvertimePay</th>\n",
       "      <th>OtherPay</th>\n",
       "      <th>Benefits</th>\n",
       "      <th>TotalPay</th>\n",
       "      <th>TotalPayBenefits</th>\n",
       "      <th>Year</th>\n",
       "      <th>Notes</th>\n",
       "      <th>Status</th>\n",
       "    </tr>\n",
       "  </thead>\n",
       "  <tbody>\n",
       "    <tr>\n",
       "      <th>count</th>\n",
       "      <td>19731.000000</td>\n",
       "      <td>19731.000000</td>\n",
       "      <td>19730.000000</td>\n",
       "      <td>19730.000000</td>\n",
       "      <td>0.0</td>\n",
       "      <td>19730.000000</td>\n",
       "      <td>19730.000000</td>\n",
       "      <td>19730.0</td>\n",
       "      <td>0.0</td>\n",
       "      <td>0.0</td>\n",
       "    </tr>\n",
       "    <tr>\n",
       "      <th>mean</th>\n",
       "      <td>9866.000000</td>\n",
       "      <td>92562.843269</td>\n",
       "      <td>7584.495871</td>\n",
       "      <td>5688.539924</td>\n",
       "      <td>NaN</td>\n",
       "      <td>105840.538104</td>\n",
       "      <td>105840.538104</td>\n",
       "      <td>2011.0</td>\n",
       "      <td>NaN</td>\n",
       "      <td>NaN</td>\n",
       "    </tr>\n",
       "    <tr>\n",
       "      <th>std</th>\n",
       "      <td>5695.993416</td>\n",
       "      <td>28288.773251</td>\n",
       "      <td>13323.558742</td>\n",
       "      <td>10053.331228</td>\n",
       "      <td>NaN</td>\n",
       "      <td>34265.127495</td>\n",
       "      <td>34265.127495</td>\n",
       "      <td>0.0</td>\n",
       "      <td>NaN</td>\n",
       "      <td>NaN</td>\n",
       "    </tr>\n",
       "    <tr>\n",
       "      <th>min</th>\n",
       "      <td>1.000000</td>\n",
       "      <td>0.000000</td>\n",
       "      <td>0.000000</td>\n",
       "      <td>0.000000</td>\n",
       "      <td>NaN</td>\n",
       "      <td>64064.650000</td>\n",
       "      <td>64064.650000</td>\n",
       "      <td>2011.0</td>\n",
       "      <td>NaN</td>\n",
       "      <td>NaN</td>\n",
       "    </tr>\n",
       "    <tr>\n",
       "      <th>25%</th>\n",
       "      <td>4933.500000</td>\n",
       "      <td>70377.475000</td>\n",
       "      <td>0.000000</td>\n",
       "      <td>120.000000</td>\n",
       "      <td>NaN</td>\n",
       "      <td>78721.787500</td>\n",
       "      <td>78721.787500</td>\n",
       "      <td>2011.0</td>\n",
       "      <td>NaN</td>\n",
       "      <td>NaN</td>\n",
       "    </tr>\n",
       "    <tr>\n",
       "      <th>50%</th>\n",
       "      <td>9866.000000</td>\n",
       "      <td>86887.210000</td>\n",
       "      <td>1830.600000</td>\n",
       "      <td>2225.855000</td>\n",
       "      <td>NaN</td>\n",
       "      <td>97987.755000</td>\n",
       "      <td>97987.755000</td>\n",
       "      <td>2011.0</td>\n",
       "      <td>NaN</td>\n",
       "      <td>NaN</td>\n",
       "    </tr>\n",
       "    <tr>\n",
       "      <th>75%</th>\n",
       "      <td>14798.500000</td>\n",
       "      <td>107698.600000</td>\n",
       "      <td>9430.505000</td>\n",
       "      <td>7633.340000</td>\n",
       "      <td>NaN</td>\n",
       "      <td>124606.275000</td>\n",
       "      <td>124606.275000</td>\n",
       "      <td>2011.0</td>\n",
       "      <td>NaN</td>\n",
       "      <td>NaN</td>\n",
       "    </tr>\n",
       "    <tr>\n",
       "      <th>max</th>\n",
       "      <td>19731.000000</td>\n",
       "      <td>294580.020000</td>\n",
       "      <td>245131.880000</td>\n",
       "      <td>400184.250000</td>\n",
       "      <td>NaN</td>\n",
       "      <td>567595.430000</td>\n",
       "      <td>567595.430000</td>\n",
       "      <td>2011.0</td>\n",
       "      <td>NaN</td>\n",
       "      <td>NaN</td>\n",
       "    </tr>\n",
       "  </tbody>\n",
       "</table>\n",
       "</div>\n",
       "      <button class=\"colab-df-convert\" onclick=\"convertToInteractive('df-bf62186f-4a15-4e0c-bf53-286fc5485960')\"\n",
       "              title=\"Convert this dataframe to an interactive table.\"\n",
       "              style=\"display:none;\">\n",
       "        \n",
       "  <svg xmlns=\"http://www.w3.org/2000/svg\" height=\"24px\"viewBox=\"0 0 24 24\"\n",
       "       width=\"24px\">\n",
       "    <path d=\"M0 0h24v24H0V0z\" fill=\"none\"/>\n",
       "    <path d=\"M18.56 5.44l.94 2.06.94-2.06 2.06-.94-2.06-.94-.94-2.06-.94 2.06-2.06.94zm-11 1L8.5 8.5l.94-2.06 2.06-.94-2.06-.94L8.5 2.5l-.94 2.06-2.06.94zm10 10l.94 2.06.94-2.06 2.06-.94-2.06-.94-.94-2.06-.94 2.06-2.06.94z\"/><path d=\"M17.41 7.96l-1.37-1.37c-.4-.4-.92-.59-1.43-.59-.52 0-1.04.2-1.43.59L10.3 9.45l-7.72 7.72c-.78.78-.78 2.05 0 2.83L4 21.41c.39.39.9.59 1.41.59.51 0 1.02-.2 1.41-.59l7.78-7.78 2.81-2.81c.8-.78.8-2.07 0-2.86zM5.41 20L4 18.59l7.72-7.72 1.47 1.35L5.41 20z\"/>\n",
       "  </svg>\n",
       "      </button>\n",
       "      \n",
       "  <style>\n",
       "    .colab-df-container {\n",
       "      display:flex;\n",
       "      flex-wrap:wrap;\n",
       "      gap: 12px;\n",
       "    }\n",
       "\n",
       "    .colab-df-convert {\n",
       "      background-color: #E8F0FE;\n",
       "      border: none;\n",
       "      border-radius: 50%;\n",
       "      cursor: pointer;\n",
       "      display: none;\n",
       "      fill: #1967D2;\n",
       "      height: 32px;\n",
       "      padding: 0 0 0 0;\n",
       "      width: 32px;\n",
       "    }\n",
       "\n",
       "    .colab-df-convert:hover {\n",
       "      background-color: #E2EBFA;\n",
       "      box-shadow: 0px 1px 2px rgba(60, 64, 67, 0.3), 0px 1px 3px 1px rgba(60, 64, 67, 0.15);\n",
       "      fill: #174EA6;\n",
       "    }\n",
       "\n",
       "    [theme=dark] .colab-df-convert {\n",
       "      background-color: #3B4455;\n",
       "      fill: #D2E3FC;\n",
       "    }\n",
       "\n",
       "    [theme=dark] .colab-df-convert:hover {\n",
       "      background-color: #434B5C;\n",
       "      box-shadow: 0px 1px 3px 1px rgba(0, 0, 0, 0.15);\n",
       "      filter: drop-shadow(0px 1px 2px rgba(0, 0, 0, 0.3));\n",
       "      fill: #FFFFFF;\n",
       "    }\n",
       "  </style>\n",
       "\n",
       "      <script>\n",
       "        const buttonEl =\n",
       "          document.querySelector('#df-bf62186f-4a15-4e0c-bf53-286fc5485960 button.colab-df-convert');\n",
       "        buttonEl.style.display =\n",
       "          google.colab.kernel.accessAllowed ? 'block' : 'none';\n",
       "\n",
       "        async function convertToInteractive(key) {\n",
       "          const element = document.querySelector('#df-bf62186f-4a15-4e0c-bf53-286fc5485960');\n",
       "          const dataTable =\n",
       "            await google.colab.kernel.invokeFunction('convertToInteractive',\n",
       "                                                     [key], {});\n",
       "          if (!dataTable) return;\n",
       "\n",
       "          const docLinkHtml = 'Like what you see? Visit the ' +\n",
       "            '<a target=\"_blank\" href=https://colab.research.google.com/notebooks/data_table.ipynb>data table notebook</a>'\n",
       "            + ' to learn more about interactive tables.';\n",
       "          element.innerHTML = '';\n",
       "          dataTable['output_type'] = 'display_data';\n",
       "          await google.colab.output.renderOutput(dataTable, element);\n",
       "          const docLink = document.createElement('div');\n",
       "          docLink.innerHTML = docLinkHtml;\n",
       "          element.appendChild(docLink);\n",
       "        }\n",
       "      </script>\n",
       "    </div>\n",
       "  </div>\n",
       "  "
      ],
      "text/plain": [
       "                 Id        BasePay    OvertimePay  ...     Year  Notes  Status\n",
       "count  19731.000000   19731.000000   19730.000000  ...  19730.0    0.0     0.0\n",
       "mean    9866.000000   92562.843269    7584.495871  ...   2011.0    NaN     NaN\n",
       "std     5695.993416   28288.773251   13323.558742  ...      0.0    NaN     NaN\n",
       "min        1.000000       0.000000       0.000000  ...   2011.0    NaN     NaN\n",
       "25%     4933.500000   70377.475000       0.000000  ...   2011.0    NaN     NaN\n",
       "50%     9866.000000   86887.210000    1830.600000  ...   2011.0    NaN     NaN\n",
       "75%    14798.500000  107698.600000    9430.505000  ...   2011.0    NaN     NaN\n",
       "max    19731.000000  294580.020000  245131.880000  ...   2011.0    NaN     NaN\n",
       "\n",
       "[8 rows x 10 columns]"
      ]
     },
     "execution_count": 46,
     "metadata": {},
     "output_type": "execute_result"
    }
   ],
   "source": [
    "sal.describe()"
   ]
  },
  {
   "cell_type": "markdown",
   "metadata": {
    "id": "ho39Q6QAvH_j"
   },
   "source": [
    "**How many different year value are there**"
   ]
  },
  {
   "cell_type": "code",
   "execution_count": null,
   "metadata": {
    "id": "k68n6CN9JIh1"
   },
   "outputs": [],
   "source": []
  },
  {
   "cell_type": "markdown",
   "metadata": {
    "id": "-iYkoc03vH_j"
   },
   "source": [
    "**Print out max and avg Totalpay**"
   ]
  },
  {
   "cell_type": "code",
   "execution_count": null,
   "metadata": {
    "colab": {
     "base_uri": "https://localhost:8080/"
    },
    "id": "YCJMsYuvvH_j",
    "outputId": "bf3e5f72-b1fb-48e2-fc7f-c9b28266c1db"
   },
   "outputs": [
    {
     "data": {
      "text/plain": [
       "567595.43"
      ]
     },
     "execution_count": 48,
     "metadata": {},
     "output_type": "execute_result"
    }
   ],
   "source": [
    "#max\n",
    "sal[\"TotalPay\"].max()"
   ]
  },
  {
   "cell_type": "code",
   "execution_count": null,
   "metadata": {
    "id": "j6_qSyZWJXXT"
   },
   "outputs": [],
   "source": []
  },
  {
   "cell_type": "code",
   "execution_count": null,
   "metadata": {
    "colab": {
     "base_uri": "https://localhost:8080/"
    },
    "id": "5Jfq2fJRvH_k",
    "outputId": "f753bccd-f790-4e90-fd23-874ed29d2ee3"
   },
   "outputs": [
    {
     "data": {
      "text/plain": [
       "105840.53810440995"
      ]
     },
     "execution_count": 47,
     "metadata": {},
     "output_type": "execute_result"
    }
   ],
   "source": [
    "#avg\n",
    "sal[\"TotalPay\"].mean()"
   ]
  },
  {
   "cell_type": "markdown",
   "metadata": {
    "id": "jSdTFBaDvH_k"
   },
   "source": [
    "# **How many records are there which have TotalPay bigger than avg TotalPay**"
   ]
  },
  {
   "cell_type": "code",
   "execution_count": null,
   "metadata": {
    "colab": {
     "base_uri": "https://localhost:8080/"
    },
    "id": "PDBYutbRvH_k",
    "outputId": "7aa4cbbf-d4dd-46eb-fad5-a1ac47ff7b27"
   },
   "outputs": [
    {
     "data": {
      "text/plain": [
       "8298"
      ]
     },
     "execution_count": 56,
     "metadata": {},
     "output_type": "execute_result"
    }
   ],
   "source": [
    "sal.TotalPay[sal.TotalPay>sal.TotalPay.mean()].count()"
   ]
  },
  {
   "cell_type": "markdown",
   "metadata": {
    "id": "ghVa9x5pvH_k"
   },
   "source": [
    "**How much does ALBERT PARDINI make (including benefits)?**"
   ]
  },
  {
   "cell_type": "code",
   "execution_count": null,
   "metadata": {
    "colab": {
     "base_uri": "https://localhost:8080/"
    },
    "id": "6PhlUxyhvH_k",
    "outputId": "e00ebb01-0da7-4dcd-c7a0-35a81268f19d"
   },
   "outputs": [
    {
     "data": {
      "text/plain": [
       "2    335279.91\n",
       "Name: TotalPayBenefits, dtype: float64"
      ]
     },
     "execution_count": 58,
     "metadata": {},
     "output_type": "execute_result"
    }
   ],
   "source": [
    "sal[sal[\"EmployeeName\"]==\"ALBERT PARDINI\"][\"TotalPayBenefits\"]"
   ]
  },
  {
   "cell_type": "markdown",
   "metadata": {
    "id": "t8sJSXbBvH_k"
   },
   "source": [
    "**Who is lowest paid person**"
   ]
  },
  {
   "cell_type": "code",
   "execution_count": null,
   "metadata": {
    "colab": {
     "base_uri": "https://localhost:8080/"
    },
    "id": "1BvF0Y7mvH_l",
    "outputId": "10edc5e1-dd18-478a-8372-0dabc2275d3d"
   },
   "outputs": [
    {
     "data": {
      "text/plain": [
       "19729    JASIRI MSHAURI\n",
       "Name: EmployeeName, dtype: object"
      ]
     },
     "execution_count": 63,
     "metadata": {},
     "output_type": "execute_result"
    }
   ],
   "source": [
    "sal[sal.TotalPayBenefits==sal.TotalPayBenefits.min()]['EmployeeName']"
   ]
  },
  {
   "cell_type": "markdown",
   "metadata": {
    "id": "4Jo3o_KMvH_l"
   },
   "source": [
    "**What are the unique Jobs in dataset?**"
   ]
  },
  {
   "cell_type": "code",
   "execution_count": null,
   "metadata": {
    "colab": {
     "base_uri": "https://localhost:8080/"
    },
    "id": "9FWlyHQ7vH_l",
    "outputId": "e30c88ea-2fee-4fb1-dba5-971550535d49"
   },
   "outputs": [
    {
     "data": {
      "text/plain": [
       "array(['GENERAL MANAGER-METROPOLITAN TRANSIT AUTHORITY',\n",
       "       'CAPTAIN III (POLICE DEPARTMENT)',\n",
       "       'WIRE ROPE CABLE MAINTENANCE MECHANIC',\n",
       "       'DEPUTY CHIEF OF DEPARTMENT,(FIRE DEPARTMENT)',\n",
       "       'ASSISTANT DEPUTY CHIEF II', 'BATTALION CHIEF, (FIRE DEPARTMENT)',\n",
       "       'DEPUTY DIRECTOR OF INVESTMENTS',\n",
       "       'CHIEF OF DEPARTMENT, (FIRE DEPARTMENT)',\n",
       "       'ASSISTANT CHIEF OF DEPARTMENT, (FIRE DEPARTMENT)',\n",
       "       'EXECUTIVE CONTRACT EMPLOYEE', 'DEPARTMENT HEAD V',\n",
       "       'COMMANDER III, (POLICE DEPARTMENT)',\n",
       "       'CAPTAIN, EMERGENCYCY MEDICAL SERVICES',\n",
       "       'ASSISTANT MEDICAL EXAMINER', 'CAPTAIN, FIRE SUPPRESSION',\n",
       "       'CHIEF OF POLICE', 'DEPUTY CHIEF III (POLICE DEPARTMENT)',\n",
       "       'INSPECTOR III, (POLICE DEPARTMENT)',\n",
       "       'ELECTRONIC MAINTENANCE TECHNICIAN',\n",
       "       'ADMINISTRATOR, SFGH MEDICAL CENTER',\n",
       "       'LIEUTENANT III (POLICE DEPARTMENT)', 'FIREFIGHTER',\n",
       "       'NURSING SUPERVISOR PSYCHIATRIC', 'MAYOR',\n",
       "       'LIEUTENANT, FIRE DEPARTMENT', 'INCIDENT SUPPORT SPECIALIST',\n",
       "       'ANESTHETIST', 'DISTRICT ATTORNEY',\n",
       "       'ELECTRICAL TRANSIT MECHANIC, ASSISTANT SUPERVISOR',\n",
       "       'PORT DIRECTOR',\n",
       "       'LIEUTENANT, BUREAU OF FIRE PREVENTION AND PUBLIC S',\n",
       "       'SENIOR PHYSICIAN SPECIALIST', 'FIRE FIGHTER PARAMEDIC',\n",
       "       'MANAGER VII', 'TRANSIT SUPERVISOR',\n",
       "       'INSPECTOR, BUREAU OF FIRE PREVENTION AND PUBLIC SA',\n",
       "       'MANAGER VIII', 'DEPUTY DIRECTOR II - MUNICIPAL TRANSPORTATION AG',\n",
       "       'NURSING SUPERVISOR', 'POLICE OFFICER III', \"SHERIFF'S LIEUTENANT\",\n",
       "       'DEPUTY DIRECTOR V', 'SUPERVISING PHYSICIAN SPECIALIST',\n",
       "       'DEPARTMENT HEAD IV', 'FORENSIC TOXICOLOGIST',\n",
       "       'CONFIDENTIAL CHIEF ATTORNEY II (CIVIL & CRIMINAL)',\n",
       "       'SERGEANT III (POLICE DEPARTMENT)', 'DEPUTY SHERIFF',\n",
       "       'NURSE MANAGER', 'ELECTRICAL TRANSIT SYSTEM MECHANIC',\n",
       "       'CITY ATTORNEY', 'MARINE ENGINEER OF FIRE BOATS',\n",
       "       'CHIEF ATTORNEY I (CIVIL & CRIMINAL)',\n",
       "       'CAPTAIN, BUREAU OF FIRE PREVENTION AND PUBLIC SAFE',\n",
       "       'ELECTRICAL TRANSIT SHOP SUPERVISOR I', 'POLICE OFFICER I',\n",
       "       'POLICE OFFICER II', 'SERGEANT I (POLICE DEPARTMENT)',\n",
       "       'SPECIAL ASSISTANT XXII', 'DEPUTY DIRECTOR IV',\n",
       "       'WIRE ROPE CABLE MAINTENANCE SUPERVISOR', 'PUBLIC DEFENDER',\n",
       "       'SHERIFF', 'HUMAN RESOURCES DIRECTOR',\n",
       "       'INVESTIGATOR, BUREAU OF FIRE INVESTIGATION',\n",
       "       'ASSISTANT CHIEF ATTORNEY II', 'DEPUTY DIRECTOR III', 'PHARMACIST',\n",
       "       'TRANSIT OPERATIONS SPECIALIST', 'DEPARTMENT HEAD III',\n",
       "       'CHIEF PROBATION OFFICER, JUVENILE COURT', \"SHERIFF'S SERGEANT\",\n",
       "       'ASSISTANT INSPECTOR (POLICE DEPARTMENT)',\n",
       "       'DIAGNOSTIC IMAGING TECH II', 'DIAGNOSTIC IMAGING TECH III',\n",
       "       'CHIEF ADULT PROBATION OFFICER', 'MANAGER VI',\n",
       "       'FIRE SAFETY INSPECTOR II', 'MAINTENANCE MACHINIST',\n",
       "       'ASSISTANT INSPECTOR III (POLICE DEPARTMENT)',\n",
       "       'DEPUTY DIRECTOR I - MUNICIPAL TRANSPORTATION AGE',\n",
       "       'DIRECTOR, EMPLOYEE RELATIONS DIVISION',\n",
       "       'ASSISTANT CHIEF ATTORNEY I', 'TRAIN CONTROLLER',\n",
       "       'PHYSICIAN ASSISTANT', 'PHYSICIAN SPECIALIST',\n",
       "       'AUTOMOTIVE MECHANIC SUPERVISOR I', 'ATTORNEY (CIVIL/CRIMINAL)',\n",
       "       'SERGEANT II (POLICE DEPARTMENT)', 'ELECTRICIAN',\n",
       "       'NURSE PRACTITIONER',\n",
       "       'MECHANICAL SHOP AND EQUIPMENT SUPERINTENDENT',\n",
       "       'HEAD ATTORNEY, CIVIL AND CRIMINAL', 'PRINCIPAL CIVIL ENGINEER',\n",
       "       'ASSOCIATE ENGINEER', 'PROJECT MANAGER IV', 'PILOT OF FIRE BOATS',\n",
       "       'DEPARTMENT HEAD I', 'SENIOR ENGINEER', 'COURT EXECUTIVE OFFICER',\n",
       "       'ENGINEER', 'ASSISTANT SHERIFF',\n",
       "       'BUILDINGS AND GROUNDS MAINTENANCE SUPERINTENDENT',\n",
       "       'ELECTRONIC MAINTENANCE TECHNICIAN ASSISTANT SUPERV',\n",
       "       'CLINICAL PHARMACIST', 'DEPARTMENT HEAD II',\n",
       "       'CLINICAL NURSE SPECIALIST', 'NURSE MIDWIFE',\n",
       "       'ELECTRICAL TRANSIT MECHANIC SUPERVISOR I', 'MANAGER V',\n",
       "       'ATTORNEY FOR THE PUBLIC ADMINISTRATOR', 'CHIEF DEPUTY SHERIFF',\n",
       "       'SENIOR DEPUTY SHERIFF', 'PROJECT MANAGER III',\n",
       "       'TRACK MAINTENANCE WORKER SUPERVISOR I', 'MAYORAL STAFF XVII',\n",
       "       'MANAGER VII - MUNICIPAL TRANSPORTATION AGENCY',\n",
       "       'HEATING AND VENTILATING INSPECTOR',\n",
       "       'ASST. CHIEF PROBATION OFFICER-JUVENILE PROBATION',\n",
       "       'DIRECTOR, INFORMATION TECHNOLOGY GROUP',\n",
       "       'UTILITY PLUMBER SUPERVISOR II',\n",
       "       'COMMUNICATIONS LINE WORKER SUPERVISOR II',\n",
       "       'ASSISTANT INSPECTOR II (POLICE DEPARTMENT)', 'ASSESSOR',\n",
       "       'MANAGER VIII - MUNICIPAL TRANSPORTATION AGENCY', 'MANAGER IV',\n",
       "       'INSPECTOR, (POLICE DEPARTMENT)', 'IS ENGINEER - PRINCIPAL',\n",
       "       'REGISTERED NURSE', 'SPECIAL NURSE',\n",
       "       'INFORMATION SERVICES MANAGER', 'TRANSMISSION LINE SUPERVISOR I',\n",
       "       'SUPERVISING PHARMACIST', 'SEWAGE TREATMENT PLANT SUPERINTENDENT',\n",
       "       'TREASURER', 'SENIOR POWER GENERATION TECHNICIAN',\n",
       "       'DEPUTY DIRECTOR II', \"CHIEF DISTRICT ATTORNEY'S INVESTIGATOR\",\n",
       "       'LANDSCAPE ARCHITECTURAL ASSOCIATE II',\n",
       "       'ARCHITECTURAL ASSOCIATE  I', 'LANDSCAPE ARCHITECT', 'ARCHITECT',\n",
       "       'STATIONARY ENGINEER', 'PLUMBING INSPECTOR', 'AUTOMOTIVE MECHANIC',\n",
       "       'CHIEF STATIONARY ENGINEER', 'SENIOR COURT STAFF ATTORNEY',\n",
       "       'HEAD PARK PATROL OFFICER', 'UNDERSHERIFF',\n",
       "       'ASSISTANT ELECTRONIC MAINTENANCE TECHNICIAN', \"SHERIFF'S CAPTAIN\",\n",
       "       'MANAGER III', 'BOARD SECRETARY - MUNICIPAL TRANSPORTATION AGENC',\n",
       "       'WATER CONSTRUCTION AND MAINTENANCE SUPERINTENDENT',\n",
       "       'LIEUTENANT I, (POLICE DEPARTMENT)',\n",
       "       'LIEUTENANT II (POLICE DEPARTMENT)', 'DIAGNOSTIC IMAGING TECH I',\n",
       "       'MANAGER II - MUNICIPAL TRANSPORTATION AGENCY',\n",
       "       'MANAGER VI - MUNICIPAL TRANSPORTATION AGENCY',\n",
       "       'ATTORNEY, TAX COLLECTOR', 'COURT COMMISSIONER',\n",
       "       'PRINCIPAL ADMINISTRATIVE ANALYST', 'SENIOR RADIO TECHNICIAN',\n",
       "       'ADMINISTRATIVE ENGINEER', 'BUILDING INSPECTOR',\n",
       "       'CHIEF WATER SERVICE INSPECTOR', 'POWER GENERATION SUPERVISOR',\n",
       "       'TRANSIT OPERATOR', 'UTILITY PLUMBER SUPERVISOR I',\n",
       "       'RADIOLOGIC TECHNOLOGIST SUPERVISOR', 'DENTIST',\n",
       "       'BUILDING PLANS ENGINEER', 'INSPECTOR II, (POLICE DEPARTMENT)',\n",
       "       'TELECOMMUNICATIONS TECHNICIAN SUPERVISOR',\n",
       "       'SUPERVISING ELECTRONIC MAINTENANCE TECHNICIAN',\n",
       "       'INSTITUTIONAL POLICE SERGEANT', 'TRANSIT POWER LINE SUPERVISOR I',\n",
       "       'SENIOR COUNSELOR, JUVENILE HALL', 'COURT ADMINISTRATOR',\n",
       "       'PLUMBER SUPERVISOR I', 'COURT COMPUTER SYSTEMS MANAGER',\n",
       "       'SENIOR CONSTRUCTION INSPECTOR', 'CRIMINALIST III',\n",
       "       'TRANSIT POWER LINE WORKER', 'SEWER REPAIR SUPERVISOR',\n",
       "       'SENIOR LIGHT RAIL VEHICLE EQUIPMENT ENGINEER',\n",
       "       'TRANSMISSION AND DISTRIBUTION LINE WORKER', 'MANAGER II',\n",
       "       'ARCHITECTURAL ASSOCIATE II',\n",
       "       'AUTOMOTIVE TRANSIT SHOP SUPERVISOR I',\n",
       "       'MANAGER V - MUNICIPAL TRANSPORTATION AGENCY',\n",
       "       'IS PROJECT DIRECTOR', 'TRANSIT CAR CLEANER',\n",
       "       'CHIEF STATIONARY ENGINEER, WATER TREATMENT PLANT', 'PLUMBER',\n",
       "       'DISABILITY ACCESS COORDINATOR',\n",
       "       'AUTOMOTIVE MECHANIC ASSISTANT SUPERVISOR',\n",
       "       'AUTOMOTIVE MACHINIST ASSISTANT SUPERVISOR', 'LAW LIBRARIAN',\n",
       "       'PROJECT MANAGER II', 'SENIOR STATIONARY ENGINEER',\n",
       "       'TRANSIT POWER LINE WORKER SUPERVISOR II',\n",
       "       'ASST. CHIEF, BUREAU OF CLAIMS INVEST. & ADMIN',\n",
       "       'IS BUSINESS ANALYST - PRINCIPAL',\n",
       "       'POWER GENERATION TECHNICIAN II', 'CABLE SPLICER',\n",
       "       'CONSTRUCTION INSPECTOR', 'IS ENGINEER - SENIOR', 'PLANNER V',\n",
       "       'CRIME LABORATORY MANAGER', 'SHEET METAL WORKER SUPERVISOR II',\n",
       "       'COMMUNICATIONS SYSTEMS TECHNICIAN', 'IS ENGINEER - JOURNEY',\n",
       "       'SUPERINTENDENT OF WATER TREATMENT FACILITIES',\n",
       "       'STATION AGENT, MUNICIPAL RAILWAY', 'STRUCTURAL ENGINEER',\n",
       "       'PUBLIC HEALTH NURSE', 'COURT STAFF ATTORNEY II',\n",
       "       'HEAD AIRPORT ELECTRICIAN',\n",
       "       'ASSISTANT DIRECTOR OF CLINICAL SERVICES II',\n",
       "       'FIRE PROTECTION ENGINEER', 'SPECIAL ASSISTANT XVI',\n",
       "       'ASSISTANT DEPUTY DIRECTOR, PORT', 'FIRE RESCUE PARAMEDIC',\n",
       "       'DIRECTOR, FISCAL SERVICES', \"DISTRICT ATTORNEY'S INVESTIGATOR\",\n",
       "       'TRANSIT PAINT SHOP SUPERVISOR I', 'ELECTRICIAN SUPERVISOR II',\n",
       "       \"PRINCIPAL DISTRICT ATTORNEY'S INVESTIGATOR\",\n",
       "       'BUILDINGS AND GROUNDS MAINTENANCE SUPERVISOR',\n",
       "       'SENIOR WATER SERVICE INSPECTOR', 'IS BUSINESS ANALYST - SENIOR',\n",
       "       'MAINTENANCE CONTROLLER', 'ELECTRICIAN SUPERVISOR I',\n",
       "       'MANAGER, EMPLOYEE RELATIONS DIV', 'TRAFFIC HEARING OFFICER',\n",
       "       'ASSISTANT ENGINEER', 'LANDSCAPE ARCHITECTURAL ASSOCIATE I',\n",
       "       'CHIEF BUILDING INSPECTOR', 'MAINTENANCE MACHINIST SUPERVISOR I',\n",
       "       'MANAGER IV - MUNICIPAL TRANSPORTATION AGENCY', 'UTILITY PLUMBER',\n",
       "       'SENIOR ELECTRICAL INSPECTOR', 'ELECTRICAL INSPECTOR',\n",
       "       'SENIOR STATIONARY ENGINEER, WATER TREATMENT PLANT',\n",
       "       'COMMUNICATION LINE SUPERVISOR I', 'ELECTRICAL LINE WORKER',\n",
       "       'MAYORAL STAFF XVI', 'AIRPORT MECHANICAL MAINTENANCE SUPERVISOR',\n",
       "       'COURT REPORTER COORDINATOR', 'CHIEF PLUMBING INSPECTOR',\n",
       "       'OPERATING ROOM NURSE', 'WELDER',\n",
       "       'MENTAL HEALTH TREATMENT SPECIALIST',\n",
       "       'TRANSPORTATION SAFETY SPECIALIST',\n",
       "       'SENIOR POLICE COMMUNICATIONS DISPATCHER', 'UTILITY SPECIALIST',\n",
       "       'CEMENT FINISHER SUPERVISOR II',\n",
       "       'ASSISTANT COURT REPORTER COORDINATOR',\n",
       "       'PRINCIPAL REAL PROPERTY OFFICER', 'RESEARCH PSYCHOLOGIST',\n",
       "       'LOCKSMITH SUPERVISOR I', 'SUPERVISING CHEMIST',\n",
       "       'SENIOR PLUMBING INSPECTOR', 'OPERATING ENGINEER, UNIVERSAL',\n",
       "       'LABORATORY SERVICES MANAGER', 'MANAGER I',\n",
       "       'MANAGER, UNIFIED FAMILY COURT SERVICES',\n",
       "       'DIRECTOR, HUMAN RESOURCES', 'SENIOR BUILDING INSPECTOR',\n",
       "       'TRANSIT MANAGER II', 'PLANNER IV',\n",
       "       'EMERGENCY MEDICAL SERVICES AGENCY SPECIALIST',\n",
       "       'PUBLIC SAFETY COMMUNICATIONS DISPATCHER',\n",
       "       'WATER OPERATIONS ANALYST', 'CHIEF ELECTRICAL INSPECTOR',\n",
       "       'TRAFFIC SIGNAL ELECTRICIAN', 'AUTOMOTIVE BODY AND FENDER WORKER',\n",
       "       'APPRENTICE STATIONARY ENGINEER',\n",
       "       'AUTOMOTIVE BODY AND FENDER WORKER SUPERVISOR I',\n",
       "       'AUTOMOTIVE MACHINIST', 'SUPERVISING PURCHASER',\n",
       "       'CHIEF STATIONARY ENGINEER, SEWAGE PLANT',\n",
       "       'COURT COMPUTER FACILITIES COORDINATOR', 'PLUMBER SUPERVISOR II',\n",
       "       'MANAGER III - MUNICIPAL TRANSPORTATION AGENCY',\n",
       "       'CLAIMS INVESTIGATOR', 'STEAMFITTER',\n",
       "       'PROTECTIVE SERVICES SUPERVISOR', 'CARPENTER SUPERVISOR I',\n",
       "       'MAYORAL STAFF XV', 'COUNSELOR, LOG CABIN RANCH',\n",
       "       'CHIEF HOUSING INSPECTOR', \"MEDICAL EXAMINER'S INVESTIGATOR II\",\n",
       "       'DIRECTOR, JUVENILE HALL', 'IS PROGRAMMER ANALYST - PRINCIPAL',\n",
       "       'TRAF SIGNAL ELECTRICIAN SUP II', 'IS ADMINISTRATOR III',\n",
       "       \"ASSISTANT CHIEF DISTRICT ATTORNEY'S INVESTIGATOR\",\n",
       "       'STEAMFITTER ASSISTANT SUPERVISOR',\n",
       "       'SENIOR STATIONARY ENGINEER, SEWAGE PLANT', 'COURT REPORTER',\n",
       "       'AIRPORT ELECTRICIAN', 'AIRPORT ELECTRICIAN SUPERVISOR',\n",
       "       'COURT MANAGER', 'HEALTH PROGRAM COORDINATOR III',\n",
       "       'SUPERVISING WASTEWATER CONTROL INSPECTOR',\n",
       "       'TRAF SIGNAL ELECTRICIAN SUP I', 'LINE INSPECTOR',\n",
       "       'PRINCIPAL ADMINISTRATIVE ANAYLST II', 'WATER SERVICE INSPECTOR',\n",
       "       'PUBLIC RELATIONS MANAGER',\n",
       "       'SENIOR ENVIRONMENTAL HEALTH INSPECTOR',\n",
       "       'CONTRACT COMPLIANCE OFFICER II',\n",
       "       'SENIOR INDUSTRIAL HYGIENIST DEPT OF PUBLIC HEALTH',\n",
       "       'SAFETY OFFICER', 'AUTOMOTIVE MACHINIST SUPERVISOR I',\n",
       "       'PLANNER IV-ENVIRONMENTAL REVIEW',\n",
       "       'DIVISION DIRECTOR ADULT PROBATION', 'PROTECTIVE SERVICES WORKER',\n",
       "       \"MEDICAL EXAMINER'S INVESTIGATOR III\", 'AUTOMOTIVE SERVICE WORKER',\n",
       "       'DIRECTOR, PROBATE', 'IS ADMINISTRATOR - SUPERVISOR',\n",
       "       'SENIOR HOUSING INSPECTOR', 'SEWER SERVICE WORKER',\n",
       "       'STREET REPAIR SUPERVISOR II', 'ELECTRIC MOTOR REPAIRER',\n",
       "       'COMMUNICATIONS DIRECTOR',\n",
       "       'COURT COMPUTER APPLICATIONS PROGRAMMER',\n",
       "       'DIAGNOSTIC IMAGING TECH IV', 'PROJECT MANAGER I',\n",
       "       'ASPHALT FINISHER SUPERVISOR I', 'TRANSIT MANAGER I',\n",
       "       'CRIMINALIST II', 'CHIEF MICROBIOLOGIST', 'CHIEF SURVEYOR',\n",
       "       'SENIOR ADMINISTRATIVE ANALYST', 'PSYCHIATRIC TECHNICIAN',\n",
       "       'SUPERVISING BIOLOGIST', 'AIRPORT OPERATIONS SUPERVISOR',\n",
       "       'TRANSIT PLANNER IV', 'MEDIA/SECURITY SYSTEMS SUPERVISOR',\n",
       "       \"SENIOR DISTRICT ATTORNEY'S INVESTIGATOR\",\n",
       "       'PRINCIPAL PERSONNEL ANALYST', 'SENIOR PHYSICAL THERAPIST',\n",
       "       'SENIOR OCCUPATIONAL THERAPIST', 'SHELTER VETERINARIAN',\n",
       "       'CHIEF FIRE ALARM DISPATCHER', 'DEPUTY DIRECTOR I',\n",
       "       'EXECUTIVE ASSISTANT TO THE GENERAL MANAGER, RETIRE',\n",
       "       'AIRPORT ECONOMIC PLANNER', 'SWITCH REPAIRER',\n",
       "       'POWER HOUSE ELECTRICIAN SUPERVISOR I', 'SAFETY ANALYST',\n",
       "       'BIOLOGIST III', 'PARKING ENFORCEMENT ADMINISTRATOR',\n",
       "       'PRINCIPAL ENVIRONMENTAL HEALTH INSPECTOR',\n",
       "       'SENIOR EMPLOYEE RELATIONS REPRESENTATIVE', 'PAINTER SUPERVISOR I',\n",
       "       'SENIOR SYSTEMS ACCOUNTANT', 'COUNSELOR, FAMILY COURT SERVICE',\n",
       "       'GOVERNMENT AND PUBLIC AFFAIRS MANAGER',\n",
       "       'ELECTRONIC INSTRUMENTATION TECHNICIAN,WTR PLTNCN',\n",
       "       'CAR AND AUTO PAINTER',\n",
       "       'PERFORMANCE ANALYST III - PROJECT MANAGER',\n",
       "       'UTILITY PLUMBER APPRENTICE', 'PRINCIPAL MANAGEMENT ANALYST',\n",
       "       'LOCKSMITH', 'SENIOR AIRPORT COMMUNICATIONS DISPATCHER',\n",
       "       'SENIOR PROPERTY MANAGER, PORT',\n",
       "       'HEAVY EQUIPMENT OPERATIONS SUPERVISOR', 'MAINTENANCE PLANNER',\n",
       "       'SENIOR STREET INSPECTOR', 'SENIOR REAL PROPERTY OFFICER',\n",
       "       'ASSISTANT DIRECTOR OF CLINICAL SERVICES I', 'TRUCK DRIVER',\n",
       "       'DIRECTOR, PROBATION SERVICES', 'SENIOR CLAIMS INVESTIGATOR',\n",
       "       'TRACK MAINTENANCE WORKER',\n",
       "       'WATER AND POWER MAINTENANCE SUPERVISOR I',\n",
       "       'ASSOCIATE AFFIRMATIVE ACTION COORDINATOR',\n",
       "       'POLICE COMMUNICATIONS SHIFT SUPERVISOR',\n",
       "       'STREET ENVIRONMENTAL SERVICES OPERATIONS SUPERVI',\n",
       "       'ASSISTANT LAW LIBRARIAN', 'CEMENT FINISHER SUPERVISOR I',\n",
       "       'SENIOR PLAN CHECKER',\n",
       "       'STATIONARY ENGINEER, WATER TREATMENT PLANT',\n",
       "       'MAINTENANCE MANAGER', 'CLERK', 'CRANE MECHANIC SUPERVISOR',\n",
       "       'AIRPORT COMMUNICATIONS OPERATOR',\n",
       "       'MANAGER I - MUNICIPAL TRANSPORTATION AGENCY',\n",
       "       'SUPERVISING CLINICAL PSYCHOLOGIST', 'CHEMIST III',\n",
       "       'ARCHITECTURAL ADMINISTRATOR', 'PRINCIPAL REAL PROPERTY APPRAISER',\n",
       "       'GENERAL LABORER SUPERVISOR I', 'SUPERVISING PARTS STOREKEEPER',\n",
       "       'CITY SHOPS ASSISTANT SUPERINTENDENT', 'INDUSTRIAL HYGIENIST',\n",
       "       'HOUSING INSPECTOR', 'MATERIALS COORDINATOR',\n",
       "       'PRINCIPAL PERSONAL PROPERTY AUDITOR',\n",
       "       'STATIONARY ENGINEER, SEWAGE PLANT', 'LICENSED VOCATIONAL NURSE',\n",
       "       'MARITIME MARKETING REPRESENTATIVE',\n",
       "       'COURT COMPUTER SYSTEMS ENGINEER II',\n",
       "       'COURT COMPUTER APPLICATIONS ANALYST',\n",
       "       'SENIOR HUMAN RESOURCES ANALYST',\n",
       "       'PRINCIPAL ENVIRONMENTAL SPECIALIST',\n",
       "       'SUPERVISING ADULT PROBATION OFFICER',\n",
       "       'SUPERVISING PROBATION OFFICER, JUVENILE COURT',\n",
       "       'SUPERVISING AUDITOR', 'CLAIMS ADJUSTER',\n",
       "       'ELEVATOR AND CRANE TECHNICIAN', 'COURT SUPERVISOR II',\n",
       "       'MEMBER, BOARD OF SUPERVISORS', 'PARTS STOREKEEPER',\n",
       "       'WATER CONSERVATION ADMINISTRATOR',\n",
       "       'TRANSIT CAR CLEANER ASSISTANT SUPERVISOR',\n",
       "       'SHEET METAL SUPERVISOR I', 'MAYORAL STAFF XIII',\n",
       "       \"SENIOR CLAIMS INVESTIGATOR,CITY ATTORNEY'S OFFICE\",\n",
       "       'SENIOR MAINTENANCE CONTROLLER', 'GLAZIER',\n",
       "       'FISCAL SERVICES COORDINATOR', 'SECRETARY TO THE PRESIDING JUDGE',\n",
       "       'HEALTH WORKER IV', 'POWER PLANT SUPERVISOR I',\n",
       "       'OCCUPATIONAL THERAPIST', 'SURVEY ASSOCIATE',\n",
       "       'AUTOMOTIVE SERVICE WORKER ASSISTANT SUPERVISOR',\n",
       "       'SENIOR COMMUNITY DEVELOPMENT SPECIALIST I',\n",
       "       'CHIEF VICTIM/WITNESS INVESTIGATOR',\n",
       "       'MEDIA/SECURITY SYSTEMS SPECIALIST', 'MAYORAL STAFF XIV',\n",
       "       'GENERAL LABORER', 'DEPUTY PROBATION OFFICER', 'CARPENTER',\n",
       "       'PARK PATROL OFFICER',\n",
       "       'EXECUTIVE DIRECTOR, SOUTHEAST COMMUNITY FACILITY',\n",
       "       'PHYSICAL THERAPIST', 'SENIOR POWER HOUSE OPERATOR',\n",
       "       'PARKING CONTROL OFFICER', 'SENIOR PERSONNEL ANALYST',\n",
       "       'INSTITUTIONAL POLICE OFFICER', 'PHARMACY TECHNICIAN',\n",
       "       'AUDIOLOGIST', 'ELIGIBILITY WORKER',\n",
       "       'ASSISTANT SUPERINTENDENT RECREATION', 'SHEET METAL WORKER',\n",
       "       'ASPHALT PLANT SUPERVISOR I', 'SENIOR ACCOUNT CLERK',\n",
       "       'COURT INVESTIGATOR', 'STAGE ELECTRICIAN', 'SECURITY ANALYST',\n",
       "       'PRINCIPAL PAYROLL AND PERSONNEL CLERK',\n",
       "       'SENIOR COMMUNITY DEVELOPMENT SPECIALIST II',\n",
       "       'TRAFFIC SIGN MANAGER', 'ELECTRIC MOTOR REPAIR SUPERVISOR I',\n",
       "       'TRANSIT PLANNER III', 'REGULATORY SPECIALIST', 'PROBATE EXAMINER',\n",
       "       'HOSPITAL ELIGIBILITY WORKER SUPERVISOR',\n",
       "       'COURT ASSISTANT - SENIOR, SUPERIOR COURT',\n",
       "       'MUNICIPAL STADIUM GROUNDSKEEPER', 'BRICKLAYER',\n",
       "       'PLANNER III-ENVIRONMENTAL REVIEW',\n",
       "       'ASSISTANT FORENSIC TOXICOLOGIST I',\n",
       "       'FARE INSPECTIONS SUPERVISOR/INVESTIGATOR',\n",
       "       'EMPLOYMENT AND TRAINING SPECIALIST VI', 'PIPE WELDER',\n",
       "       'PARK SECTION SUPERVISOR', 'ENVIRONMENTAL HEALTH INSPECTOR',\n",
       "       'PRINCIPAL FARE COLLECTIONS RECEIVER', 'AIRPORT SAFETY OFFICER',\n",
       "       'MARRIAGE, FAMILY & CHILD COUNSELOR (MFCC)',\n",
       "       'COORDINATOR OF CITIZEN INVOLVEMENT', 'TREE TOPPER SUPERVISOR I',\n",
       "       'COURT INTERPRETER SUPERVISOR', 'SURGICAL PROCEDURES TECHNICIAN',\n",
       "       'PLANNER III', 'MENTAL HEALTH REHABILITATION WORKER',\n",
       "       'PATIENT ACCOUNTS SUPERVISOR', 'STREET INSPECTION SUPERVISOR',\n",
       "       'COMMUNICATIONS DISPATCHER II', 'POWER HOUSE OPERATOR',\n",
       "       'SENIOR MICROBIOLOGIST', 'IS ENGINEER - ASSISTANT',\n",
       "       'ELECTRICAL LINE HELPER', 'ASSISTANT MATERIALS COORDINATOR',\n",
       "       \"WORKER'S COMPENSATION SUPERVISOR I\",\n",
       "       'ASSISTANT TO THE DIRECTOR, PUBLIC AFFAIRS       RS',\n",
       "       'CLAIMS INVESTIGATOR CITY ATTORNEYS OFFICE', 'IS TRAINER - SENIOR',\n",
       "       'SPEECH PATHOLOGIST', 'NURSING ASSISTANT',\n",
       "       'COURT TRAINING SPECIALIST', 'ENGINEERING ASSOCIATE II',\n",
       "       'CLINICAL PSYCHOLOGIST', 'IS BUSINESS ANALYST', 'GARDENER',\n",
       "       'AIRPORT PROPERTY SPECIALIST I', 'BOARD/COMMISSION SECRETARY III',\n",
       "       'BENEFITS SUPERVISOR', 'LEGISLATIVE ASSISTANT', 'CEMENT MASON',\n",
       "       'LIBRARIAN III', 'REAL PROPERTY OFFICER',\n",
       "       'ASSISTANT RENTAL MANAGER, PORT',\n",
       "       'ORNAMENTAL IRON WORKER SUPERVISOR I', 'FUSION WELDER',\n",
       "       'SUPERVISING WELFARE FRAUD INVESTIGATOR', 'TRAINING COORDINATOR',\n",
       "       'PAINTER', 'SENIOR PARKING CONTROL OFFICER', 'SENIOR PURCHASER',\n",
       "       'PROGRAM SUPPORT ANALYST', 'FOOD SERVICE MANAGER ADMINISTRATOR',\n",
       "       'CONTRACT COMPLIANCE OFFICER I', 'MEDICAL SOCIAL WORK SUPERVISOR',\n",
       "       'WATERSHED FORESTER MANAGER',\n",
       "       'HEAVY EQUIPMENT OPERATIONS ASSISTANT SUPERVISOR',\n",
       "       'ADMINISTRATIVE ANALYST III', 'MOBILE EQUIPMENT SUPERVISOR',\n",
       "       'GENERAL UTILITY MECHANIC', 'ASSOCIATE AUDITOR',\n",
       "       'COURT SUPERVISOR I',\n",
       "       'APPRENTICE STATIONARY ENGINEER, SEWAGE PLANT',\n",
       "       'TRACK MAINTENANCE SUPERINTENDENT,MUNICIPAL RAILWAY',\n",
       "       'PATTERN MAKER',\n",
       "       'EXECUTIVE ASSISTANT TO THE ADMINISTRATOR, S.F.G.H.',\n",
       "       'IS PROGRAMMER ANALYST - SENIOR',\n",
       "       'ASSISTANT CLERK, BOARD OF SUPERVISORS',\n",
       "       'SENIOR REAL PROPERTY APPRAISER', 'EPIDEMIOLOGIST II',\n",
       "       'ADMINISTRATIVE SERVICES MANAGER', 'PILEDRIVER SUPERVISOR I',\n",
       "       'PERSONNEL PAYROLL REPRESENTATIVE', 'STREET INSPECTOR',\n",
       "       'WASTEWATER CONTROL INSPECTOR', 'SENIOR PERSONAL PROPERTY AUDITOR',\n",
       "       'BIOLOGIST I/II', 'SENIOR PSYCHIATRIC SOCIAL WORKER',\n",
       "       'SENIOR HEALTH PROGRAM PLANNER', 'SENIOR ENVIRONMENT SPECIALIST',\n",
       "       \"SENIOR INVESTIGATOR, OFFICE OF CITIZEN'S COMPLAINT\",\n",
       "       'HEALTH CARE ANALYST', 'SENIOR PAYROLL AND PERSONNEL CLERK',\n",
       "       'SECRETARY I', 'SOFT FLOOR COVERER SUPERVISOR',\n",
       "       'APPRENTICE STATIONARY ENGINEER,WATER TREATMENT PLN',\n",
       "       'SECRETARY, COMMISSION ON THE ENVIRONMENT',\n",
       "       'PSYCHIATRIC SOCIAL WORKER',\n",
       "       'MAINTENANCE MACHINIST ASSISTANT SUPERVISOR',\n",
       "       'SENIOR SOCIAL WORKER', 'COORDINATOR, HUMAN RIGHTS COMMISSION',\n",
       "       'SENIOR HEALTH EDUCATOR', 'CURATOR IV', 'COUNSELOR II',\n",
       "       'MUSEUM SECURITY SUPERVISOR',\n",
       "       'SUPERVISOR, TRAFFIC AND STREET SIGNS', 'SENIOR CLERK',\n",
       "       'PRINCIPAL ACCOUNTANT', 'FEASIBILITY ANALYST, PORT',\n",
       "       'AIRPORT POLICE SERVICES AIDE', \"MAYOR'S PROGRAM MANAGER\",\n",
       "       'PILEDRIVER ENGINE OPERATOR',\n",
       "       \"SENIOR PUBLIC DEFENDER'S INVESTIGATOR\", 'PILE WORKER',\n",
       "       'MENTAL HEALTH HEARING OFFICER',\n",
       "       'ASSISTANT CHIEF VICTIM/WITNESS INVESTIGATOR', 'CHEMIST I/II',\n",
       "       'PARKING METER REPAIRER SUPERVISOR I',\n",
       "       'CONSERVATORSHIP/CASE MGNT SUPV', 'DEPUTY COURT CLERK III',\n",
       "       'AIRPORT COMMUNICATIONS SUPERVISOR', 'PRINCIPAL CLERK',\n",
       "       'PAINTER SUPERVISOR II',\n",
       "       'AREA SUPERVISOR, PARKS, SQUARES AND FACILITIES', 'FORESTER',\n",
       "       'PUBLIC RELATIONS OFFICER', 'EXECUTIVE SECRETARY III',\n",
       "       'CIVIL ENGINEERING ASSOCIATE I',\n",
       "       'AIRPORT EMERGENCY PLANNING COORDINATOR',\n",
       "       'MOBILE EQUIPMENT ASSISTANT SUPERVISOR',\n",
       "       'IS OPERATOR - SUPERVISOR', 'PERSONNEL ANALYST',\n",
       "       'CARPENTER SUPERVISOR II', 'EMPLOYMENT AND TRAINING SPECIALIST V',\n",
       "       'PARKING HEARING EXAMINER', 'GLAZIER SUPERVISOR I',\n",
       "       'SECRETARY, LIBRARY COMMISSION',\n",
       "       'EXECUTIVE SECRETARY TO THE CONTROLLER',\n",
       "       'ASSISTANT CONSTRUCTION INSPECTOR',\n",
       "       'SUPERVISING COURT ADMINISTRATIVE SECRETARY',\n",
       "       'SENIOR PARTS STOREKEEPER', 'ELIGIBILITY WORKER SUPERVISOR',\n",
       "       'MUSEUM GUARD', 'WELFARE FRAUD INVESTIGATOR',\n",
       "       'PRINCIPAL PARTS STOREKEEPER', 'SENIOR MANAGEMENT ASSISTANT',\n",
       "       'ASSOCIATE PERFORMANCE AUDITOR',\n",
       "       'MAINTENANCE ESTIMATOR AND SCHEDULER', 'PATIENT ACCOUNTS MANAGER',\n",
       "       'MARKET RESEARCH SPECIALISTS, PORT', 'SPECIAL ASSISTANT XV',\n",
       "       'SENIOR MARRIAGE, FAMILY & CHILD COUNSELOR (MFCC)',\n",
       "       'TRAINING OFFICER', 'NUTRITIONIST', 'LIBRARIAN II',\n",
       "       'SENIOR GENERAL UTILITY MECHANIC', 'WATER QUALITY TECHNICIAN I/II',\n",
       "       'X-RAY LABORATORY AIDE',\n",
       "       'EMERGENCY PROTECTIVE ORDERS COMMISSIONER',\n",
       "       'SENIOR MEDICAL SOCIAL WORKER', 'HEALTH EDUCATOR',\n",
       "       'IS ADMINISTRATOR I', 'CHIEF NURSERY SPECIALIST',\n",
       "       'POWERHOUSE ELECTRICIAN SUPERVISOR II',\n",
       "       'PROGRAM SPECIALIST SUPERVISOR', 'PORTER', 'IS ADMINISTRATOR II',\n",
       "       'SENIOR CENTRAL PROCESSING AND DISTRIBUTION TECHNIC',\n",
       "       'PAYROLL SUPERVISOR', 'TRIAL DELAY REDUCTION COORDINATOR',\n",
       "       'BUILDING SERVICES TECHNICIAN', 'SENIOR FISCAL TECHNICIAN',\n",
       "       'IS TECHNICIAN - SUPERVISOR',\n",
       "       'EMPLOYMENT & TRAINING SPECIALIST IV', 'PUBLIC HEALTH TEAM LEADER',\n",
       "       'PRINCIPAL INVESTIGATOR, TAX COLLECTOR', 'MICROBIOLOGIST',\n",
       "       'CENTRAL PROCESSING AND DISTRIBUTION TECHNICIAN', 'SIGN WORKER',\n",
       "       'MEDIA TRAINING SPECIALIST',\n",
       "       'MEDICAL RECORDS TECHNICIAN SUPERVISOR',\n",
       "       'CUSTODIAL ASSISTANT SUPERVISOR',\n",
       "       'SENIOR EMPLOYEE ASSISTANCE COUNSELOR',\n",
       "       'MEDIA PRODUCTION SUPERVISOR',\n",
       "       'COMMERCIAL DIVISION ASSISTANT SUPERVISOR',\n",
       "       'CHILD SUPPORT OFFICER III', 'CRIMINAL JUSTICE SPECIALIST II',\n",
       "       'DENTAL HYGIENIST', 'ROOFER SUPERVISOR I', 'JUNIOR ENGINEER',\n",
       "       'COURT AD RESOLUTION COORDINATOR',\n",
       "       'PATIENT ACCOUNTS ASSISTANT SUPERVISOR', 'TRAINING TECHNICIAN',\n",
       "       'TREE TOPPER SUPERVISOR II', 'VICTIM/WITNESS INVESTIGATOR III',\n",
       "       'PHYSICAL THERAPIST ASSISTANT', 'ORNAMENTAL IRON WORKER',\n",
       "       'HEALTH PROGRAM COORDINATOR II',\n",
       "       'INVESTIGATOR, OFFICE OF CITIZEN COMPLAINTS',\n",
       "       'ARCHITECTURAL ASSISTANT II', 'HEALTH PROGRAM PLANNER',\n",
       "       'CONFIDENTIAL SECRETARY TO DISTRICT ATTORNEY',\n",
       "       'ASSOCIATE HUMAN RESOURCES ANALYST',\n",
       "       'ASSISTANT DIRECTOR, LOG CABIN RANCH',\n",
       "       'MEDICAL RECORDS TECHNICIAN', 'MEDICAL SOCIAL WORKER',\n",
       "       'SENIOR ESTATE INVESTIGATOR', 'SECURITY GUARD',\n",
       "       \"PUBLIC DEFENDER'S INVESTIGATOR\",\n",
       "       'INVESTIGATOR, TAXI & ACCESS SVCS',\n",
       "       'SENIOR FARE COLLECTIONS RECEIVER', 'CHIEF DIETITIAN',\n",
       "       'SURVEY ASSISTANT II', 'PUBLIC SERVICE TRAINEE',\n",
       "       'LIBRARIAN II - ASIAN ARTS', 'DEPUTY COURT CLERK II',\n",
       "       'ASSISTANT STOREKEEPER', 'REAL PROPERTY APPRAISER',\n",
       "       'REPRESENTATIVE, HUMAN RIGHTS COMMISSION',\n",
       "       'COUNSELOR, JUVENILE HALL', 'TRANSIT PLANNER II',\n",
       "       'RETIREMENT ANALYST', 'PLANNER II',\n",
       "       'ASSISTANT INDUSTRIAL HYGIENIST', 'EMPLOYEE ASSISTANCE COUNSELOR',\n",
       "       'ADMINISTRATIVE ANALYST', 'SPECIALIST IN AGING II',\n",
       "       'REHABILITATION SERVICES COORDINATOR',\n",
       "       'AFFIRMATIVE ACTION SPECIALIST', 'POWER GENERATION TECHNICIAN I',\n",
       "       'TREE TOPPER', 'WATER QUALITY TECHNICIAN III',\n",
       "       'EMPLOYEE RELATIONS REPRESENTATIVE', 'STATION OFFICER',\n",
       "       'REPRESENTATIVE, COMMISSION ON THE STATUS OF WOMEN',\n",
       "       'METAL FABRICATOR', 'EXECUTIVE SECRETARY II',\n",
       "       'WATERSHED KEEPER SUPERVISOR', 'MAYORAL STAFF XII',\n",
       "       'MEDICAL STAFF SERVICES DEPARTMENT ANALYST', 'UNIT CLERK',\n",
       "       'ASSISTANT HEALTH EDUCATOR', 'UTILITY ANALYST',\n",
       "       'ENVIRONMENT SPECIALIST', 'LEGAL ASSISTANT',\n",
       "       'INVESTIGATOR, TAX COLLECTOR', 'SENIOR ELIGIBILITY WORKER',\n",
       "       'SOCIAL WORK SUPERVISOR', 'CONFIDENTIAL SECRETARY CITY ATTORNEY',\n",
       "       'IS TRAINER - JOURNEY', 'MEDICAL EVALUATIONS ASSISTANT',\n",
       "       'HEALTH CARE BILLING CLERK II', 'PERSONAL PROPERTY AUDITOR',\n",
       "       'NURSES STAFFING ASSISTANT', 'PURCHASER', 'PROGRAM SPECIALIST',\n",
       "       'COURT ASSISTANT, SUPERIOR COURT',\n",
       "       'EMERGENCY PLANNING COORDINATOR', 'PEST CONTROL SPECIALIST',\n",
       "       'ROOFER', 'DIRECTOR OF ACTIVITIES, THERAPY AND VOLUNTEER SERV',\n",
       "       'COOK', 'SECRETARY, HEALTH COMMISSION', 'LIBRARIAN I',\n",
       "       'SURVEY ASSISTNAT I', 'COURT CLERK', 'SEWER MAINTENANCE WORKER',\n",
       "       'CHIEF PAYROLL AND PERSONNEL CLERK', 'PORTER SUPERVISOR I',\n",
       "       'EMPLOYMENT AND TRAINING SPECIALIST III',\n",
       "       'CIVIL ENGINEERING ASSISTANT', \"WORKER'S COMPENSATION ADJUSTER\",\n",
       "       'FARE COLLECTIONS RECEIVER', 'PRINCIPAL PERMIT AND CITATION CLERK',\n",
       "       'CUSTOMER SERVICE AGENT SUPERVISOR', 'RECREATION SUPERVISOR',\n",
       "       'IS OPERATOR - SENIOR', 'ESTATE INVESTIGATOR',\n",
       "       'IS BUSINESS ANALYST - ASSISTANT', 'ADMINISTRATIVE ANALYST II',\n",
       "       'TRAFFIC SURVEY TECHNICIAN',\n",
       "       'JANITORIAL SERVICES ASSISTANT SUPERVISOR', 'HODCARRIER',\n",
       "       'IS TECHNICIAN - SENIOR', 'LEGAL SECRETARY II',\n",
       "       'ASSISTANT GENERAL SERVICES MANAGER', 'WHARFINGER II', 'DIETITIAN',\n",
       "       'CURATOR III', 'SENIOR TRANSIT TRAFFIC CHECKER',\n",
       "       'WATERSHED KEEPER', 'EMPLOYMENT & TRAINING SPECIALIST II',\n",
       "       'IS PROGRAMMER ANALYST', 'ELECTRICAL ENGINEERING ASSOCIATE I',\n",
       "       'SOCIAL WORK SPECIALIST', 'WATER METER REPAIRER',\n",
       "       'ILLUSTRATOR AND ART DESIGNER', 'COURT INTERPRETER',\n",
       "       'VOLUNTEER/OUTREACH COORDINATOR', 'PERSONNEL TECHNICIAN',\n",
       "       'COMMUNICATIONS DISPATCHER I', 'REHABILITATION COUNSELOR',\n",
       "       'PAYROLL CLERK', 'CHIEF CLERK', 'RENT BOARD SUPERVISOR',\n",
       "       'ANIMAL CARE SUPERVISOR', 'TILE SETTER',\n",
       "       'ARCHITECTURAL ASSISTANT  I', 'CHEF', 'LEGISLATION CLERK',\n",
       "       'MAYORAL STAFF IX', 'SECRETARY II', 'TRANSIT FARE INSPECTOR',\n",
       "       'ASSOCIATE MUSEUM CONSERVATOR, ASIAN ART MUSEUM',\n",
       "       'SENIOR CUSTOMER SERVICE AGENT', 'MANAGEMENT ASSISTANT',\n",
       "       'PUBLIC INFORMATION OFFICER', 'SENIOR ACCOUNTANT',\n",
       "       'ASSISTANT PURCHASER', 'ASSISTANT RETIREMENT ANALYST',\n",
       "       'EPIDEMIOLOGIST I', 'STATISTICIAN', 'PERFORMING ARTS CENTER AIDE',\n",
       "       'NURSERY SPECIALIST', 'ASPHALT FINISHER',\n",
       "       'LEGAL RESEARCH ASSISTANT', 'SENIOR MUSEUM REGISTRAR',\n",
       "       'PRINCIPAL ACCOUNT CLERK', 'FOOD SERVICE SUPERVISOR',\n",
       "       'MAIL AND REPRODUCTION SERVICE SUPERVISOR',\n",
       "       'CHIEF DEPUTY ADULT PROBATION OFFICER', 'FISCAL TECHNICIAN',\n",
       "       'FORENSIC LABORATORY TECHNICIAN', 'FINGERPRINT TECHNICIAN III',\n",
       "       'COMMUNITY DEVELOPMENT SPECIALIST', 'MATERIALS TESTING TECHNICIAN',\n",
       "       'CUSTODIAL SUPERVISOR', 'PARKING METER REPAIRER',\n",
       "       'HOSPITAL ELIGIBILITY WORKER', 'HEALTH PROGRAM COORDINATOR I',\n",
       "       'LIBRARY TECHNICAL ASSISTANT II', 'EXECUTIVE SECRETARY I',\n",
       "       'MEDICAL RECORDS CLERK', 'STOREKEEPER',\n",
       "       'SENIOR FOOD SERVICE SUPERVISOR',\n",
       "       \"DISTRICT ATTORNEY'S INVESTIGATIVE ASSISTANT\",\n",
       "       'POLICE SERVICES AIDE', 'WINDOW CLEANER',\n",
       "       'CITIZENS COMPLAINT OFFICER',\n",
       "       'FIELD SERVICES ASSISTANT SUPERVISOR', 'SOFT FLOOR COVERER',\n",
       "       'MATERIALS TESTING AIDE', 'SENIOR PSYCHIATRIC ORDERLY',\n",
       "       'CURATOR II', 'VICTIM/WITNESS INVESTIGATOR II',\n",
       "       'LEGAL SECRETARY I', 'TRANSIT TRAFFIC CHECKER',\n",
       "       'JANITORIAL SERVICES SUPERVISOR', 'CHILD SUPPORT OFFICER II',\n",
       "       'PRINCIPAL WATER SERVICES CLERK', 'METALSMITH', 'PLANNER I',\n",
       "       'IS OPERATOR - ANALYST', 'HEAD PHOTOGRAPHER',\n",
       "       'SENIOR LEGAL PROCESS CLERK', 'WINDOW CLEANER SUPERVISOR',\n",
       "       'SENIOR COLLECTIONS OFFICER', 'INVENTORY CLERK', 'ACUPUNCTURIST',\n",
       "       'PHYSICAL THERAPY AIDE', 'IS PROGRAMMER ANALYST - ASSISTANT',\n",
       "       'FORENSIC AUTOPSY TECHNICIAN', 'DOCUMENT EXAMINER TECHNICIAN',\n",
       "       'SENIOR PERMIT AND CITATION CLERK', 'MEDIA PROGRAMMING SPECIALIST',\n",
       "       'FOOD SERVICE WORKER', 'MAYORAL STAFF X', 'ZOO CURATOR',\n",
       "       'SENIOR SWIMMING INSTRUCTOR', 'SENIOR TRANSIT INFORMATION CLERK',\n",
       "       'FINGERPRINT TECHNICIAN II', 'PHARMACY HELPER',\n",
       "       'LIBRARY TECHNICAL ASSISTANT I', 'BENEFITS ANALYST',\n",
       "       'DISEASE CONTROL INVESTIGATOR',\n",
       "       'STORES AND EQUIPMENT ASSISTANT SUPERVISOR',\n",
       "       'SENIOR LAUNDRY WORKER', 'ASSISTANT COUNSELOR',\n",
       "       'IS TECHNICIAN - JOURNEY', 'CUSTODIAN',\n",
       "       'CITY PLANNING GRAPHICS SUPERVISOR',\n",
       "       'COURT ADMINISTRATIVE SECRETARY', 'ACCOUNTANT',\n",
       "       'SENIOR BOOK REPAIRER', 'WHARFINGER I', 'HEALTH WORKER II',\n",
       "       'BAKER', 'SENIOR WATER SERVICES CLERK', 'SENIOR STOREKEEPER',\n",
       "       'URBAN FORESTRY INSPECTOR', \"MEDICAL EXAMINER'S INVESTIGATOR I\",\n",
       "       'ENVIRONMENTAL ASSISTANT', 'ASPHALT WORKER', 'SENIOR CLERK TYPIST',\n",
       "       'PATIENT ACCOUNTS CLERK',\n",
       "       'SECRETARY, BUILDING INSPECTION COMMISSION',\n",
       "       'SENIOR MORGUE ATTENDANT', 'IS TRAINER - ASSISTANT',\n",
       "       'TRANSIT INFORMATION CLERK', 'ANIMAL CONTROL OFFICER'],\n",
       "      dtype=object)"
      ]
     },
     "execution_count": 64,
     "metadata": {},
     "output_type": "execute_result"
    }
   ],
   "source": [
    "sal.JobTitle.unique()"
   ]
  },
  {
   "cell_type": "markdown",
   "metadata": {
    "id": "apmHlFHbvH_l"
   },
   "source": [
    "**List 3 least common Jobs**"
   ]
  },
  {
   "cell_type": "code",
   "execution_count": null,
   "metadata": {
    "colab": {
     "base_uri": "https://localhost:8080/"
    },
    "id": "6tbUPLAfvH_l",
    "outputId": "3aaa4cbc-5167-4663-f6ad-40db985d6457"
   },
   "outputs": [
    {
     "data": {
      "text/plain": [
       "TRAFFIC HEARING OFFICER               1\n",
       "ELECTRICAL ENGINEERING ASSOCIATE I    1\n",
       "SENIOR MORGUE ATTENDANT               1\n",
       "Name: JobTitle, dtype: int64"
      ]
     },
     "execution_count": 65,
     "metadata": {},
     "output_type": "execute_result"
    }
   ],
   "source": [
    "sal[\"JobTitle\"].value_counts().tail(3)"
   ]
  },
  {
   "cell_type": "markdown",
   "metadata": {
    "id": "U5jessbAvH_l"
   },
   "source": [
    "**How many people earned more than avg in 2012**"
   ]
  },
  {
   "cell_type": "code",
   "execution_count": null,
   "metadata": {
    "colab": {
     "base_uri": "https://localhost:8080/"
    },
    "id": "ZDVo0kxLJQSL",
    "outputId": "f37f4bc8-5d69-4cd6-fecc-d056fa4cadf4"
   },
   "outputs": [
    {
     "data": {
      "text/plain": [
       "0"
      ]
     },
     "execution_count": 67,
     "metadata": {},
     "output_type": "execute_result"
    }
   ],
   "source": [
    "sal[(sal.TotalPayBenefits>sal.TotalPayBenefits.mean()) & (sal.Year==2012)]['EmployeeName'].count()\n"
   ]
  },
  {
   "cell_type": "code",
   "execution_count": null,
   "metadata": {
    "colab": {
     "base_uri": "https://localhost:8080/"
    },
    "id": "ssIYw7jxvH_l",
    "outputId": "95130b8d-90ca-4824-851c-4e7441f1b7cc"
   },
   "outputs": [
    {
     "data": {
      "text/plain": [
       "902"
      ]
     },
     "execution_count": 54,
     "metadata": {},
     "output_type": "execute_result"
    }
   ],
   "source": []
  },
  {
   "cell_type": "markdown",
   "metadata": {
    "id": "T8qCRN2nvH_l"
   },
   "source": [
    "**How many people have the word Manager in their job title?**"
   ]
  },
  {
   "cell_type": "code",
   "execution_count": null,
   "metadata": {
    "colab": {
     "base_uri": "https://localhost:8080/"
    },
    "id": "B6GTjvTfvH_m",
    "outputId": "04aeda1f-df6a-4592-9f97-505d5abf972b"
   },
   "outputs": [
    {
     "data": {
      "text/plain": [
       "902"
      ]
     },
     "execution_count": 70,
     "metadata": {},
     "output_type": "execute_result"
    }
   ],
   "source": [
    "def manager_func(x):\n",
    "    if 'manager' in x.lower():\n",
    "        return True\n",
    "    else:\n",
    "        return False\n",
    "len(sal[sal.JobTitle.apply(lambda x:manager_func(x))])"
   ]
  },
  {
   "cell_type": "code",
   "execution_count": null,
   "metadata": {
    "id": "l-zdr-YSPd-P"
   },
   "outputs": [],
   "source": []
  },
  {
   "cell_type": "markdown",
   "metadata": {
    "id": "aA6olydCvH_m"
   },
   "source": [
    "**Take Id,EmployeeName,JobTitle,TotalPay and TotalPayBenefits columns with iloc and assign it as sal_new dataframe**"
   ]
  },
  {
   "cell_type": "code",
   "execution_count": null,
   "metadata": {
    "colab": {
     "base_uri": "https://localhost:8080/",
     "height": 206
    },
    "id": "2_nj4RLwvH_m",
    "outputId": "2e1242d9-8774-46b1-a3ff-1f1c3047fe6c"
   },
   "outputs": [
    {
     "data": {
      "text/html": [
       "\n",
       "  <div id=\"df-984a6c0c-d693-4634-a108-4e5d0fdc215e\">\n",
       "    <div class=\"colab-df-container\">\n",
       "      <div>\n",
       "<style scoped>\n",
       "    .dataframe tbody tr th:only-of-type {\n",
       "        vertical-align: middle;\n",
       "    }\n",
       "\n",
       "    .dataframe tbody tr th {\n",
       "        vertical-align: top;\n",
       "    }\n",
       "\n",
       "    .dataframe thead th {\n",
       "        text-align: right;\n",
       "    }\n",
       "</style>\n",
       "<table border=\"1\" class=\"dataframe\">\n",
       "  <thead>\n",
       "    <tr style=\"text-align: right;\">\n",
       "      <th></th>\n",
       "      <th>Id</th>\n",
       "      <th>EmployeeName</th>\n",
       "      <th>JobTitle</th>\n",
       "      <th>TotalPay</th>\n",
       "      <th>TotalPayBenefits</th>\n",
       "    </tr>\n",
       "  </thead>\n",
       "  <tbody>\n",
       "    <tr>\n",
       "      <th>0</th>\n",
       "      <td>1</td>\n",
       "      <td>NATHANIEL FORD</td>\n",
       "      <td>GENERAL MANAGER-METROPOLITAN TRANSIT AUTHORITY</td>\n",
       "      <td>567595.43</td>\n",
       "      <td>567595.43</td>\n",
       "    </tr>\n",
       "    <tr>\n",
       "      <th>1</th>\n",
       "      <td>2</td>\n",
       "      <td>GARY JIMENEZ</td>\n",
       "      <td>CAPTAIN III (POLICE DEPARTMENT)</td>\n",
       "      <td>538909.28</td>\n",
       "      <td>538909.28</td>\n",
       "    </tr>\n",
       "    <tr>\n",
       "      <th>2</th>\n",
       "      <td>3</td>\n",
       "      <td>ALBERT PARDINI</td>\n",
       "      <td>CAPTAIN III (POLICE DEPARTMENT)</td>\n",
       "      <td>335279.91</td>\n",
       "      <td>335279.91</td>\n",
       "    </tr>\n",
       "    <tr>\n",
       "      <th>3</th>\n",
       "      <td>4</td>\n",
       "      <td>CHRISTOPHER CHONG</td>\n",
       "      <td>WIRE ROPE CABLE MAINTENANCE MECHANIC</td>\n",
       "      <td>332343.61</td>\n",
       "      <td>332343.61</td>\n",
       "    </tr>\n",
       "    <tr>\n",
       "      <th>4</th>\n",
       "      <td>5</td>\n",
       "      <td>PATRICK GARDNER</td>\n",
       "      <td>DEPUTY CHIEF OF DEPARTMENT,(FIRE DEPARTMENT)</td>\n",
       "      <td>326373.19</td>\n",
       "      <td>326373.19</td>\n",
       "    </tr>\n",
       "  </tbody>\n",
       "</table>\n",
       "</div>\n",
       "      <button class=\"colab-df-convert\" onclick=\"convertToInteractive('df-984a6c0c-d693-4634-a108-4e5d0fdc215e')\"\n",
       "              title=\"Convert this dataframe to an interactive table.\"\n",
       "              style=\"display:none;\">\n",
       "        \n",
       "  <svg xmlns=\"http://www.w3.org/2000/svg\" height=\"24px\"viewBox=\"0 0 24 24\"\n",
       "       width=\"24px\">\n",
       "    <path d=\"M0 0h24v24H0V0z\" fill=\"none\"/>\n",
       "    <path d=\"M18.56 5.44l.94 2.06.94-2.06 2.06-.94-2.06-.94-.94-2.06-.94 2.06-2.06.94zm-11 1L8.5 8.5l.94-2.06 2.06-.94-2.06-.94L8.5 2.5l-.94 2.06-2.06.94zm10 10l.94 2.06.94-2.06 2.06-.94-2.06-.94-.94-2.06-.94 2.06-2.06.94z\"/><path d=\"M17.41 7.96l-1.37-1.37c-.4-.4-.92-.59-1.43-.59-.52 0-1.04.2-1.43.59L10.3 9.45l-7.72 7.72c-.78.78-.78 2.05 0 2.83L4 21.41c.39.39.9.59 1.41.59.51 0 1.02-.2 1.41-.59l7.78-7.78 2.81-2.81c.8-.78.8-2.07 0-2.86zM5.41 20L4 18.59l7.72-7.72 1.47 1.35L5.41 20z\"/>\n",
       "  </svg>\n",
       "      </button>\n",
       "      \n",
       "  <style>\n",
       "    .colab-df-container {\n",
       "      display:flex;\n",
       "      flex-wrap:wrap;\n",
       "      gap: 12px;\n",
       "    }\n",
       "\n",
       "    .colab-df-convert {\n",
       "      background-color: #E8F0FE;\n",
       "      border: none;\n",
       "      border-radius: 50%;\n",
       "      cursor: pointer;\n",
       "      display: none;\n",
       "      fill: #1967D2;\n",
       "      height: 32px;\n",
       "      padding: 0 0 0 0;\n",
       "      width: 32px;\n",
       "    }\n",
       "\n",
       "    .colab-df-convert:hover {\n",
       "      background-color: #E2EBFA;\n",
       "      box-shadow: 0px 1px 2px rgba(60, 64, 67, 0.3), 0px 1px 3px 1px rgba(60, 64, 67, 0.15);\n",
       "      fill: #174EA6;\n",
       "    }\n",
       "\n",
       "    [theme=dark] .colab-df-convert {\n",
       "      background-color: #3B4455;\n",
       "      fill: #D2E3FC;\n",
       "    }\n",
       "\n",
       "    [theme=dark] .colab-df-convert:hover {\n",
       "      background-color: #434B5C;\n",
       "      box-shadow: 0px 1px 3px 1px rgba(0, 0, 0, 0.15);\n",
       "      filter: drop-shadow(0px 1px 2px rgba(0, 0, 0, 0.3));\n",
       "      fill: #FFFFFF;\n",
       "    }\n",
       "  </style>\n",
       "\n",
       "      <script>\n",
       "        const buttonEl =\n",
       "          document.querySelector('#df-984a6c0c-d693-4634-a108-4e5d0fdc215e button.colab-df-convert');\n",
       "        buttonEl.style.display =\n",
       "          google.colab.kernel.accessAllowed ? 'block' : 'none';\n",
       "\n",
       "        async function convertToInteractive(key) {\n",
       "          const element = document.querySelector('#df-984a6c0c-d693-4634-a108-4e5d0fdc215e');\n",
       "          const dataTable =\n",
       "            await google.colab.kernel.invokeFunction('convertToInteractive',\n",
       "                                                     [key], {});\n",
       "          if (!dataTable) return;\n",
       "\n",
       "          const docLinkHtml = 'Like what you see? Visit the ' +\n",
       "            '<a target=\"_blank\" href=https://colab.research.google.com/notebooks/data_table.ipynb>data table notebook</a>'\n",
       "            + ' to learn more about interactive tables.';\n",
       "          element.innerHTML = '';\n",
       "          dataTable['output_type'] = 'display_data';\n",
       "          await google.colab.output.renderOutput(dataTable, element);\n",
       "          const docLink = document.createElement('div');\n",
       "          docLink.innerHTML = docLinkHtml;\n",
       "          element.appendChild(docLink);\n",
       "        }\n",
       "      </script>\n",
       "    </div>\n",
       "  </div>\n",
       "  "
      ],
      "text/plain": [
       "   Id       EmployeeName  ...   TotalPay  TotalPayBenefits\n",
       "0   1     NATHANIEL FORD  ...  567595.43         567595.43\n",
       "1   2       GARY JIMENEZ  ...  538909.28         538909.28\n",
       "2   3     ALBERT PARDINI  ...  335279.91         335279.91\n",
       "3   4  CHRISTOPHER CHONG  ...  332343.61         332343.61\n",
       "4   5    PATRICK GARDNER  ...  326373.19         326373.19\n",
       "\n",
       "[5 rows x 5 columns]"
      ]
     },
     "execution_count": 72,
     "metadata": {},
     "output_type": "execute_result"
    }
   ],
   "source": [
    "sal_new=sal.iloc[:,[0,1,2,7,8]]\n",
    "sal_new.head()"
   ]
  },
  {
   "cell_type": "code",
   "execution_count": null,
   "metadata": {
    "colab": {
     "base_uri": "https://localhost:8080/",
     "height": 423
    },
    "id": "y56SHnosvH_m",
    "outputId": "b8d9e523-7843-45bd-fad8-c72c8c25d3ce"
   },
   "outputs": [
    {
     "data": {
      "text/html": [
       "\n",
       "  <div id=\"df-dc5b6364-f061-437e-a728-5ef0f9763be1\">\n",
       "    <div class=\"colab-df-container\">\n",
       "      <div>\n",
       "<style scoped>\n",
       "    .dataframe tbody tr th:only-of-type {\n",
       "        vertical-align: middle;\n",
       "    }\n",
       "\n",
       "    .dataframe tbody tr th {\n",
       "        vertical-align: top;\n",
       "    }\n",
       "\n",
       "    .dataframe thead th {\n",
       "        text-align: right;\n",
       "    }\n",
       "</style>\n",
       "<table border=\"1\" class=\"dataframe\">\n",
       "  <thead>\n",
       "    <tr style=\"text-align: right;\">\n",
       "      <th></th>\n",
       "      <th>Id</th>\n",
       "      <th>EmployeeName</th>\n",
       "      <th>JobTitle</th>\n",
       "      <th>TotalPay</th>\n",
       "      <th>TotalPayBenefits</th>\n",
       "    </tr>\n",
       "  </thead>\n",
       "  <tbody>\n",
       "    <tr>\n",
       "      <th>0</th>\n",
       "      <td>1</td>\n",
       "      <td>NATHANIEL FORD</td>\n",
       "      <td>GENERAL MANAGER-METROPOLITAN TRANSIT AUTHORITY</td>\n",
       "      <td>567595.43</td>\n",
       "      <td>567595.43</td>\n",
       "    </tr>\n",
       "    <tr>\n",
       "      <th>1</th>\n",
       "      <td>2</td>\n",
       "      <td>GARY JIMENEZ</td>\n",
       "      <td>CAPTAIN III (POLICE DEPARTMENT)</td>\n",
       "      <td>538909.28</td>\n",
       "      <td>538909.28</td>\n",
       "    </tr>\n",
       "    <tr>\n",
       "      <th>2</th>\n",
       "      <td>3</td>\n",
       "      <td>ALBERT PARDINI</td>\n",
       "      <td>CAPTAIN III (POLICE DEPARTMENT)</td>\n",
       "      <td>335279.91</td>\n",
       "      <td>335279.91</td>\n",
       "    </tr>\n",
       "    <tr>\n",
       "      <th>3</th>\n",
       "      <td>4</td>\n",
       "      <td>CHRISTOPHER CHONG</td>\n",
       "      <td>WIRE ROPE CABLE MAINTENANCE MECHANIC</td>\n",
       "      <td>332343.61</td>\n",
       "      <td>332343.61</td>\n",
       "    </tr>\n",
       "    <tr>\n",
       "      <th>4</th>\n",
       "      <td>5</td>\n",
       "      <td>PATRICK GARDNER</td>\n",
       "      <td>DEPUTY CHIEF OF DEPARTMENT,(FIRE DEPARTMENT)</td>\n",
       "      <td>326373.19</td>\n",
       "      <td>326373.19</td>\n",
       "    </tr>\n",
       "    <tr>\n",
       "      <th>...</th>\n",
       "      <td>...</td>\n",
       "      <td>...</td>\n",
       "      <td>...</td>\n",
       "      <td>...</td>\n",
       "      <td>...</td>\n",
       "    </tr>\n",
       "    <tr>\n",
       "      <th>19726</th>\n",
       "      <td>19727</td>\n",
       "      <td>JANICE DACASIN</td>\n",
       "      <td>SENIOR ELIGIBILITY WORKER</td>\n",
       "      <td>64071.58</td>\n",
       "      <td>64071.58</td>\n",
       "    </tr>\n",
       "    <tr>\n",
       "      <th>19727</th>\n",
       "      <td>19728</td>\n",
       "      <td>JULIET DELOS SANTOS</td>\n",
       "      <td>MENTAL HEALTH REHABILITATION WORKER</td>\n",
       "      <td>64069.27</td>\n",
       "      <td>64069.27</td>\n",
       "    </tr>\n",
       "    <tr>\n",
       "      <th>19728</th>\n",
       "      <td>19729</td>\n",
       "      <td>MEGAN BRIZZOLARA</td>\n",
       "      <td>REGISTERED NURSE</td>\n",
       "      <td>64068.36</td>\n",
       "      <td>64068.36</td>\n",
       "    </tr>\n",
       "    <tr>\n",
       "      <th>19729</th>\n",
       "      <td>19730</td>\n",
       "      <td>JASIRI MSHAURI</td>\n",
       "      <td>COUNSELOR, JUVENILE HALL</td>\n",
       "      <td>64064.65</td>\n",
       "      <td>64064.65</td>\n",
       "    </tr>\n",
       "    <tr>\n",
       "      <th>19730</th>\n",
       "      <td>19731</td>\n",
       "      <td>RICHARD SMITH</td>\n",
       "      <td>UTILITY SPECIALIST</td>\n",
       "      <td>NaN</td>\n",
       "      <td>NaN</td>\n",
       "    </tr>\n",
       "  </tbody>\n",
       "</table>\n",
       "<p>19731 rows × 5 columns</p>\n",
       "</div>\n",
       "      <button class=\"colab-df-convert\" onclick=\"convertToInteractive('df-dc5b6364-f061-437e-a728-5ef0f9763be1')\"\n",
       "              title=\"Convert this dataframe to an interactive table.\"\n",
       "              style=\"display:none;\">\n",
       "        \n",
       "  <svg xmlns=\"http://www.w3.org/2000/svg\" height=\"24px\"viewBox=\"0 0 24 24\"\n",
       "       width=\"24px\">\n",
       "    <path d=\"M0 0h24v24H0V0z\" fill=\"none\"/>\n",
       "    <path d=\"M18.56 5.44l.94 2.06.94-2.06 2.06-.94-2.06-.94-.94-2.06-.94 2.06-2.06.94zm-11 1L8.5 8.5l.94-2.06 2.06-.94-2.06-.94L8.5 2.5l-.94 2.06-2.06.94zm10 10l.94 2.06.94-2.06 2.06-.94-2.06-.94-.94-2.06-.94 2.06-2.06.94z\"/><path d=\"M17.41 7.96l-1.37-1.37c-.4-.4-.92-.59-1.43-.59-.52 0-1.04.2-1.43.59L10.3 9.45l-7.72 7.72c-.78.78-.78 2.05 0 2.83L4 21.41c.39.39.9.59 1.41.59.51 0 1.02-.2 1.41-.59l7.78-7.78 2.81-2.81c.8-.78.8-2.07 0-2.86zM5.41 20L4 18.59l7.72-7.72 1.47 1.35L5.41 20z\"/>\n",
       "  </svg>\n",
       "      </button>\n",
       "      \n",
       "  <style>\n",
       "    .colab-df-container {\n",
       "      display:flex;\n",
       "      flex-wrap:wrap;\n",
       "      gap: 12px;\n",
       "    }\n",
       "\n",
       "    .colab-df-convert {\n",
       "      background-color: #E8F0FE;\n",
       "      border: none;\n",
       "      border-radius: 50%;\n",
       "      cursor: pointer;\n",
       "      display: none;\n",
       "      fill: #1967D2;\n",
       "      height: 32px;\n",
       "      padding: 0 0 0 0;\n",
       "      width: 32px;\n",
       "    }\n",
       "\n",
       "    .colab-df-convert:hover {\n",
       "      background-color: #E2EBFA;\n",
       "      box-shadow: 0px 1px 2px rgba(60, 64, 67, 0.3), 0px 1px 3px 1px rgba(60, 64, 67, 0.15);\n",
       "      fill: #174EA6;\n",
       "    }\n",
       "\n",
       "    [theme=dark] .colab-df-convert {\n",
       "      background-color: #3B4455;\n",
       "      fill: #D2E3FC;\n",
       "    }\n",
       "\n",
       "    [theme=dark] .colab-df-convert:hover {\n",
       "      background-color: #434B5C;\n",
       "      box-shadow: 0px 1px 3px 1px rgba(0, 0, 0, 0.15);\n",
       "      filter: drop-shadow(0px 1px 2px rgba(0, 0, 0, 0.3));\n",
       "      fill: #FFFFFF;\n",
       "    }\n",
       "  </style>\n",
       "\n",
       "      <script>\n",
       "        const buttonEl =\n",
       "          document.querySelector('#df-dc5b6364-f061-437e-a728-5ef0f9763be1 button.colab-df-convert');\n",
       "        buttonEl.style.display =\n",
       "          google.colab.kernel.accessAllowed ? 'block' : 'none';\n",
       "\n",
       "        async function convertToInteractive(key) {\n",
       "          const element = document.querySelector('#df-dc5b6364-f061-437e-a728-5ef0f9763be1');\n",
       "          const dataTable =\n",
       "            await google.colab.kernel.invokeFunction('convertToInteractive',\n",
       "                                                     [key], {});\n",
       "          if (!dataTable) return;\n",
       "\n",
       "          const docLinkHtml = 'Like what you see? Visit the ' +\n",
       "            '<a target=\"_blank\" href=https://colab.research.google.com/notebooks/data_table.ipynb>data table notebook</a>'\n",
       "            + ' to learn more about interactive tables.';\n",
       "          element.innerHTML = '';\n",
       "          dataTable['output_type'] = 'display_data';\n",
       "          await google.colab.output.renderOutput(dataTable, element);\n",
       "          const docLink = document.createElement('div');\n",
       "          docLink.innerHTML = docLinkHtml;\n",
       "          element.appendChild(docLink);\n",
       "        }\n",
       "      </script>\n",
       "    </div>\n",
       "  </div>\n",
       "  "
      ],
      "text/plain": [
       "          Id         EmployeeName  ...   TotalPay  TotalPayBenefits\n",
       "0          1       NATHANIEL FORD  ...  567595.43         567595.43\n",
       "1          2         GARY JIMENEZ  ...  538909.28         538909.28\n",
       "2          3       ALBERT PARDINI  ...  335279.91         335279.91\n",
       "3          4    CHRISTOPHER CHONG  ...  332343.61         332343.61\n",
       "4          5      PATRICK GARDNER  ...  326373.19         326373.19\n",
       "...      ...                  ...  ...        ...               ...\n",
       "19726  19727       JANICE DACASIN  ...   64071.58          64071.58\n",
       "19727  19728  JULIET DELOS SANTOS  ...   64069.27          64069.27\n",
       "19728  19729     MEGAN BRIZZOLARA  ...   64068.36          64068.36\n",
       "19729  19730       JASIRI MSHAURI  ...   64064.65          64064.65\n",
       "19730  19731        RICHARD SMITH  ...        NaN               NaN\n",
       "\n",
       "[19731 rows x 5 columns]"
      ]
     },
     "execution_count": 73,
     "metadata": {},
     "output_type": "execute_result"
    }
   ],
   "source": [
    "sal_new"
   ]
  },
  {
   "cell_type": "markdown",
   "metadata": {
    "id": "qmd6h0O9vH_m"
   },
   "source": [
    "**Take columns betweeen EmployeeName and TotalPayBenefits with loc and assign it o sal_new df**\n",
    " "
   ]
  },
  {
   "cell_type": "code",
   "execution_count": null,
   "metadata": {
    "colab": {
     "base_uri": "https://localhost:8080/",
     "height": 206
    },
    "id": "GYVZ_KaFvH_m",
    "outputId": "0e43ca79-22fd-4fe5-ffab-46a920db5da7"
   },
   "outputs": [
    {
     "data": {
      "text/html": [
       "\n",
       "  <div id=\"df-faf72eae-88da-4c7c-830b-c0c63f5941a2\">\n",
       "    <div class=\"colab-df-container\">\n",
       "      <div>\n",
       "<style scoped>\n",
       "    .dataframe tbody tr th:only-of-type {\n",
       "        vertical-align: middle;\n",
       "    }\n",
       "\n",
       "    .dataframe tbody tr th {\n",
       "        vertical-align: top;\n",
       "    }\n",
       "\n",
       "    .dataframe thead th {\n",
       "        text-align: right;\n",
       "    }\n",
       "</style>\n",
       "<table border=\"1\" class=\"dataframe\">\n",
       "  <thead>\n",
       "    <tr style=\"text-align: right;\">\n",
       "      <th></th>\n",
       "      <th>EmployeeName</th>\n",
       "      <th>JobTitle</th>\n",
       "      <th>TotalPay</th>\n",
       "      <th>TotalPayBenefits</th>\n",
       "    </tr>\n",
       "  </thead>\n",
       "  <tbody>\n",
       "    <tr>\n",
       "      <th>0</th>\n",
       "      <td>NATHANIEL FORD</td>\n",
       "      <td>GENERAL MANAGER-METROPOLITAN TRANSIT AUTHORITY</td>\n",
       "      <td>567595.43</td>\n",
       "      <td>567595.43</td>\n",
       "    </tr>\n",
       "    <tr>\n",
       "      <th>1</th>\n",
       "      <td>GARY JIMENEZ</td>\n",
       "      <td>CAPTAIN III (POLICE DEPARTMENT)</td>\n",
       "      <td>538909.28</td>\n",
       "      <td>538909.28</td>\n",
       "    </tr>\n",
       "    <tr>\n",
       "      <th>2</th>\n",
       "      <td>ALBERT PARDINI</td>\n",
       "      <td>CAPTAIN III (POLICE DEPARTMENT)</td>\n",
       "      <td>335279.91</td>\n",
       "      <td>335279.91</td>\n",
       "    </tr>\n",
       "    <tr>\n",
       "      <th>3</th>\n",
       "      <td>CHRISTOPHER CHONG</td>\n",
       "      <td>WIRE ROPE CABLE MAINTENANCE MECHANIC</td>\n",
       "      <td>332343.61</td>\n",
       "      <td>332343.61</td>\n",
       "    </tr>\n",
       "    <tr>\n",
       "      <th>4</th>\n",
       "      <td>PATRICK GARDNER</td>\n",
       "      <td>DEPUTY CHIEF OF DEPARTMENT,(FIRE DEPARTMENT)</td>\n",
       "      <td>326373.19</td>\n",
       "      <td>326373.19</td>\n",
       "    </tr>\n",
       "  </tbody>\n",
       "</table>\n",
       "</div>\n",
       "      <button class=\"colab-df-convert\" onclick=\"convertToInteractive('df-faf72eae-88da-4c7c-830b-c0c63f5941a2')\"\n",
       "              title=\"Convert this dataframe to an interactive table.\"\n",
       "              style=\"display:none;\">\n",
       "        \n",
       "  <svg xmlns=\"http://www.w3.org/2000/svg\" height=\"24px\"viewBox=\"0 0 24 24\"\n",
       "       width=\"24px\">\n",
       "    <path d=\"M0 0h24v24H0V0z\" fill=\"none\"/>\n",
       "    <path d=\"M18.56 5.44l.94 2.06.94-2.06 2.06-.94-2.06-.94-.94-2.06-.94 2.06-2.06.94zm-11 1L8.5 8.5l.94-2.06 2.06-.94-2.06-.94L8.5 2.5l-.94 2.06-2.06.94zm10 10l.94 2.06.94-2.06 2.06-.94-2.06-.94-.94-2.06-.94 2.06-2.06.94z\"/><path d=\"M17.41 7.96l-1.37-1.37c-.4-.4-.92-.59-1.43-.59-.52 0-1.04.2-1.43.59L10.3 9.45l-7.72 7.72c-.78.78-.78 2.05 0 2.83L4 21.41c.39.39.9.59 1.41.59.51 0 1.02-.2 1.41-.59l7.78-7.78 2.81-2.81c.8-.78.8-2.07 0-2.86zM5.41 20L4 18.59l7.72-7.72 1.47 1.35L5.41 20z\"/>\n",
       "  </svg>\n",
       "      </button>\n",
       "      \n",
       "  <style>\n",
       "    .colab-df-container {\n",
       "      display:flex;\n",
       "      flex-wrap:wrap;\n",
       "      gap: 12px;\n",
       "    }\n",
       "\n",
       "    .colab-df-convert {\n",
       "      background-color: #E8F0FE;\n",
       "      border: none;\n",
       "      border-radius: 50%;\n",
       "      cursor: pointer;\n",
       "      display: none;\n",
       "      fill: #1967D2;\n",
       "      height: 32px;\n",
       "      padding: 0 0 0 0;\n",
       "      width: 32px;\n",
       "    }\n",
       "\n",
       "    .colab-df-convert:hover {\n",
       "      background-color: #E2EBFA;\n",
       "      box-shadow: 0px 1px 2px rgba(60, 64, 67, 0.3), 0px 1px 3px 1px rgba(60, 64, 67, 0.15);\n",
       "      fill: #174EA6;\n",
       "    }\n",
       "\n",
       "    [theme=dark] .colab-df-convert {\n",
       "      background-color: #3B4455;\n",
       "      fill: #D2E3FC;\n",
       "    }\n",
       "\n",
       "    [theme=dark] .colab-df-convert:hover {\n",
       "      background-color: #434B5C;\n",
       "      box-shadow: 0px 1px 3px 1px rgba(0, 0, 0, 0.15);\n",
       "      filter: drop-shadow(0px 1px 2px rgba(0, 0, 0, 0.3));\n",
       "      fill: #FFFFFF;\n",
       "    }\n",
       "  </style>\n",
       "\n",
       "      <script>\n",
       "        const buttonEl =\n",
       "          document.querySelector('#df-faf72eae-88da-4c7c-830b-c0c63f5941a2 button.colab-df-convert');\n",
       "        buttonEl.style.display =\n",
       "          google.colab.kernel.accessAllowed ? 'block' : 'none';\n",
       "\n",
       "        async function convertToInteractive(key) {\n",
       "          const element = document.querySelector('#df-faf72eae-88da-4c7c-830b-c0c63f5941a2');\n",
       "          const dataTable =\n",
       "            await google.colab.kernel.invokeFunction('convertToInteractive',\n",
       "                                                     [key], {});\n",
       "          if (!dataTable) return;\n",
       "\n",
       "          const docLinkHtml = 'Like what you see? Visit the ' +\n",
       "            '<a target=\"_blank\" href=https://colab.research.google.com/notebooks/data_table.ipynb>data table notebook</a>'\n",
       "            + ' to learn more about interactive tables.';\n",
       "          element.innerHTML = '';\n",
       "          dataTable['output_type'] = 'display_data';\n",
       "          await google.colab.output.renderOutput(dataTable, element);\n",
       "          const docLink = document.createElement('div');\n",
       "          docLink.innerHTML = docLinkHtml;\n",
       "          element.appendChild(docLink);\n",
       "        }\n",
       "      </script>\n",
       "    </div>\n",
       "  </div>\n",
       "  "
      ],
      "text/plain": [
       "        EmployeeName  ... TotalPayBenefits\n",
       "0     NATHANIEL FORD  ...        567595.43\n",
       "1       GARY JIMENEZ  ...        538909.28\n",
       "2     ALBERT PARDINI  ...        335279.91\n",
       "3  CHRISTOPHER CHONG  ...        332343.61\n",
       "4    PATRICK GARDNER  ...        326373.19\n",
       "\n",
       "[5 rows x 4 columns]"
      ]
     },
     "execution_count": 78,
     "metadata": {},
     "output_type": "execute_result"
    }
   ],
   "source": [
    "sal_new=sal_new.loc[:,'EmployeeName':'TotalPayBenefits']\n",
    "sal_new.head()"
   ]
  },
  {
   "cell_type": "markdown",
   "metadata": {
    "id": "nH4eJROrvH_m"
   },
   "source": [
    "**Print out the names of the employees who earn more than min, but less than avg**"
   ]
  },
  {
   "cell_type": "code",
   "execution_count": null,
   "metadata": {
    "colab": {
     "base_uri": "https://localhost:8080/"
    },
    "id": "wLvNwAM4vH_n",
    "outputId": "7887fd6e-1588-47a0-d0be-1b7d0a0198c4"
   },
   "outputs": [
    {
     "data": {
      "text/plain": [
       "8298              KENNETH MA\n",
       "8299          RICHARD TRUONG\n",
       "8300         CURTIS MCMILLAN\n",
       "8301           ROSE BALTAZAR\n",
       "8302          STEPHEN SOLNIT\n",
       "                ...         \n",
       "19724             FRANK KENT\n",
       "19725         ELEAZAR MEDINA\n",
       "19726         JANICE DACASIN\n",
       "19727    JULIET DELOS SANTOS\n",
       "19728       MEGAN BRIZZOLARA\n",
       "Name: EmployeeName, Length: 11431, dtype: object"
      ]
     },
     "execution_count": 77,
     "metadata": {},
     "output_type": "execute_result"
    }
   ],
   "source": [
    "sal[(sal.TotalPayBenefits>sal.TotalPayBenefits.min()) & \n",
    "       (sal.TotalPayBenefits<sal.TotalPayBenefits.mean())]['EmployeeName']"
   ]
  }
 ],
 "metadata": {
  "anaconda-cloud": {},
  "colab": {
   "collapsed_sections": [],
   "include_colab_link": true,
   "name": "Assignment-1-Student.ipynb",
   "provenance": []
  },
  "kernelspec": {
   "display_name": "Python 3 (ipykernel)",
   "language": "python",
   "name": "python3"
  },
  "language_info": {
   "codemirror_mode": {
    "name": "ipython",
    "version": 3
   },
   "file_extension": ".py",
   "mimetype": "text/x-python",
   "name": "python",
   "nbconvert_exporter": "python",
   "pygments_lexer": "ipython3",
   "version": "3.9.12"
  }
 },
 "nbformat": 4,
 "nbformat_minor": 1
}
