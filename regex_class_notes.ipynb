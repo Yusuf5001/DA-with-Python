{
  "cells": [
    {
      "cell_type": "markdown",
      "metadata": {
        "id": "view-in-github",
        "colab_type": "text"
      },
      "source": [
        "<a href=\"https://colab.research.google.com/github/Yusuf5001/DA-with-Python/blob/main/regex_class_notes.ipynb\" target=\"_parent\"><img src=\"https://colab.research.google.com/assets/colab-badge.svg\" alt=\"Open In Colab\"/></a>"
      ]
    },
    {
      "cell_type": "markdown",
      "id": "53f26752",
      "metadata": {
        "toc": true,
        "id": "53f26752"
      },
      "source": [
        "<h1>Table of Contents<span class=\"tocSkip\"></span></h1>\n",
        "<div class=\"toc\"><ul class=\"toc-item\"><li><span><a href=\"#Regular-Expressions\" data-toc-modified-id=\"Regular-Expressions-1\"><span class=\"toc-item-num\">1&nbsp;&nbsp;</span>Regular Expressions</a></span></li></ul></div>"
      ]
    },
    {
      "cell_type": "markdown",
      "id": "027bc2b4",
      "metadata": {
        "id": "027bc2b4"
      },
      "source": [
        "___\n",
        "\n",
        "\n",
        "<p style=\"text-align: center;\"><img src=\"https://docs.google.com/uc?id=1lY0Uj5R04yMY3-ZppPWxqCr5pvBLYPnV\" class=\"img-fluid\" alt=\"Rossum\"></p>\n",
        "\n",
        "___"
      ]
    },
    {
      "cell_type": "markdown",
      "id": "d2cf6746",
      "metadata": {
        "id": "d2cf6746"
      },
      "source": [
        "# Regular Expressions"
      ]
    },
    {
      "cell_type": "code",
      "execution_count": null,
      "id": "eb831707",
      "metadata": {
        "id": "eb831707"
      },
      "outputs": [],
      "source": [
        "#str.   pandas.Series.str.\n",
        "# Django (URL resolvers);   grep   ; pandas;  Perl\n",
        "\n",
        "# find text.  given a patter, find \"matchers\"\n",
        "# replace text   str.relace()\n",
        "# split split text up\n",
        "# group text found\n",
        "\n",
        "# compile (recycle bits of code VERY efficiently)"
      ]
    },
    {
      "cell_type": "code",
      "execution_count": null,
      "id": "fdda3094",
      "metadata": {
        "id": "fdda3094"
      },
      "outputs": [],
      "source": [
        "# \\d Any numeric digit from 0 to 9.\n",
        "\n",
        "# \\D Matches any character which is not a decimal digit. This is the opposite of \\d.\n",
        "\n",
        "# \\w Any letter, numeric digit, or the underscore character. (Think of this as matching \"word\" characters.)\n",
        "\n",
        "# \\W Any character that is not a letter, numeric digit, or the underscore character.\n",
        "\n",
        "# \\s Any space, tab, or newline character. ( Think of this as matching white-space characters.)\n",
        "\n",
        "# \\S Any character that is not a space, tab, or newline."
      ]
    },
    {
      "cell_type": "code",
      "execution_count": 1,
      "id": "f4ec2b14",
      "metadata": {
        "id": "f4ec2b14"
      },
      "outputs": [],
      "source": [
        "import re #regular expression library"
      ]
    },
    {
      "cell_type": "code",
      "execution_count": 2,
      "id": "aeefd979",
      "metadata": {
        "id": "aeefd979"
      },
      "outputs": [],
      "source": [
        "pattern = r'\\d\\d'\n",
        "target = 'A78L41K'\n",
        "match = re.search(pattern, target)"
      ]
    },
    {
      "cell_type": "code",
      "execution_count": 3,
      "id": "f1d9c2b2",
      "metadata": {
        "colab": {
          "base_uri": "https://localhost:8080/",
          "height": 35
        },
        "id": "f1d9c2b2",
        "outputId": "85d3912e-269b-4ad4-9cd8-bb9f4c04ab9c"
      },
      "outputs": [
        {
          "output_type": "execute_result",
          "data": {
            "application/vnd.google.colaboratory.intrinsic+json": {
              "type": "string"
            },
            "text/plain": [
              "'78'"
            ]
          },
          "metadata": {},
          "execution_count": 3
        }
      ],
      "source": [
        "match.group()"
      ]
    },
    {
      "cell_type": "code",
      "execution_count": 4,
      "id": "48658d23",
      "metadata": {
        "colab": {
          "base_uri": "https://localhost:8080/"
        },
        "id": "48658d23",
        "outputId": "711b63f8-c831-449c-806e-9c1b9ccec436"
      },
      "outputs": [
        {
          "output_type": "execute_result",
          "data": {
            "text/plain": [
              "1"
            ]
          },
          "metadata": {},
          "execution_count": 4
        }
      ],
      "source": [
        "match.start()"
      ]
    },
    {
      "cell_type": "code",
      "execution_count": null,
      "id": "ecc529a6",
      "metadata": {
        "id": "ecc529a6"
      },
      "outputs": [],
      "source": [
        "match.end()\n"
      ]
    },
    {
      "cell_type": "code",
      "execution_count": 6,
      "id": "d84e1479",
      "metadata": {
        "colab": {
          "base_uri": "https://localhost:8080/",
          "height": 35
        },
        "id": "d84e1479",
        "outputId": "06085d7e-e92c-4e9b-c80e-ab97f83b7adb"
      },
      "outputs": [
        {
          "output_type": "execute_result",
          "data": {
            "application/vnd.google.colaboratory.intrinsic+json": {
              "type": "string"
            },
            "text/plain": [
              "'A78L41K'"
            ]
          },
          "metadata": {},
          "execution_count": 6
        }
      ],
      "source": [
        "match.string"
      ]
    },
    {
      "cell_type": "code",
      "execution_count": 7,
      "id": "177b8928",
      "metadata": {
        "colab": {
          "base_uri": "https://localhost:8080/"
        },
        "id": "177b8928",
        "outputId": "253d381f-c421-428f-aa55-0e3e70967c9a"
      },
      "outputs": [
        {
          "output_type": "execute_result",
          "data": {
            "text/plain": [
              "re.compile(r'\\d\\d', re.UNICODE)"
            ]
          },
          "metadata": {},
          "execution_count": 7
        }
      ],
      "source": [
        "match.re"
      ]
    },
    {
      "cell_type": "code",
      "execution_count": null,
      "id": "e22c2c9e",
      "metadata": {
        "id": "e22c2c9e",
        "outputId": "5a6f8e26-ec57-45a0-8d5d-c9ec617f769f"
      },
      "outputs": [
        {
          "data": {
            "text/plain": [
              "<re.Match object; span=(2, 5), match='8L4'>"
            ]
          },
          "execution_count": 11,
          "metadata": {},
          "output_type": "execute_result"
        }
      ],
      "source": [
        "pattern = r'8L4'\n",
        "target = 'A78L41K'\n",
        "match = re.search(pattern, target)\n",
        "match"
      ]
    },
    {
      "cell_type": "code",
      "execution_count": null,
      "id": "b6f4a982",
      "metadata": {
        "id": "b6f4a982",
        "outputId": "290324b8-9058-4ce6-ea80-867a240df4fa"
      },
      "outputs": [
        {
          "name": "stdout",
          "output_type": "stream",
          "text": [
            "P\n"
          ]
        }
      ],
      "source": [
        "text = \"8PM19MIN\"\n",
        "nondeci = re.search(\"\\D\", text)\n",
        "print(nondeci.group())"
      ]
    },
    {
      "cell_type": "code",
      "execution_count": null,
      "id": "c143249e",
      "metadata": {
        "id": "c143249e",
        "outputId": "6a1b651b-91c5-4c52-a390-2a8e68c17244"
      },
      "outputs": [
        {
          "data": {
            "text/plain": [
              "<re.Match object; span=(19, 29), match='5556667777'>"
            ]
          },
          "execution_count": 13,
          "metadata": {},
          "output_type": "execute_result"
        }
      ],
      "source": [
        "text = 'My phone number is 5556667777'  #(503) 555-1212    503.555.1212  +01 503-555-1212\n",
        "output = re.search(\"(\\d\\d\\d)(\\d\\d\\d)(\\d\\d\\d\\d)\", text)  #(parens signal groups)\n",
        "output"
      ]
    },
    {
      "cell_type": "code",
      "execution_count": null,
      "id": "5347f468",
      "metadata": {
        "id": "5347f468",
        "outputId": "24915977-d859-4891-9ebd-919875f20abb"
      },
      "outputs": [
        {
          "data": {
            "text/plain": [
              "('555', '666', '7777')"
            ]
          },
          "execution_count": 14,
          "metadata": {},
          "output_type": "execute_result"
        }
      ],
      "source": [
        "output.groups()"
      ]
    },
    {
      "cell_type": "code",
      "execution_count": null,
      "id": "b668f8db",
      "metadata": {
        "id": "b668f8db",
        "outputId": "59cc21d5-245d-4d55-f43d-135d9ecda1e2"
      },
      "outputs": [
        {
          "data": {
            "text/plain": [
              "('555', '666')"
            ]
          },
          "execution_count": 18,
          "metadata": {},
          "output_type": "execute_result"
        }
      ],
      "source": [
        "text = 'My phone number is 555666abcd'  #(503) 555-1212    503.555.1212  +01 503-555-1212\n",
        "output = re.search(\"(\\d\\d\\d)(\\d\\d\\d)(\\d\\d\\d\\d)\", text)  #(parens signal groups)\n",
        "output = re.search(\"(\\d\\d\\d)(\\d\\d\\d)\", text)  #(parens signal groups)\n",
        "output\n",
        "output.groups()"
      ]
    },
    {
      "cell_type": "code",
      "execution_count": null,
      "id": "2da6705c",
      "metadata": {
        "id": "2da6705c",
        "outputId": "26bd22a7-54a4-4461-8751-6278db157ed3"
      },
      "outputs": [
        {
          "data": {
            "text/plain": [
              "<re.Match object; span=(19, 31), match='415-555-1212'>"
            ]
          },
          "execution_count": 19,
          "metadata": {},
          "output_type": "execute_result"
        }
      ],
      "source": [
        "text = 'My phone number is 415-555-1212'\n",
        "output = re.search('(\\d\\d\\d)-(\\d\\d\\d-\\d\\d\\d\\d)', text)\n",
        "output"
      ]
    },
    {
      "cell_type": "code",
      "execution_count": null,
      "id": "e5692a43",
      "metadata": {
        "id": "e5692a43",
        "outputId": "33cca074-2299-4b7b-8911-ffa9b2e84b7e"
      },
      "outputs": [
        {
          "data": {
            "text/plain": [
              "'415-555-1212'"
            ]
          },
          "execution_count": 21,
          "metadata": {},
          "output_type": "execute_result"
        }
      ],
      "source": [
        "output.group(0)"
      ]
    },
    {
      "cell_type": "code",
      "execution_count": null,
      "id": "c2e4f8f3",
      "metadata": {
        "id": "c2e4f8f3",
        "outputId": "20cad0ee-6c62-4ced-a13a-c62420481bfe"
      },
      "outputs": [
        {
          "data": {
            "text/plain": [
              "'415'"
            ]
          },
          "execution_count": 22,
          "metadata": {},
          "output_type": "execute_result"
        }
      ],
      "source": [
        "output.group(1)"
      ]
    },
    {
      "cell_type": "code",
      "execution_count": null,
      "id": "f0952282",
      "metadata": {
        "id": "f0952282",
        "outputId": "9e2d8cb9-6a7c-4c6b-b249-63f4af639b74"
      },
      "outputs": [
        {
          "data": {
            "text/plain": [
              "'555-1212'"
            ]
          },
          "execution_count": 23,
          "metadata": {},
          "output_type": "execute_result"
        }
      ],
      "source": [
        "output.group(2)"
      ]
    },
    {
      "cell_type": "code",
      "execution_count": null,
      "id": "33955479",
      "metadata": {
        "id": "33955479",
        "outputId": "32c4e6cd-5280-47e1-be03-7960a2de6c54"
      },
      "outputs": [
        {
          "data": {
            "text/plain": [
              "('415', '555-1212')"
            ]
          },
          "execution_count": 24,
          "metadata": {},
          "output_type": "execute_result"
        }
      ],
      "source": [
        "output.groups()"
      ]
    },
    {
      "cell_type": "code",
      "execution_count": null,
      "id": "4442c7e6",
      "metadata": {
        "id": "4442c7e6",
        "outputId": "5ad98439-d965-4ad1-dcad-7580cb6acb6c"
      },
      "outputs": [
        {
          "data": {
            "text/plain": [
              "2"
            ]
          },
          "execution_count": 25,
          "metadata": {},
          "output_type": "execute_result"
        }
      ],
      "source": [
        "len(output.groups())"
      ]
    },
    {
      "cell_type": "code",
      "execution_count": null,
      "id": "4655e058",
      "metadata": {
        "id": "4655e058",
        "outputId": "77b6968a-c295-443b-a5c3-06d9611b04f1"
      },
      "outputs": [
        {
          "data": {
            "text/plain": [
              "['1', '10', '100', '100000']"
            ]
          },
          "execution_count": 27,
          "metadata": {},
          "output_type": "execute_result"
        }
      ],
      "source": [
        "value = \"O 1, t 10, o 100. 100000\"  #0 -> 999999 \n",
        "output = re.findall(\"\\d{1,6}\", value)\n",
        "output"
      ]
    },
    {
      "cell_type": "code",
      "execution_count": null,
      "id": "c5ac1075",
      "metadata": {
        "id": "c5ac1075",
        "outputId": "65744741-3b8e-45d2-ffef-b54c3bb153a9"
      },
      "outputs": [
        {
          "data": {
            "text/plain": [
              "'2004959559'"
            ]
          },
          "execution_count": 28,
          "metadata": {},
          "output_type": "execute_result"
        }
      ],
      "source": [
        "phone = \"2004-959-559 # This is Phone Number\"\n",
        "output = re.sub(\"\\D\", \"\", phone)  #greedy (does many operations)\n",
        "output"
      ]
    },
    {
      "cell_type": "code",
      "execution_count": null,
      "id": "79e6c95a",
      "metadata": {
        "id": "79e6c95a",
        "outputId": "0776ea94-374c-453a-b690-1e95f7050cf1"
      },
      "outputs": [
        {
          "data": {
            "text/plain": [
              "'....-...-... # This is Phone Number'"
            ]
          },
          "execution_count": 29,
          "metadata": {},
          "output_type": "execute_result"
        }
      ],
      "source": [
        "phone = \"2004-959-559 # This is Phone Number\"\n",
        "output = re.sub(\"\\d\", \".\", phone)\n",
        "output"
      ]
    },
    {
      "cell_type": "code",
      "execution_count": null,
      "id": "f2c8308f",
      "metadata": {
        "id": "f2c8308f"
      },
      "outputs": [],
      "source": [
        "import pandas as pd\n",
        "s = pd.Series(['a3', 'b4', 'c5', 'd'])\n",
        "t = s.str.contains(\"\\d\")\n"
      ]
    },
    {
      "cell_type": "code",
      "execution_count": null,
      "id": "7eeb3a1d",
      "metadata": {
        "id": "7eeb3a1d",
        "outputId": "324f59a6-65e0-4e99-ffac-cc21c4ec4064"
      },
      "outputs": [
        {
          "data": {
            "text/plain": [
              "0     True\n",
              "1     True\n",
              "2     True\n",
              "3    False\n",
              "dtype: bool"
            ]
          },
          "execution_count": 34,
          "metadata": {},
          "output_type": "execute_result"
        }
      ],
      "source": [
        "t"
      ]
    },
    {
      "cell_type": "code",
      "execution_count": null,
      "id": "6b57b77f",
      "metadata": {
        "id": "6b57b77f",
        "outputId": "626e8c97-49f7-46db-9902-a87a157872b4"
      },
      "outputs": [
        {
          "data": {
            "text/plain": [
              "0    a3\n",
              "1    b4\n",
              "2    c5\n",
              "dtype: object"
            ]
          },
          "execution_count": 35,
          "metadata": {},
          "output_type": "execute_result"
        }
      ],
      "source": [
        "s[t]"
      ]
    },
    {
      "cell_type": "code",
      "execution_count": null,
      "id": "5d2d003c",
      "metadata": {
        "id": "5d2d003c",
        "outputId": "dfd70eb4-1b46-4bc6-ca1b-33d5c5a69147"
      },
      "outputs": [
        {
          "data": {
            "text/plain": [
              "0     True\n",
              "1     True\n",
              "2     True\n",
              "3    False\n",
              "dtype: bool"
            ]
          },
          "execution_count": 36,
          "metadata": {},
          "output_type": "execute_result"
        }
      ],
      "source": [
        "s.apply(lambda x : True if re.search(\"\\d\", x) else False)"
      ]
    },
    {
      "cell_type": "code",
      "execution_count": null,
      "id": "4423bfef",
      "metadata": {
        "id": "4423bfef",
        "outputId": "f2216bf0-8776-452e-9ba5-1b6670ac3cd1"
      },
      "outputs": [
        {
          "data": {
            "text/plain": [
              "0    3\n",
              "1    5\n",
              "2    7\n",
              "dtype: int64"
            ]
          },
          "execution_count": 37,
          "metadata": {},
          "output_type": "execute_result"
        }
      ],
      "source": [
        "s = pd.Series([\"aaa\" ,\"bbabb\", \"cccaccc\"])  \n",
        "s.str.count(\"\\w\") "
      ]
    },
    {
      "cell_type": "code",
      "execution_count": null,
      "id": "2ec99388",
      "metadata": {
        "id": "2ec99388",
        "outputId": "3470e149-f3ba-4960-b605-1c399c8b609c"
      },
      "outputs": [
        {
          "data": {
            "text/plain": [
              "0    a3aa\n",
              "1    b4aa\n",
              "2    c5aa\n",
              "dtype: object"
            ]
          },
          "execution_count": 38,
          "metadata": {},
          "output_type": "execute_result"
        }
      ],
      "source": [
        "s = pd.Series(['a3aa', 'b4aa', 'c5aa'])\n",
        "s"
      ]
    },
    {
      "cell_type": "code",
      "execution_count": null,
      "id": "2291c5a8",
      "metadata": {
        "id": "2291c5a8",
        "outputId": "df97df67-0009-4990-c6f4-3f314e2595c5"
      },
      "outputs": [
        {
          "data": {
            "text/html": [
              "<div>\n",
              "<style scoped>\n",
              "    .dataframe tbody tr th:only-of-type {\n",
              "        vertical-align: middle;\n",
              "    }\n",
              "\n",
              "    .dataframe tbody tr th {\n",
              "        vertical-align: top;\n",
              "    }\n",
              "\n",
              "    .dataframe thead th {\n",
              "        text-align: right;\n",
              "    }\n",
              "</style>\n",
              "<table border=\"1\" class=\"dataframe\">\n",
              "  <thead>\n",
              "    <tr style=\"text-align: right;\">\n",
              "      <th></th>\n",
              "      <th>0</th>\n",
              "      <th>1</th>\n",
              "      <th>2</th>\n",
              "      <th>3</th>\n",
              "    </tr>\n",
              "  </thead>\n",
              "  <tbody>\n",
              "    <tr>\n",
              "      <th>0</th>\n",
              "      <td>a</td>\n",
              "      <td>3</td>\n",
              "      <td>a</td>\n",
              "      <td>a</td>\n",
              "    </tr>\n",
              "    <tr>\n",
              "      <th>1</th>\n",
              "      <td>b</td>\n",
              "      <td>4</td>\n",
              "      <td>a</td>\n",
              "      <td>a</td>\n",
              "    </tr>\n",
              "    <tr>\n",
              "      <th>2</th>\n",
              "      <td>c</td>\n",
              "      <td>5</td>\n",
              "      <td>a</td>\n",
              "      <td>a</td>\n",
              "    </tr>\n",
              "  </tbody>\n",
              "</table>\n",
              "</div>"
            ],
            "text/plain": [
              "   0  1  2  3\n",
              "0  a  3  a  a\n",
              "1  b  4  a  a\n",
              "2  c  5  a  a"
            ]
          },
          "execution_count": 40,
          "metadata": {},
          "output_type": "execute_result"
        }
      ],
      "source": [
        "s.str.extract('(\\w)(\\d)(\\w)(\\w)')  # (x)9(x)(x)"
      ]
    },
    {
      "cell_type": "code",
      "execution_count": null,
      "id": "6a97b18f",
      "metadata": {
        "id": "6a97b18f",
        "outputId": "e9c2dc62-fb6f-4add-93fe-b10ccae74d22"
      },
      "outputs": [
        {
          "data": {
            "text/plain": [
              "0       40 l/100 km (comb)\n",
              "1       38 l/100 km (comb)\n",
              "2      6.4 l/100 km (comb)\n",
              "3     8.3 kg/100 km (comb)\n",
              "4     5.1 kg/100 km (comb)\n",
              "5      5.4 l/100 km (comb)\n",
              "6      6.7 l/100 km (comb)\n",
              "7      6.2 l/100 km (comb)\n",
              "8      7.3 l/100 km (comb)\n",
              "9      6.3 l/100 km (comb)\n",
              "10     5.7 l/100 km (comb)\n",
              "11     6.1 l/100 km (comb)\n",
              "12     6.8 l/100 km (comb)\n",
              "13     7.5 l/100 km (comb)\n",
              "14     7.4 l/100 km (comb)\n",
              "15    3.6 kg/100 km (comb)\n",
              "16       0 l/100 km (comb)\n",
              "17     7.8 l/100 km (comb)\n",
              "dtype: object"
            ]
          },
          "execution_count": 41,
          "metadata": {},
          "output_type": "execute_result"
        }
      ],
      "source": [
        "s= pd.Series(['40 l/100 km (comb)', \n",
        "        '38 l/100 km (comb)', '6.4 l/100 km (comb)',\n",
        "       '8.3 kg/100 km (comb)', '5.1 kg/100 km (comb)',\n",
        "       '5.4 l/100 km (comb)', '6.7 l/100 km (comb)',\n",
        "       '6.2 l/100 km (comb)', '7.3 l/100 km (comb)',\n",
        "       '6.3 l/100 km (comb)', '5.7 l/100 km (comb)',\n",
        "       '6.1 l/100 km (comb)', '6.8 l/100 km (comb)',\n",
        "       '7.5 l/100 km (comb)', '7.4 l/100 km (comb)',\n",
        "       '3.6 kg/100 km (comb)', '0 l/100 km (comb)', \n",
        "       '7.8 l/100 km (comb)'])\n",
        "s"
      ]
    },
    {
      "cell_type": "code",
      "execution_count": null,
      "id": "d3d78402",
      "metadata": {
        "id": "d3d78402",
        "outputId": "e1bd316e-0654-43a8-a7e7-89774cb33c3e"
      },
      "outputs": [
        {
          "data": {
            "text/html": [
              "<div>\n",
              "<style scoped>\n",
              "    .dataframe tbody tr th:only-of-type {\n",
              "        vertical-align: middle;\n",
              "    }\n",
              "\n",
              "    .dataframe tbody tr th {\n",
              "        vertical-align: top;\n",
              "    }\n",
              "\n",
              "    .dataframe thead th {\n",
              "        text-align: right;\n",
              "    }\n",
              "</style>\n",
              "<table border=\"1\" class=\"dataframe\">\n",
              "  <thead>\n",
              "    <tr style=\"text-align: right;\">\n",
              "      <th></th>\n",
              "      <th>0</th>\n",
              "    </tr>\n",
              "  </thead>\n",
              "  <tbody>\n",
              "    <tr>\n",
              "      <th>0</th>\n",
              "      <td>100</td>\n",
              "    </tr>\n",
              "  </tbody>\n",
              "</table>\n",
              "</div>"
            ],
            "text/plain": [
              "      0\n",
              "0  100 "
            ]
          },
          "execution_count": 44,
          "metadata": {},
          "output_type": "execute_result"
        }
      ],
      "source": [
        "s.str.extract('(\\d\\d\\d )').head(1)"
      ]
    },
    {
      "cell_type": "code",
      "execution_count": null,
      "id": "8f4186e3",
      "metadata": {
        "id": "8f4186e3"
      },
      "outputs": [],
      "source": [
        " s.str.extract('(\\d\\d|\\d.\\d|\\d)')     #80   5.4   6,3"
      ]
    },
    {
      "cell_type": "code",
      "execution_count": null,
      "id": "eed102b4",
      "metadata": {
        "id": "eed102b4",
        "outputId": "453c51a4-3d25-4a7c-9d4e-6c733e2aa914"
      },
      "outputs": [
        {
          "name": "stdout",
          "output_type": "stream",
          "text": [
            "Match 1 was found at 0-2: 40\n",
            "Group 1 found at 0-2: 40\n",
            "Match 2 was found at 5-8: 100\n",
            "Group 1 found at 7-8: 0\n"
          ]
        }
      ],
      "source": [
        "# coding=utf8\n",
        "# the above tag defines encoding for this document and is for Python 2.x compatibility\n",
        "\n",
        "import re\n",
        "\n",
        "regex = r\"(\\d\\d|\\d.\\d|\\d)+\"\n",
        "\n",
        "test_str = \"40 l/100 km (comb)\"\n",
        "\n",
        "matches = re.finditer(regex, test_str, re.MULTILINE)\n",
        "\n",
        "for matchNum, match in enumerate(matches, start=1):\n",
        "    \n",
        "    print (\"Match {matchNum} was found at {start}-{end}: {match}\".format(matchNum = matchNum, start = match.start(), end = match.end(), match = match.group()))\n",
        "    \n",
        "    for groupNum in range(0, len(match.groups())):\n",
        "        groupNum = groupNum + 1\n",
        "        \n",
        "        print (\"Group {groupNum} found at {start}-{end}: {group}\".format(groupNum = groupNum, start = match.start(groupNum), end = match.end(groupNum), group = match.group(groupNum)))\n",
        "\n",
        "# Note: for Python 2.7 compatibility, use ur\"\" to prefix the regex and u\"\" to prefix the test string and substitution.\n"
      ]
    },
    {
      "cell_type": "code",
      "execution_count": null,
      "id": "e2f10720",
      "metadata": {
        "id": "e2f10720"
      },
      "outputs": [],
      "source": [
        "#https://regex101.com"
      ]
    }
  ],
  "metadata": {
    "kernelspec": {
      "display_name": "py39",
      "language": "python",
      "name": "py39"
    },
    "language_info": {
      "codemirror_mode": {
        "name": "ipython",
        "version": 3
      },
      "file_extension": ".py",
      "mimetype": "text/x-python",
      "name": "python",
      "nbconvert_exporter": "python",
      "pygments_lexer": "ipython3",
      "version": "3.9.7"
    },
    "toc": {
      "base_numbering": 1,
      "nav_menu": {},
      "number_sections": true,
      "sideBar": true,
      "skip_h1_title": false,
      "title_cell": "Table of Contents",
      "title_sidebar": "Contents",
      "toc_cell": true,
      "toc_position": {},
      "toc_section_display": true,
      "toc_window_display": true
    },
    "colab": {
      "name": "regex_class_notes.ipynb",
      "provenance": [],
      "include_colab_link": true
    }
  },
  "nbformat": 4,
  "nbformat_minor": 5
}