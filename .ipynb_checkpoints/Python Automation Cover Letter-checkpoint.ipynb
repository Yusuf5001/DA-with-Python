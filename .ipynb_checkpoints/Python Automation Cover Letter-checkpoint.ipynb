{
 "cells": [
  {
   "cell_type": "code",
   "execution_count": 7,
   "id": "116692ea",
   "metadata": {},
   "outputs": [],
   "source": [
    "import pandas as pd\n",
    "from datetime import datetime\n",
    "from docxtpl import DocxTemplate"
   ]
  },
  {
   "cell_type": "code",
   "execution_count": 8,
   "id": "1560737e",
   "metadata": {},
   "outputs": [],
   "source": [
    "doc = DocxTemplate(\"cover letter template.docx\")\n",
    "my_name = \"Yusuf Satilmis\"\n",
    "my_phone = \"+44 7786 489466\"\n",
    "my_email = \"satilmisyusuf@gmail.com\"\n",
    "my_address = \"Leeds, UK\"\n",
    "today_date = datetime.today().strftime(\"%d/ %m/ %Y\")"
   ]
  },
  {
   "cell_type": "code",
   "execution_count": 9,
   "id": "b9d1e575",
   "metadata": {},
   "outputs": [],
   "source": [
    "my_context = {'my_name': my_name, 'my_phone': my_phone, 'my_email': my_email, 'my_address': my_address,\n",
    "              'today_date': today_date}\n"
   ]
  },
  {
   "cell_type": "code",
   "execution_count": 10,
   "id": "6ee0eeb3",
   "metadata": {},
   "outputs": [],
   "source": [
    "doc.render(my_context)\n",
    "doc.save(\"Cover_letter_1.docx\")"
   ]
  },
  {
   "cell_type": "code",
   "execution_count": null,
   "id": "aa16c9f2",
   "metadata": {},
   "outputs": [],
   "source": []
  },
  {
   "cell_type": "code",
   "execution_count": null,
   "id": "9087448f",
   "metadata": {},
   "outputs": [],
   "source": []
  },
  {
   "cell_type": "code",
   "execution_count": null,
   "id": "b3256274",
   "metadata": {},
   "outputs": [],
   "source": []
  },
  {
   "cell_type": "code",
   "execution_count": null,
   "id": "38c5f954",
   "metadata": {},
   "outputs": [],
   "source": []
  },
  {
   "cell_type": "code",
   "execution_count": null,
   "id": "3ea18ca7",
   "metadata": {},
   "outputs": [],
   "source": [
    "df = pd.read_csv('fakedata.csv')\n"
   ]
  },
  {
   "cell_type": "code",
   "execution_count": null,
   "id": "5d2aeae7",
   "metadata": {},
   "outputs": [],
   "source": [
    "df"
   ]
  },
  {
   "cell_type": "code",
   "execution_count": null,
   "id": "dc109a2b",
   "metadata": {},
   "outputs": [],
   "source": [
    "for index, row in df.iterrows():\n",
    "    context = {'hiring_manager_name': row['name'],\n",
    "               'address': row['address'],\n",
    "               'phone_number': row['phone_number'],\n",
    "               'email': row['email'],\n",
    "               'job_position': row['job'],\n",
    "               'company_name': row['company']}\n",
    "\n",
    "    context.update(my_context)\n",
    "\n",
    "    doc.render(context)\n",
    "    doc.save(f\"generated_doc_{index}.docx\")"
   ]
  },
  {
   "cell_type": "code",
   "execution_count": null,
   "id": "005b26e3",
   "metadata": {},
   "outputs": [],
   "source": []
  }
 ],
 "metadata": {
  "kernelspec": {
   "display_name": "Python 3 (ipykernel)",
   "language": "python",
   "name": "python3"
  },
  "language_info": {
   "codemirror_mode": {
    "name": "ipython",
    "version": 3
   },
   "file_extension": ".py",
   "mimetype": "text/x-python",
   "name": "python",
   "nbconvert_exporter": "python",
   "pygments_lexer": "ipython3",
   "version": "3.9.12"
  },
  "toc": {
   "base_numbering": 1,
   "nav_menu": {},
   "number_sections": true,
   "sideBar": true,
   "skip_h1_title": false,
   "title_cell": "Table of Contents",
   "title_sidebar": "Contents",
   "toc_cell": false,
   "toc_position": {},
   "toc_section_display": true,
   "toc_window_display": false
  }
 },
 "nbformat": 4,
 "nbformat_minor": 5
}
