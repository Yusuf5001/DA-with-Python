{
 "cells": [
  {
   "cell_type": "code",
   "execution_count": 1,
   "id": "e74b2b30",
   "metadata": {},
   "outputs": [],
   "source": [
    "import numpy as np \n",
    "import pandas as pd \n",
    "from pandas.plotting import register_matplotlib_converters\n",
    "%matplotlib inline\n",
    "\n",
    "import seaborn as sns\n",
    "sns.set_style(\"darkgrid\")\n",
    "\n",
    "import matplotlib.pyplot as plt\n",
    "from collections import Counter\n",
    "\n",
    "from pylab import rcParams\n",
    "plt.rcParams['figure.figsize'] = (12,12)\n",
    "plt.rcParams['figure.dpi'] = 400\n",
    "import re\n",
    "import warnings\n",
    "warnings.filterwarnings(\"ignore\")\n",
    "warnings.warn(\"this will not show\")\n",
    "\n",
    "pd.set_option('display.max_columns', None)"
   ]
  },
  {
   "cell_type": "code",
   "execution_count": 22,
   "id": "aebaf185",
   "metadata": {},
   "outputs": [],
   "source": [
    "df0 = pd.read_csv(\"IMDB.csv\", index_col=\"Unnamed: 0\")\n",
    "df = df0.copy()"
   ]
  },
  {
   "cell_type": "code",
   "execution_count": 23,
   "id": "40406b86",
   "metadata": {},
   "outputs": [
    {
     "data": {
      "text/html": [
       "<div>\n",
       "<style scoped>\n",
       "    .dataframe tbody tr th:only-of-type {\n",
       "        vertical-align: middle;\n",
       "    }\n",
       "\n",
       "    .dataframe tbody tr th {\n",
       "        vertical-align: top;\n",
       "    }\n",
       "\n",
       "    .dataframe thead th {\n",
       "        text-align: right;\n",
       "    }\n",
       "</style>\n",
       "<table border=\"1\" class=\"dataframe\">\n",
       "  <thead>\n",
       "    <tr style=\"text-align: right;\">\n",
       "      <th></th>\n",
       "      <th>Name of movie</th>\n",
       "      <th>Year of relase</th>\n",
       "      <th>Watchtime</th>\n",
       "      <th>Movie Rating</th>\n",
       "      <th>Metascore</th>\n",
       "      <th>Votes</th>\n",
       "      <th>Gross collection</th>\n",
       "      <th>Description</th>\n",
       "      <th>Director</th>\n",
       "      <th>Star</th>\n",
       "    </tr>\n",
       "  </thead>\n",
       "  <tbody>\n",
       "    <tr>\n",
       "      <th>0</th>\n",
       "      <td>Jai Bhim</td>\n",
       "      <td>2021</td>\n",
       "      <td>164</td>\n",
       "      <td>9.3</td>\n",
       "      <td>Nan</td>\n",
       "      <td>173,295</td>\n",
       "      <td>#139</td>\n",
       "      <td>When a tribal man is arrested for a case of al...</td>\n",
       "      <td>T.J. Gnanavel</td>\n",
       "      <td>['Suriya', 'Lijo Mol Jose', 'Manikandan', 'Raj...</td>\n",
       "    </tr>\n",
       "    <tr>\n",
       "      <th>1</th>\n",
       "      <td>The Shawshank Redemption</td>\n",
       "      <td>1994</td>\n",
       "      <td>142</td>\n",
       "      <td>9.3</td>\n",
       "      <td>80</td>\n",
       "      <td>2,541,091</td>\n",
       "      <td>$28.34M</td>\n",
       "      <td>Two imprisoned men bond over a number of years...</td>\n",
       "      <td>Frank Darabont</td>\n",
       "      <td>['Tim Robbins', 'Morgan Freeman', 'Bob Gunton'...</td>\n",
       "    </tr>\n",
       "    <tr>\n",
       "      <th>2</th>\n",
       "      <td>The Godfather</td>\n",
       "      <td>1972</td>\n",
       "      <td>175</td>\n",
       "      <td>9.2</td>\n",
       "      <td>100</td>\n",
       "      <td>1,748,410</td>\n",
       "      <td>$134.97M</td>\n",
       "      <td>The aging patriarch of an organized crime dyna...</td>\n",
       "      <td>Francis Ford Coppola</td>\n",
       "      <td>['Marlon Brando', 'Al Pacino', 'James Caan', '...</td>\n",
       "    </tr>\n",
       "    <tr>\n",
       "      <th>3</th>\n",
       "      <td>Soorarai Pottru</td>\n",
       "      <td>2020</td>\n",
       "      <td>153</td>\n",
       "      <td>9.1</td>\n",
       "      <td>Nan</td>\n",
       "      <td>107,159</td>\n",
       "      <td>Nan</td>\n",
       "      <td>Nedumaaran Rajangam \"Maara\" sets out to make t...</td>\n",
       "      <td>Sudha Kongara</td>\n",
       "      <td>['Suriya', 'Paresh Rawal', 'Aparna Balamurali'...</td>\n",
       "    </tr>\n",
       "    <tr>\n",
       "      <th>4</th>\n",
       "      <td>The Dark Knight</td>\n",
       "      <td>2008</td>\n",
       "      <td>152</td>\n",
       "      <td>9.0</td>\n",
       "      <td>84</td>\n",
       "      <td>2,491,371</td>\n",
       "      <td>$534.86M</td>\n",
       "      <td>When the menace known as the Joker wreaks havo...</td>\n",
       "      <td>Christopher Nolan</td>\n",
       "      <td>['Christian Bale', 'Heath Ledger', 'Aaron Eckh...</td>\n",
       "    </tr>\n",
       "  </tbody>\n",
       "</table>\n",
       "</div>"
      ],
      "text/plain": [
       "              Name of movie Year of relase  Watchtime  Movie Rating Metascore  \\\n",
       "0                  Jai Bhim           2021        164           9.3       Nan   \n",
       "1  The Shawshank Redemption           1994        142           9.3        80   \n",
       "2             The Godfather           1972        175           9.2       100   \n",
       "3           Soorarai Pottru           2020        153           9.1       Nan   \n",
       "4           The Dark Knight           2008        152           9.0        84   \n",
       "\n",
       "       Votes Gross collection  \\\n",
       "0    173,295             #139   \n",
       "1  2,541,091          $28.34M   \n",
       "2  1,748,410         $134.97M   \n",
       "3    107,159              Nan   \n",
       "4  2,491,371         $534.86M   \n",
       "\n",
       "                                         Description              Director  \\\n",
       "0  When a tribal man is arrested for a case of al...         T.J. Gnanavel   \n",
       "1  Two imprisoned men bond over a number of years...        Frank Darabont   \n",
       "2  The aging patriarch of an organized crime dyna...  Francis Ford Coppola   \n",
       "3  Nedumaaran Rajangam \"Maara\" sets out to make t...         Sudha Kongara   \n",
       "4  When the menace known as the Joker wreaks havo...     Christopher Nolan   \n",
       "\n",
       "                                                Star  \n",
       "0  ['Suriya', 'Lijo Mol Jose', 'Manikandan', 'Raj...  \n",
       "1  ['Tim Robbins', 'Morgan Freeman', 'Bob Gunton'...  \n",
       "2  ['Marlon Brando', 'Al Pacino', 'James Caan', '...  \n",
       "3  ['Suriya', 'Paresh Rawal', 'Aparna Balamurali'...  \n",
       "4  ['Christian Bale', 'Heath Ledger', 'Aaron Eckh...  "
      ]
     },
     "execution_count": 23,
     "metadata": {},
     "output_type": "execute_result"
    }
   ],
   "source": [
    "df.head()"
   ]
  },
  {
   "cell_type": "code",
   "execution_count": 24,
   "id": "73ec45f1",
   "metadata": {},
   "outputs": [
    {
     "data": {
      "text/plain": [
       "(1000, 10)"
      ]
     },
     "execution_count": 24,
     "metadata": {},
     "output_type": "execute_result"
    }
   ],
   "source": [
    "df.shape"
   ]
  },
  {
   "cell_type": "code",
   "execution_count": 25,
   "id": "7e5c2859",
   "metadata": {},
   "outputs": [
    {
     "data": {
      "text/plain": [
       "0    ['Suriya', 'Lijo Mol Jose', 'Manikandan', 'Raj...\n",
       "1    ['Tim Robbins', 'Morgan Freeman', 'Bob Gunton'...\n",
       "2    ['Marlon Brando', 'Al Pacino', 'James Caan', '...\n",
       "3    ['Suriya', 'Paresh Rawal', 'Aparna Balamurali'...\n",
       "4    ['Christian Bale', 'Heath Ledger', 'Aaron Eckh...\n",
       "Name: Star, dtype: object"
      ]
     },
     "execution_count": 25,
     "metadata": {},
     "output_type": "execute_result"
    }
   ],
   "source": [
    "df.Star.head()"
   ]
  },
  {
   "cell_type": "code",
   "execution_count": 26,
   "id": "502cd8ff",
   "metadata": {},
   "outputs": [
    {
     "name": "stdout",
     "output_type": "stream",
     "text": [
      "<class 'pandas.core.frame.DataFrame'>\n",
      "Int64Index: 1000 entries, 0 to 999\n",
      "Data columns (total 10 columns):\n",
      " #   Column            Non-Null Count  Dtype  \n",
      "---  ------            --------------  -----  \n",
      " 0   Name of movie     1000 non-null   object \n",
      " 1   Year of relase    1000 non-null   object \n",
      " 2   Watchtime         1000 non-null   int64  \n",
      " 3   Movie Rating      1000 non-null   float64\n",
      " 4   Metascore         1000 non-null   object \n",
      " 5   Votes             1000 non-null   object \n",
      " 6   Gross collection  1000 non-null   object \n",
      " 7   Description       1000 non-null   object \n",
      " 8   Director          1000 non-null   object \n",
      " 9   Star              1000 non-null   object \n",
      "dtypes: float64(1), int64(1), object(8)\n",
      "memory usage: 85.9+ KB\n"
     ]
    }
   ],
   "source": [
    "df.info()"
   ]
  },
  {
   "cell_type": "code",
   "execution_count": 27,
   "id": "4b9198b4",
   "metadata": {
    "scrolled": true
   },
   "outputs": [
    {
     "data": {
      "text/html": [
       "<div>\n",
       "<style scoped>\n",
       "    .dataframe tbody tr th:only-of-type {\n",
       "        vertical-align: middle;\n",
       "    }\n",
       "\n",
       "    .dataframe tbody tr th {\n",
       "        vertical-align: top;\n",
       "    }\n",
       "\n",
       "    .dataframe thead th {\n",
       "        text-align: right;\n",
       "    }\n",
       "</style>\n",
       "<table border=\"1\" class=\"dataframe\">\n",
       "  <thead>\n",
       "    <tr style=\"text-align: right;\">\n",
       "      <th></th>\n",
       "      <th>dtypes</th>\n",
       "    </tr>\n",
       "  </thead>\n",
       "  <tbody>\n",
       "    <tr>\n",
       "      <th>Name of movie</th>\n",
       "      <td>object</td>\n",
       "    </tr>\n",
       "    <tr>\n",
       "      <th>Year of relase</th>\n",
       "      <td>object</td>\n",
       "    </tr>\n",
       "    <tr>\n",
       "      <th>Watchtime</th>\n",
       "      <td>int64</td>\n",
       "    </tr>\n",
       "    <tr>\n",
       "      <th>Movie Rating</th>\n",
       "      <td>float64</td>\n",
       "    </tr>\n",
       "    <tr>\n",
       "      <th>Metascore</th>\n",
       "      <td>object</td>\n",
       "    </tr>\n",
       "    <tr>\n",
       "      <th>Votes</th>\n",
       "      <td>object</td>\n",
       "    </tr>\n",
       "    <tr>\n",
       "      <th>Gross collection</th>\n",
       "      <td>object</td>\n",
       "    </tr>\n",
       "    <tr>\n",
       "      <th>Description</th>\n",
       "      <td>object</td>\n",
       "    </tr>\n",
       "    <tr>\n",
       "      <th>Director</th>\n",
       "      <td>object</td>\n",
       "    </tr>\n",
       "    <tr>\n",
       "      <th>Star</th>\n",
       "      <td>object</td>\n",
       "    </tr>\n",
       "  </tbody>\n",
       "</table>\n",
       "</div>"
      ],
      "text/plain": [
       "                   dtypes\n",
       "Name of movie      object\n",
       "Year of relase     object\n",
       "Watchtime           int64\n",
       "Movie Rating      float64\n",
       "Metascore          object\n",
       "Votes              object\n",
       "Gross collection   object\n",
       "Description        object\n",
       "Director           object\n",
       "Star               object"
      ]
     },
     "execution_count": 27,
     "metadata": {},
     "output_type": "execute_result"
    }
   ],
   "source": [
    "dtypes = pd.DataFrame(df.dtypes, columns = ['dtypes'])\n",
    "dtypes"
   ]
  },
  {
   "cell_type": "code",
   "execution_count": 28,
   "id": "ad20df75",
   "metadata": {},
   "outputs": [
    {
     "data": {
      "text/html": [
       "<div>\n",
       "<style scoped>\n",
       "    .dataframe tbody tr th:only-of-type {\n",
       "        vertical-align: middle;\n",
       "    }\n",
       "\n",
       "    .dataframe tbody tr th {\n",
       "        vertical-align: top;\n",
       "    }\n",
       "\n",
       "    .dataframe thead th {\n",
       "        text-align: right;\n",
       "    }\n",
       "</style>\n",
       "<table border=\"1\" class=\"dataframe\">\n",
       "  <thead>\n",
       "    <tr style=\"text-align: right;\">\n",
       "      <th></th>\n",
       "      <th>Name of movie</th>\n",
       "      <th>Year of relase</th>\n",
       "      <th>Watchtime</th>\n",
       "      <th>Movie Rating</th>\n",
       "      <th>Metascore</th>\n",
       "      <th>Votes</th>\n",
       "      <th>Gross collection</th>\n",
       "      <th>Description</th>\n",
       "      <th>Director</th>\n",
       "      <th>Star</th>\n",
       "    </tr>\n",
       "  </thead>\n",
       "  <tbody>\n",
       "    <tr>\n",
       "      <th>0</th>\n",
       "      <td>Jai Bhim</td>\n",
       "      <td>2021</td>\n",
       "      <td>164</td>\n",
       "      <td>9.3</td>\n",
       "      <td>Nan</td>\n",
       "      <td>173,295</td>\n",
       "      <td>#139</td>\n",
       "      <td>When a tribal man is arrested for a case of al...</td>\n",
       "      <td>T.J. Gnanavel</td>\n",
       "      <td>['Suriya', 'Lijo Mol Jose', 'Manikandan', 'Raj...</td>\n",
       "    </tr>\n",
       "    <tr>\n",
       "      <th>1</th>\n",
       "      <td>The Shawshank Redemption</td>\n",
       "      <td>1994</td>\n",
       "      <td>142</td>\n",
       "      <td>9.3</td>\n",
       "      <td>80</td>\n",
       "      <td>2,541,091</td>\n",
       "      <td>$28.34M</td>\n",
       "      <td>Two imprisoned men bond over a number of years...</td>\n",
       "      <td>Frank Darabont</td>\n",
       "      <td>['Tim Robbins', 'Morgan Freeman', 'Bob Gunton'...</td>\n",
       "    </tr>\n",
       "    <tr>\n",
       "      <th>2</th>\n",
       "      <td>The Godfather</td>\n",
       "      <td>1972</td>\n",
       "      <td>175</td>\n",
       "      <td>9.2</td>\n",
       "      <td>100</td>\n",
       "      <td>1,748,410</td>\n",
       "      <td>$134.97M</td>\n",
       "      <td>The aging patriarch of an organized crime dyna...</td>\n",
       "      <td>Francis Ford Coppola</td>\n",
       "      <td>['Marlon Brando', 'Al Pacino', 'James Caan', '...</td>\n",
       "    </tr>\n",
       "    <tr>\n",
       "      <th>3</th>\n",
       "      <td>Soorarai Pottru</td>\n",
       "      <td>2020</td>\n",
       "      <td>153</td>\n",
       "      <td>9.1</td>\n",
       "      <td>Nan</td>\n",
       "      <td>107,159</td>\n",
       "      <td>Nan</td>\n",
       "      <td>Nedumaaran Rajangam \"Maara\" sets out to make t...</td>\n",
       "      <td>Sudha Kongara</td>\n",
       "      <td>['Suriya', 'Paresh Rawal', 'Aparna Balamurali'...</td>\n",
       "    </tr>\n",
       "    <tr>\n",
       "      <th>4</th>\n",
       "      <td>The Dark Knight</td>\n",
       "      <td>2008</td>\n",
       "      <td>152</td>\n",
       "      <td>9.0</td>\n",
       "      <td>84</td>\n",
       "      <td>2,491,371</td>\n",
       "      <td>$534.86M</td>\n",
       "      <td>When the menace known as the Joker wreaks havo...</td>\n",
       "      <td>Christopher Nolan</td>\n",
       "      <td>['Christian Bale', 'Heath Ledger', 'Aaron Eckh...</td>\n",
       "    </tr>\n",
       "  </tbody>\n",
       "</table>\n",
       "</div>"
      ],
      "text/plain": [
       "              Name of movie Year of relase  Watchtime  Movie Rating Metascore  \\\n",
       "0                  Jai Bhim           2021        164           9.3       Nan   \n",
       "1  The Shawshank Redemption           1994        142           9.3        80   \n",
       "2             The Godfather           1972        175           9.2       100   \n",
       "3           Soorarai Pottru           2020        153           9.1       Nan   \n",
       "4           The Dark Knight           2008        152           9.0        84   \n",
       "\n",
       "       Votes Gross collection  \\\n",
       "0    173,295             #139   \n",
       "1  2,541,091          $28.34M   \n",
       "2  1,748,410         $134.97M   \n",
       "3    107,159              Nan   \n",
       "4  2,491,371         $534.86M   \n",
       "\n",
       "                                         Description              Director  \\\n",
       "0  When a tribal man is arrested for a case of al...         T.J. Gnanavel   \n",
       "1  Two imprisoned men bond over a number of years...        Frank Darabont   \n",
       "2  The aging patriarch of an organized crime dyna...  Francis Ford Coppola   \n",
       "3  Nedumaaran Rajangam \"Maara\" sets out to make t...         Sudha Kongara   \n",
       "4  When the menace known as the Joker wreaks havo...     Christopher Nolan   \n",
       "\n",
       "                                                Star  \n",
       "0  ['Suriya', 'Lijo Mol Jose', 'Manikandan', 'Raj...  \n",
       "1  ['Tim Robbins', 'Morgan Freeman', 'Bob Gunton'...  \n",
       "2  ['Marlon Brando', 'Al Pacino', 'James Caan', '...  \n",
       "3  ['Suriya', 'Paresh Rawal', 'Aparna Balamurali'...  \n",
       "4  ['Christian Bale', 'Heath Ledger', 'Aaron Eckh...  "
      ]
     },
     "execution_count": 28,
     "metadata": {},
     "output_type": "execute_result"
    }
   ],
   "source": [
    "df.head()"
   ]
  },
  {
   "cell_type": "markdown",
   "id": "ed0494a9",
   "metadata": {},
   "source": [
    "## Converting Votes to integers"
   ]
  },
  {
   "cell_type": "code",
   "execution_count": 29,
   "id": "9ab0fb18",
   "metadata": {},
   "outputs": [],
   "source": [
    "df[\"Votes\"]=df[\"Votes\"].str.replace(\",\",\"\")"
   ]
  },
  {
   "cell_type": "code",
   "execution_count": 30,
   "id": "dede6999",
   "metadata": {},
   "outputs": [
    {
     "data": {
      "text/plain": [
       "0     173295\n",
       "1    2541091\n",
       "2    1748410\n",
       "3     107159\n",
       "4    2491371\n",
       "Name: Votes, dtype: object"
      ]
     },
     "execution_count": 30,
     "metadata": {},
     "output_type": "execute_result"
    }
   ],
   "source": [
    "df.Votes.head()"
   ]
  },
  {
   "cell_type": "code",
   "execution_count": 31,
   "id": "6e945558",
   "metadata": {},
   "outputs": [],
   "source": [
    "df[\"Votes\"]=df[\"Votes\"].astype(int)"
   ]
  },
  {
   "cell_type": "code",
   "execution_count": 32,
   "id": "c9d459ce",
   "metadata": {},
   "outputs": [
    {
     "data": {
      "text/plain": [
       "0     173295\n",
       "1    2541091\n",
       "2    1748410\n",
       "3     107159\n",
       "4    2491371\n",
       "Name: Votes, dtype: int32"
      ]
     },
     "execution_count": 32,
     "metadata": {},
     "output_type": "execute_result"
    }
   ],
   "source": [
    "df.Votes.head()"
   ]
  },
  {
   "cell_type": "code",
   "execution_count": 34,
   "id": "6813d28d",
   "metadata": {},
   "outputs": [
    {
     "ename": "AttributeError",
     "evalue": "Can only use .dt accessor with datetimelike values",
     "output_type": "error",
     "traceback": [
      "\u001b[1;31m---------------------------------------------------------------------------\u001b[0m",
      "\u001b[1;31mAttributeError\u001b[0m                            Traceback (most recent call last)",
      "Cell \u001b[1;32mIn[34], line 1\u001b[0m\n\u001b[1;32m----> 1\u001b[0m df[\u001b[38;5;124m\"\u001b[39m\u001b[38;5;124mYear of relase\u001b[39m\u001b[38;5;124m\"\u001b[39m]\u001b[38;5;241m=\u001b[39m\u001b[43mdf\u001b[49m\u001b[43m[\u001b[49m\u001b[38;5;124;43m\"\u001b[39;49m\u001b[38;5;124;43mYear of relase\u001b[39;49m\u001b[38;5;124;43m\"\u001b[39;49m\u001b[43m]\u001b[49m\u001b[38;5;241;43m.\u001b[39;49m\u001b[43mdt\u001b[49m\u001b[38;5;241m.\u001b[39mstrftime(\u001b[38;5;124m\"\u001b[39m\u001b[38;5;124m%\u001b[39m\u001b[38;5;124mY\u001b[39m\u001b[38;5;124m\"\u001b[39m)\n",
      "File \u001b[1;32m~\\anaconda3\\lib\\site-packages\\pandas\\core\\generic.py:5575\u001b[0m, in \u001b[0;36mNDFrame.__getattr__\u001b[1;34m(self, name)\u001b[0m\n\u001b[0;32m   5568\u001b[0m \u001b[38;5;28;01mif\u001b[39;00m (\n\u001b[0;32m   5569\u001b[0m     name \u001b[38;5;129;01mnot\u001b[39;00m \u001b[38;5;129;01min\u001b[39;00m \u001b[38;5;28mself\u001b[39m\u001b[38;5;241m.\u001b[39m_internal_names_set\n\u001b[0;32m   5570\u001b[0m     \u001b[38;5;129;01mand\u001b[39;00m name \u001b[38;5;129;01mnot\u001b[39;00m \u001b[38;5;129;01min\u001b[39;00m \u001b[38;5;28mself\u001b[39m\u001b[38;5;241m.\u001b[39m_metadata\n\u001b[0;32m   5571\u001b[0m     \u001b[38;5;129;01mand\u001b[39;00m name \u001b[38;5;129;01mnot\u001b[39;00m \u001b[38;5;129;01min\u001b[39;00m \u001b[38;5;28mself\u001b[39m\u001b[38;5;241m.\u001b[39m_accessors\n\u001b[0;32m   5572\u001b[0m     \u001b[38;5;129;01mand\u001b[39;00m \u001b[38;5;28mself\u001b[39m\u001b[38;5;241m.\u001b[39m_info_axis\u001b[38;5;241m.\u001b[39m_can_hold_identifiers_and_holds_name(name)\n\u001b[0;32m   5573\u001b[0m ):\n\u001b[0;32m   5574\u001b[0m     \u001b[38;5;28;01mreturn\u001b[39;00m \u001b[38;5;28mself\u001b[39m[name]\n\u001b[1;32m-> 5575\u001b[0m \u001b[38;5;28;01mreturn\u001b[39;00m \u001b[38;5;28;43mobject\u001b[39;49m\u001b[38;5;241;43m.\u001b[39;49m\u001b[38;5;21;43m__getattribute__\u001b[39;49m\u001b[43m(\u001b[49m\u001b[38;5;28;43mself\u001b[39;49m\u001b[43m,\u001b[49m\u001b[43m \u001b[49m\u001b[43mname\u001b[49m\u001b[43m)\u001b[49m\n",
      "File \u001b[1;32m~\\anaconda3\\lib\\site-packages\\pandas\\core\\accessor.py:182\u001b[0m, in \u001b[0;36mCachedAccessor.__get__\u001b[1;34m(self, obj, cls)\u001b[0m\n\u001b[0;32m    179\u001b[0m \u001b[38;5;28;01mif\u001b[39;00m obj \u001b[38;5;129;01mis\u001b[39;00m \u001b[38;5;28;01mNone\u001b[39;00m:\n\u001b[0;32m    180\u001b[0m     \u001b[38;5;66;03m# we're accessing the attribute of the class, i.e., Dataset.geo\u001b[39;00m\n\u001b[0;32m    181\u001b[0m     \u001b[38;5;28;01mreturn\u001b[39;00m \u001b[38;5;28mself\u001b[39m\u001b[38;5;241m.\u001b[39m_accessor\n\u001b[1;32m--> 182\u001b[0m accessor_obj \u001b[38;5;241m=\u001b[39m \u001b[38;5;28;43mself\u001b[39;49m\u001b[38;5;241;43m.\u001b[39;49m\u001b[43m_accessor\u001b[49m\u001b[43m(\u001b[49m\u001b[43mobj\u001b[49m\u001b[43m)\u001b[49m\n\u001b[0;32m    183\u001b[0m \u001b[38;5;66;03m# Replace the property with the accessor object. Inspired by:\u001b[39;00m\n\u001b[0;32m    184\u001b[0m \u001b[38;5;66;03m# https://www.pydanny.com/cached-property.html\u001b[39;00m\n\u001b[0;32m    185\u001b[0m \u001b[38;5;66;03m# We need to use object.__setattr__ because we overwrite __setattr__ on\u001b[39;00m\n\u001b[0;32m    186\u001b[0m \u001b[38;5;66;03m# NDFrame\u001b[39;00m\n\u001b[0;32m    187\u001b[0m \u001b[38;5;28mobject\u001b[39m\u001b[38;5;241m.\u001b[39m\u001b[38;5;21m__setattr__\u001b[39m(obj, \u001b[38;5;28mself\u001b[39m\u001b[38;5;241m.\u001b[39m_name, accessor_obj)\n",
      "File \u001b[1;32m~\\anaconda3\\lib\\site-packages\\pandas\\core\\indexes\\accessors.py:509\u001b[0m, in \u001b[0;36mCombinedDatetimelikeProperties.__new__\u001b[1;34m(cls, data)\u001b[0m\n\u001b[0;32m    506\u001b[0m \u001b[38;5;28;01melif\u001b[39;00m is_period_dtype(data\u001b[38;5;241m.\u001b[39mdtype):\n\u001b[0;32m    507\u001b[0m     \u001b[38;5;28;01mreturn\u001b[39;00m PeriodProperties(data, orig)\n\u001b[1;32m--> 509\u001b[0m \u001b[38;5;28;01mraise\u001b[39;00m \u001b[38;5;167;01mAttributeError\u001b[39;00m(\u001b[38;5;124m\"\u001b[39m\u001b[38;5;124mCan only use .dt accessor with datetimelike values\u001b[39m\u001b[38;5;124m\"\u001b[39m)\n",
      "\u001b[1;31mAttributeError\u001b[0m: Can only use .dt accessor with datetimelike values"
     ]
    }
   ],
   "source": [
    "df[\"Year of relase\"]=df[\"Year of relase\"].dt.strftime(\"%Y\")"
   ]
  },
  {
   "cell_type": "markdown",
   "id": "63283796",
   "metadata": {},
   "source": [
    "## Name of the Longest Movie"
   ]
  },
  {
   "cell_type": "code",
   "execution_count": 9,
   "id": "bc2b7db8",
   "metadata": {},
   "outputs": [
    {
     "data": {
      "text/html": [
       "<div>\n",
       "<style scoped>\n",
       "    .dataframe tbody tr th:only-of-type {\n",
       "        vertical-align: middle;\n",
       "    }\n",
       "\n",
       "    .dataframe tbody tr th {\n",
       "        vertical-align: top;\n",
       "    }\n",
       "\n",
       "    .dataframe thead th {\n",
       "        text-align: right;\n",
       "    }\n",
       "</style>\n",
       "<table border=\"1\" class=\"dataframe\">\n",
       "  <thead>\n",
       "    <tr style=\"text-align: right;\">\n",
       "      <th></th>\n",
       "      <th>Unnamed: 0</th>\n",
       "      <th>Name of movie</th>\n",
       "      <th>Year of relase</th>\n",
       "      <th>Watchtime</th>\n",
       "      <th>Movie Rating</th>\n",
       "      <th>Metascore</th>\n",
       "      <th>Votes</th>\n",
       "      <th>Gross collection</th>\n",
       "      <th>Description</th>\n",
       "      <th>Director</th>\n",
       "      <th>Star</th>\n",
       "    </tr>\n",
       "  </thead>\n",
       "  <tbody>\n",
       "    <tr>\n",
       "      <th>36</th>\n",
       "      <td>36</td>\n",
       "      <td>Shichinin no samurai</td>\n",
       "      <td>1954</td>\n",
       "      <td>207</td>\n",
       "      <td>8.6</td>\n",
       "      <td>98</td>\n",
       "      <td>335,289</td>\n",
       "      <td>$0.27M</td>\n",
       "      <td>A poor village under attack by bandits recruit...</td>\n",
       "      <td>Akira Kurosawa</td>\n",
       "      <td>['Toshirô Mifune', 'Takashi Shimura', 'Keiko T...</td>\n",
       "    </tr>\n",
       "  </tbody>\n",
       "</table>\n",
       "</div>"
      ],
      "text/plain": [
       "    Unnamed: 0         Name of movie Year of relase  Watchtime  Movie Rating  \\\n",
       "36          36  Shichinin no samurai           1954        207           8.6   \n",
       "\n",
       "   Metascore    Votes Gross collection  \\\n",
       "36        98  335,289           $0.27M   \n",
       "\n",
       "                                          Description        Director  \\\n",
       "36  A poor village under attack by bandits recruit...  Akira Kurosawa   \n",
       "\n",
       "                                                 Star  \n",
       "36  ['Toshirô Mifune', 'Takashi Shimura', 'Keiko T...  "
      ]
     },
     "execution_count": 9,
     "metadata": {},
     "output_type": "execute_result"
    }
   ],
   "source": [
    "df.iloc[[df.Watchtime.argmax()]]"
   ]
  },
  {
   "cell_type": "markdown",
   "id": "68d38300",
   "metadata": {},
   "source": [
    "## Name of the Shortest Movie"
   ]
  },
  {
   "cell_type": "code",
   "execution_count": 10,
   "id": "c8d11362",
   "metadata": {},
   "outputs": [
    {
     "data": {
      "text/html": [
       "<div>\n",
       "<style scoped>\n",
       "    .dataframe tbody tr th:only-of-type {\n",
       "        vertical-align: middle;\n",
       "    }\n",
       "\n",
       "    .dataframe tbody tr th {\n",
       "        vertical-align: top;\n",
       "    }\n",
       "\n",
       "    .dataframe thead th {\n",
       "        text-align: right;\n",
       "    }\n",
       "</style>\n",
       "<table border=\"1\" class=\"dataframe\">\n",
       "  <thead>\n",
       "    <tr style=\"text-align: right;\">\n",
       "      <th></th>\n",
       "      <th>Unnamed: 0</th>\n",
       "      <th>Name of movie</th>\n",
       "      <th>Year of relase</th>\n",
       "      <th>Watchtime</th>\n",
       "      <th>Movie Rating</th>\n",
       "      <th>Metascore</th>\n",
       "      <th>Votes</th>\n",
       "      <th>Gross collection</th>\n",
       "      <th>Description</th>\n",
       "      <th>Director</th>\n",
       "      <th>Star</th>\n",
       "    </tr>\n",
       "  </thead>\n",
       "  <tbody>\n",
       "    <tr>\n",
       "      <th>57</th>\n",
       "      <td>57</td>\n",
       "      <td>Modern Times</td>\n",
       "      <td>1936</td>\n",
       "      <td>87</td>\n",
       "      <td>8.5</td>\n",
       "      <td>96</td>\n",
       "      <td>234,008</td>\n",
       "      <td>$0.16M</td>\n",
       "      <td>The Tramp struggles to live in modern industri...</td>\n",
       "      <td>Charles Chaplin</td>\n",
       "      <td>['Charles Chaplin', 'Paulette Goddard', 'Henry...</td>\n",
       "    </tr>\n",
       "  </tbody>\n",
       "</table>\n",
       "</div>"
      ],
      "text/plain": [
       "    Unnamed: 0 Name of movie Year of relase  Watchtime  Movie Rating  \\\n",
       "57          57  Modern Times           1936         87           8.5   \n",
       "\n",
       "   Metascore    Votes Gross collection  \\\n",
       "57        96  234,008           $0.16M   \n",
       "\n",
       "                                          Description         Director  \\\n",
       "57  The Tramp struggles to live in modern industri...  Charles Chaplin   \n",
       "\n",
       "                                                 Star  \n",
       "57  ['Charles Chaplin', 'Paulette Goddard', 'Henry...  "
      ]
     },
     "execution_count": 10,
     "metadata": {},
     "output_type": "execute_result"
    }
   ],
   "source": [
    "df.iloc[[df.Watchtime.argmin()]]"
   ]
  },
  {
   "cell_type": "markdown",
   "id": "5fe79cfd",
   "metadata": {},
   "source": [
    "## Year of release datetime cevirmek istiyoruz"
   ]
  },
  {
   "cell_type": "code",
   "execution_count": 11,
   "id": "2b48f0ac",
   "metadata": {},
   "outputs": [],
   "source": [
    "#re.sub(\"[^0-9]\", \"\", df[\"Year of relase\"])"
   ]
  },
  {
   "cell_type": "code",
   "execution_count": 12,
   "id": "ea673d17",
   "metadata": {},
   "outputs": [],
   "source": [
    "##df[\"Year of relase\"] = df['Year of relase'].astype(str)"
   ]
  },
  {
   "cell_type": "code",
   "execution_count": 13,
   "id": "f01cd773",
   "metadata": {},
   "outputs": [],
   "source": [
    "##df[\"Year of relase\"] = df[\"Year of relase\"].str.extract('(^\\d*)')"
   ]
  },
  {
   "cell_type": "code",
   "execution_count": 14,
   "id": "ac587492",
   "metadata": {},
   "outputs": [],
   "source": [
    "#''.join(c for c in df[\"Year of relase\"] if c.isdigit())"
   ]
  },
  {
   "cell_type": "code",
   "execution_count": 15,
   "id": "ec2c03cc",
   "metadata": {},
   "outputs": [],
   "source": [
    "df[\"Year of relase\"] =  df[\"Year of relase\"].str.replace(\"I \", \"\").str.replace(\"I\", \"\")"
   ]
  },
  {
   "cell_type": "code",
   "execution_count": 16,
   "id": "7d637bda",
   "metadata": {},
   "outputs": [
    {
     "data": {
      "text/plain": [
       "0     2021-01-01\n",
       "1     1994-01-01\n",
       "2     1972-01-01\n",
       "3     2020-01-01\n",
       "4     2008-01-01\n",
       "         ...    \n",
       "995   2017-01-01\n",
       "996   2013-01-01\n",
       "997   2012-01-01\n",
       "998   2011-01-01\n",
       "999   2010-01-01\n",
       "Name: Year of relase, Length: 1000, dtype: datetime64[ns]"
      ]
     },
     "execution_count": 16,
     "metadata": {},
     "output_type": "execute_result"
    }
   ],
   "source": [
    "pd.to_datetime(df[\"Year of relase\"])"
   ]
  },
  {
   "cell_type": "markdown",
   "id": "59827ff0",
   "metadata": {},
   "source": [
    "## Year of release int cevirmek"
   ]
  },
  {
   "cell_type": "code",
   "execution_count": 17,
   "id": "fb87a4f8",
   "metadata": {},
   "outputs": [],
   "source": [
    "df[\"Year of relase\"] = pd.to_numeric(df[\"Year of relase\"])"
   ]
  },
  {
   "cell_type": "code",
   "execution_count": 18,
   "id": "720cca70",
   "metadata": {},
   "outputs": [
    {
     "data": {
      "text/plain": [
       "Unnamed: 0            int64\n",
       "Name of movie        object\n",
       "Year of relase        int64\n",
       "Watchtime             int64\n",
       "Movie Rating        float64\n",
       "Metascore            object\n",
       "Votes                object\n",
       "Gross collection     object\n",
       "Description          object\n",
       "Director             object\n",
       "Star                 object\n",
       "dtype: object"
      ]
     },
     "execution_count": 18,
     "metadata": {},
     "output_type": "execute_result"
    }
   ],
   "source": [
    "df.dtypes"
   ]
  },
  {
   "cell_type": "code",
   "execution_count": 19,
   "id": "e3004887",
   "metadata": {},
   "outputs": [
    {
     "data": {
      "text/plain": [
       "0      2021\n",
       "1      1994\n",
       "2      1972\n",
       "3      2020\n",
       "4      2008\n",
       "       ... \n",
       "995    2017\n",
       "996    2013\n",
       "997    2012\n",
       "998    2011\n",
       "999    2010\n",
       "Name: Year of relase, Length: 1000, dtype: int64"
      ]
     },
     "execution_count": 19,
     "metadata": {},
     "output_type": "execute_result"
    }
   ],
   "source": [
    "df[\"Year of relase\"]"
   ]
  },
  {
   "cell_type": "markdown",
   "id": "5bf017fd",
   "metadata": {},
   "source": [
    "## Drop Unnamed Column"
   ]
  },
  {
   "cell_type": "code",
   "execution_count": 20,
   "id": "e1a89954",
   "metadata": {
    "scrolled": false
   },
   "outputs": [
    {
     "data": {
      "text/html": [
       "<div>\n",
       "<style scoped>\n",
       "    .dataframe tbody tr th:only-of-type {\n",
       "        vertical-align: middle;\n",
       "    }\n",
       "\n",
       "    .dataframe tbody tr th {\n",
       "        vertical-align: top;\n",
       "    }\n",
       "\n",
       "    .dataframe thead th {\n",
       "        text-align: right;\n",
       "    }\n",
       "</style>\n",
       "<table border=\"1\" class=\"dataframe\">\n",
       "  <thead>\n",
       "    <tr style=\"text-align: right;\">\n",
       "      <th></th>\n",
       "      <th>Unnamed: 0</th>\n",
       "      <th>Name of movie</th>\n",
       "      <th>Year of relase</th>\n",
       "      <th>Watchtime</th>\n",
       "      <th>Movie Rating</th>\n",
       "      <th>Metascore</th>\n",
       "      <th>Votes</th>\n",
       "      <th>Gross collection</th>\n",
       "      <th>Description</th>\n",
       "      <th>Director</th>\n",
       "      <th>Star</th>\n",
       "    </tr>\n",
       "  </thead>\n",
       "  <tbody>\n",
       "    <tr>\n",
       "      <th>0</th>\n",
       "      <td>0</td>\n",
       "      <td>Jai Bhim</td>\n",
       "      <td>2021</td>\n",
       "      <td>164</td>\n",
       "      <td>9.3</td>\n",
       "      <td>Nan</td>\n",
       "      <td>173,295</td>\n",
       "      <td>#139</td>\n",
       "      <td>When a tribal man is arrested for a case of al...</td>\n",
       "      <td>T.J. Gnanavel</td>\n",
       "      <td>['Suriya', 'Lijo Mol Jose', 'Manikandan', 'Raj...</td>\n",
       "    </tr>\n",
       "    <tr>\n",
       "      <th>1</th>\n",
       "      <td>1</td>\n",
       "      <td>The Shawshank Redemption</td>\n",
       "      <td>1994</td>\n",
       "      <td>142</td>\n",
       "      <td>9.3</td>\n",
       "      <td>80</td>\n",
       "      <td>2,541,091</td>\n",
       "      <td>$28.34M</td>\n",
       "      <td>Two imprisoned men bond over a number of years...</td>\n",
       "      <td>Frank Darabont</td>\n",
       "      <td>['Tim Robbins', 'Morgan Freeman', 'Bob Gunton'...</td>\n",
       "    </tr>\n",
       "    <tr>\n",
       "      <th>2</th>\n",
       "      <td>2</td>\n",
       "      <td>The Godfather</td>\n",
       "      <td>1972</td>\n",
       "      <td>175</td>\n",
       "      <td>9.2</td>\n",
       "      <td>100</td>\n",
       "      <td>1,748,410</td>\n",
       "      <td>$134.97M</td>\n",
       "      <td>The aging patriarch of an organized crime dyna...</td>\n",
       "      <td>Francis Ford Coppola</td>\n",
       "      <td>['Marlon Brando', 'Al Pacino', 'James Caan', '...</td>\n",
       "    </tr>\n",
       "    <tr>\n",
       "      <th>3</th>\n",
       "      <td>3</td>\n",
       "      <td>Soorarai Pottru</td>\n",
       "      <td>2020</td>\n",
       "      <td>153</td>\n",
       "      <td>9.1</td>\n",
       "      <td>Nan</td>\n",
       "      <td>107,159</td>\n",
       "      <td>Nan</td>\n",
       "      <td>Nedumaaran Rajangam \"Maara\" sets out to make t...</td>\n",
       "      <td>Sudha Kongara</td>\n",
       "      <td>['Suriya', 'Paresh Rawal', 'Aparna Balamurali'...</td>\n",
       "    </tr>\n",
       "    <tr>\n",
       "      <th>4</th>\n",
       "      <td>4</td>\n",
       "      <td>The Dark Knight</td>\n",
       "      <td>2008</td>\n",
       "      <td>152</td>\n",
       "      <td>9.0</td>\n",
       "      <td>84</td>\n",
       "      <td>2,491,371</td>\n",
       "      <td>$534.86M</td>\n",
       "      <td>When the menace known as the Joker wreaks havo...</td>\n",
       "      <td>Christopher Nolan</td>\n",
       "      <td>['Christian Bale', 'Heath Ledger', 'Aaron Eckh...</td>\n",
       "    </tr>\n",
       "    <tr>\n",
       "      <th>...</th>\n",
       "      <td>...</td>\n",
       "      <td>...</td>\n",
       "      <td>...</td>\n",
       "      <td>...</td>\n",
       "      <td>...</td>\n",
       "      <td>...</td>\n",
       "      <td>...</td>\n",
       "      <td>...</td>\n",
       "      <td>...</td>\n",
       "      <td>...</td>\n",
       "      <td>...</td>\n",
       "    </tr>\n",
       "    <tr>\n",
       "      <th>995</th>\n",
       "      <td>995</td>\n",
       "      <td>Vikram Vedha</td>\n",
       "      <td>2017</td>\n",
       "      <td>147</td>\n",
       "      <td>8.3</td>\n",
       "      <td>Nan</td>\n",
       "      <td>35,901</td>\n",
       "      <td>Nan</td>\n",
       "      <td>Vikram, a no-nonsense police officer, accompan...</td>\n",
       "      <td>Directors:Gayatri, Pushkar</td>\n",
       "      <td>['Madhavan', 'Vijay Sethupathi', 'Shraddha Sri...</td>\n",
       "    </tr>\n",
       "    <tr>\n",
       "      <th>996</th>\n",
       "      <td>996</td>\n",
       "      <td>Drishyam</td>\n",
       "      <td>2013</td>\n",
       "      <td>160</td>\n",
       "      <td>8.3</td>\n",
       "      <td>Nan</td>\n",
       "      <td>39,570</td>\n",
       "      <td>#244</td>\n",
       "      <td>A man goes to extreme lengths to save his fami...</td>\n",
       "      <td>Jeethu Joseph</td>\n",
       "      <td>['Mohanlal', 'Meena', 'Asha Sharath', 'Ansiba']</td>\n",
       "    </tr>\n",
       "    <tr>\n",
       "      <th>997</th>\n",
       "      <td>997</td>\n",
       "      <td>Jagten</td>\n",
       "      <td>2012</td>\n",
       "      <td>115</td>\n",
       "      <td>8.3</td>\n",
       "      <td>77</td>\n",
       "      <td>313,647</td>\n",
       "      <td>$0.69M</td>\n",
       "      <td>A teacher lives a lonely life, all the while s...</td>\n",
       "      <td>Thomas Vinterberg</td>\n",
       "      <td>['Mads Mikkelsen', 'Thomas Bo Larsen', 'Annika...</td>\n",
       "    </tr>\n",
       "    <tr>\n",
       "      <th>998</th>\n",
       "      <td>998</td>\n",
       "      <td>Jodaeiye Nader az Simin</td>\n",
       "      <td>2011</td>\n",
       "      <td>123</td>\n",
       "      <td>8.3</td>\n",
       "      <td>95</td>\n",
       "      <td>238,130</td>\n",
       "      <td>$7.10M</td>\n",
       "      <td>A married couple are faced with a difficult de...</td>\n",
       "      <td>Asghar Farhadi</td>\n",
       "      <td>['Payman Maadi', 'Leila Hatami', 'Sareh Bayat'...</td>\n",
       "    </tr>\n",
       "    <tr>\n",
       "      <th>999</th>\n",
       "      <td>999</td>\n",
       "      <td>Incendies</td>\n",
       "      <td>2010</td>\n",
       "      <td>131</td>\n",
       "      <td>8.3</td>\n",
       "      <td>80</td>\n",
       "      <td>168,727</td>\n",
       "      <td>$6.86M</td>\n",
       "      <td>Twins journey to the Middle East to discover t...</td>\n",
       "      <td>Denis Villeneuve</td>\n",
       "      <td>['Lubna Azabal', 'Mélissa Désormeaux-Poulin', ...</td>\n",
       "    </tr>\n",
       "  </tbody>\n",
       "</table>\n",
       "<p>1000 rows × 11 columns</p>\n",
       "</div>"
      ],
      "text/plain": [
       "     Unnamed: 0             Name of movie  Year of relase  Watchtime  \\\n",
       "0             0                  Jai Bhim            2021        164   \n",
       "1             1  The Shawshank Redemption            1994        142   \n",
       "2             2             The Godfather            1972        175   \n",
       "3             3           Soorarai Pottru            2020        153   \n",
       "4             4           The Dark Knight            2008        152   \n",
       "..          ...                       ...             ...        ...   \n",
       "995         995              Vikram Vedha            2017        147   \n",
       "996         996                  Drishyam            2013        160   \n",
       "997         997                    Jagten            2012        115   \n",
       "998         998   Jodaeiye Nader az Simin            2011        123   \n",
       "999         999                 Incendies            2010        131   \n",
       "\n",
       "     Movie Rating Metascore      Votes Gross collection  \\\n",
       "0             9.3       Nan    173,295             #139   \n",
       "1             9.3        80  2,541,091          $28.34M   \n",
       "2             9.2       100  1,748,410         $134.97M   \n",
       "3             9.1       Nan    107,159              Nan   \n",
       "4             9.0        84  2,491,371         $534.86M   \n",
       "..            ...       ...        ...              ...   \n",
       "995           8.3       Nan     35,901              Nan   \n",
       "996           8.3       Nan     39,570             #244   \n",
       "997           8.3        77    313,647           $0.69M   \n",
       "998           8.3        95    238,130           $7.10M   \n",
       "999           8.3        80    168,727           $6.86M   \n",
       "\n",
       "                                           Description  \\\n",
       "0    When a tribal man is arrested for a case of al...   \n",
       "1    Two imprisoned men bond over a number of years...   \n",
       "2    The aging patriarch of an organized crime dyna...   \n",
       "3    Nedumaaran Rajangam \"Maara\" sets out to make t...   \n",
       "4    When the menace known as the Joker wreaks havo...   \n",
       "..                                                 ...   \n",
       "995  Vikram, a no-nonsense police officer, accompan...   \n",
       "996  A man goes to extreme lengths to save his fami...   \n",
       "997  A teacher lives a lonely life, all the while s...   \n",
       "998  A married couple are faced with a difficult de...   \n",
       "999  Twins journey to the Middle East to discover t...   \n",
       "\n",
       "                       Director  \\\n",
       "0                 T.J. Gnanavel   \n",
       "1                Frank Darabont   \n",
       "2          Francis Ford Coppola   \n",
       "3                 Sudha Kongara   \n",
       "4             Christopher Nolan   \n",
       "..                          ...   \n",
       "995  Directors:Gayatri, Pushkar   \n",
       "996               Jeethu Joseph   \n",
       "997           Thomas Vinterberg   \n",
       "998              Asghar Farhadi   \n",
       "999            Denis Villeneuve   \n",
       "\n",
       "                                                  Star  \n",
       "0    ['Suriya', 'Lijo Mol Jose', 'Manikandan', 'Raj...  \n",
       "1    ['Tim Robbins', 'Morgan Freeman', 'Bob Gunton'...  \n",
       "2    ['Marlon Brando', 'Al Pacino', 'James Caan', '...  \n",
       "3    ['Suriya', 'Paresh Rawal', 'Aparna Balamurali'...  \n",
       "4    ['Christian Bale', 'Heath Ledger', 'Aaron Eckh...  \n",
       "..                                                 ...  \n",
       "995  ['Madhavan', 'Vijay Sethupathi', 'Shraddha Sri...  \n",
       "996    ['Mohanlal', 'Meena', 'Asha Sharath', 'Ansiba']  \n",
       "997  ['Mads Mikkelsen', 'Thomas Bo Larsen', 'Annika...  \n",
       "998  ['Payman Maadi', 'Leila Hatami', 'Sareh Bayat'...  \n",
       "999  ['Lubna Azabal', 'Mélissa Désormeaux-Poulin', ...  \n",
       "\n",
       "[1000 rows x 11 columns]"
      ]
     },
     "execution_count": 20,
     "metadata": {},
     "output_type": "execute_result"
    }
   ],
   "source": [
    "df"
   ]
  },
  {
   "cell_type": "code",
   "execution_count": 21,
   "id": "7eaf1550",
   "metadata": {},
   "outputs": [],
   "source": [
    "df.drop([\"Unnamed: 0\"], axis=1, inplace=True)"
   ]
  },
  {
   "cell_type": "code",
   "execution_count": 22,
   "id": "660aabbb",
   "metadata": {},
   "outputs": [
    {
     "data": {
      "text/html": [
       "<div>\n",
       "<style scoped>\n",
       "    .dataframe tbody tr th:only-of-type {\n",
       "        vertical-align: middle;\n",
       "    }\n",
       "\n",
       "    .dataframe tbody tr th {\n",
       "        vertical-align: top;\n",
       "    }\n",
       "\n",
       "    .dataframe thead th {\n",
       "        text-align: right;\n",
       "    }\n",
       "</style>\n",
       "<table border=\"1\" class=\"dataframe\">\n",
       "  <thead>\n",
       "    <tr style=\"text-align: right;\">\n",
       "      <th></th>\n",
       "      <th>Name of movie</th>\n",
       "      <th>Year of relase</th>\n",
       "      <th>Watchtime</th>\n",
       "      <th>Movie Rating</th>\n",
       "      <th>Metascore</th>\n",
       "      <th>Votes</th>\n",
       "      <th>Gross collection</th>\n",
       "      <th>Description</th>\n",
       "      <th>Director</th>\n",
       "      <th>Star</th>\n",
       "    </tr>\n",
       "  </thead>\n",
       "  <tbody>\n",
       "    <tr>\n",
       "      <th>0</th>\n",
       "      <td>Jai Bhim</td>\n",
       "      <td>2021</td>\n",
       "      <td>164</td>\n",
       "      <td>9.3</td>\n",
       "      <td>Nan</td>\n",
       "      <td>173,295</td>\n",
       "      <td>#139</td>\n",
       "      <td>When a tribal man is arrested for a case of al...</td>\n",
       "      <td>T.J. Gnanavel</td>\n",
       "      <td>['Suriya', 'Lijo Mol Jose', 'Manikandan', 'Raj...</td>\n",
       "    </tr>\n",
       "    <tr>\n",
       "      <th>1</th>\n",
       "      <td>The Shawshank Redemption</td>\n",
       "      <td>1994</td>\n",
       "      <td>142</td>\n",
       "      <td>9.3</td>\n",
       "      <td>80</td>\n",
       "      <td>2,541,091</td>\n",
       "      <td>$28.34M</td>\n",
       "      <td>Two imprisoned men bond over a number of years...</td>\n",
       "      <td>Frank Darabont</td>\n",
       "      <td>['Tim Robbins', 'Morgan Freeman', 'Bob Gunton'...</td>\n",
       "    </tr>\n",
       "    <tr>\n",
       "      <th>2</th>\n",
       "      <td>The Godfather</td>\n",
       "      <td>1972</td>\n",
       "      <td>175</td>\n",
       "      <td>9.2</td>\n",
       "      <td>100</td>\n",
       "      <td>1,748,410</td>\n",
       "      <td>$134.97M</td>\n",
       "      <td>The aging patriarch of an organized crime dyna...</td>\n",
       "      <td>Francis Ford Coppola</td>\n",
       "      <td>['Marlon Brando', 'Al Pacino', 'James Caan', '...</td>\n",
       "    </tr>\n",
       "    <tr>\n",
       "      <th>3</th>\n",
       "      <td>Soorarai Pottru</td>\n",
       "      <td>2020</td>\n",
       "      <td>153</td>\n",
       "      <td>9.1</td>\n",
       "      <td>Nan</td>\n",
       "      <td>107,159</td>\n",
       "      <td>Nan</td>\n",
       "      <td>Nedumaaran Rajangam \"Maara\" sets out to make t...</td>\n",
       "      <td>Sudha Kongara</td>\n",
       "      <td>['Suriya', 'Paresh Rawal', 'Aparna Balamurali'...</td>\n",
       "    </tr>\n",
       "    <tr>\n",
       "      <th>4</th>\n",
       "      <td>The Dark Knight</td>\n",
       "      <td>2008</td>\n",
       "      <td>152</td>\n",
       "      <td>9.0</td>\n",
       "      <td>84</td>\n",
       "      <td>2,491,371</td>\n",
       "      <td>$534.86M</td>\n",
       "      <td>When the menace known as the Joker wreaks havo...</td>\n",
       "      <td>Christopher Nolan</td>\n",
       "      <td>['Christian Bale', 'Heath Ledger', 'Aaron Eckh...</td>\n",
       "    </tr>\n",
       "    <tr>\n",
       "      <th>...</th>\n",
       "      <td>...</td>\n",
       "      <td>...</td>\n",
       "      <td>...</td>\n",
       "      <td>...</td>\n",
       "      <td>...</td>\n",
       "      <td>...</td>\n",
       "      <td>...</td>\n",
       "      <td>...</td>\n",
       "      <td>...</td>\n",
       "      <td>...</td>\n",
       "    </tr>\n",
       "    <tr>\n",
       "      <th>995</th>\n",
       "      <td>Vikram Vedha</td>\n",
       "      <td>2017</td>\n",
       "      <td>147</td>\n",
       "      <td>8.3</td>\n",
       "      <td>Nan</td>\n",
       "      <td>35,901</td>\n",
       "      <td>Nan</td>\n",
       "      <td>Vikram, a no-nonsense police officer, accompan...</td>\n",
       "      <td>Directors:Gayatri, Pushkar</td>\n",
       "      <td>['Madhavan', 'Vijay Sethupathi', 'Shraddha Sri...</td>\n",
       "    </tr>\n",
       "    <tr>\n",
       "      <th>996</th>\n",
       "      <td>Drishyam</td>\n",
       "      <td>2013</td>\n",
       "      <td>160</td>\n",
       "      <td>8.3</td>\n",
       "      <td>Nan</td>\n",
       "      <td>39,570</td>\n",
       "      <td>#244</td>\n",
       "      <td>A man goes to extreme lengths to save his fami...</td>\n",
       "      <td>Jeethu Joseph</td>\n",
       "      <td>['Mohanlal', 'Meena', 'Asha Sharath', 'Ansiba']</td>\n",
       "    </tr>\n",
       "    <tr>\n",
       "      <th>997</th>\n",
       "      <td>Jagten</td>\n",
       "      <td>2012</td>\n",
       "      <td>115</td>\n",
       "      <td>8.3</td>\n",
       "      <td>77</td>\n",
       "      <td>313,647</td>\n",
       "      <td>$0.69M</td>\n",
       "      <td>A teacher lives a lonely life, all the while s...</td>\n",
       "      <td>Thomas Vinterberg</td>\n",
       "      <td>['Mads Mikkelsen', 'Thomas Bo Larsen', 'Annika...</td>\n",
       "    </tr>\n",
       "    <tr>\n",
       "      <th>998</th>\n",
       "      <td>Jodaeiye Nader az Simin</td>\n",
       "      <td>2011</td>\n",
       "      <td>123</td>\n",
       "      <td>8.3</td>\n",
       "      <td>95</td>\n",
       "      <td>238,130</td>\n",
       "      <td>$7.10M</td>\n",
       "      <td>A married couple are faced with a difficult de...</td>\n",
       "      <td>Asghar Farhadi</td>\n",
       "      <td>['Payman Maadi', 'Leila Hatami', 'Sareh Bayat'...</td>\n",
       "    </tr>\n",
       "    <tr>\n",
       "      <th>999</th>\n",
       "      <td>Incendies</td>\n",
       "      <td>2010</td>\n",
       "      <td>131</td>\n",
       "      <td>8.3</td>\n",
       "      <td>80</td>\n",
       "      <td>168,727</td>\n",
       "      <td>$6.86M</td>\n",
       "      <td>Twins journey to the Middle East to discover t...</td>\n",
       "      <td>Denis Villeneuve</td>\n",
       "      <td>['Lubna Azabal', 'Mélissa Désormeaux-Poulin', ...</td>\n",
       "    </tr>\n",
       "  </tbody>\n",
       "</table>\n",
       "<p>1000 rows × 10 columns</p>\n",
       "</div>"
      ],
      "text/plain": [
       "                Name of movie  Year of relase  Watchtime  Movie Rating  \\\n",
       "0                    Jai Bhim            2021        164           9.3   \n",
       "1    The Shawshank Redemption            1994        142           9.3   \n",
       "2               The Godfather            1972        175           9.2   \n",
       "3             Soorarai Pottru            2020        153           9.1   \n",
       "4             The Dark Knight            2008        152           9.0   \n",
       "..                        ...             ...        ...           ...   \n",
       "995              Vikram Vedha            2017        147           8.3   \n",
       "996                  Drishyam            2013        160           8.3   \n",
       "997                    Jagten            2012        115           8.3   \n",
       "998   Jodaeiye Nader az Simin            2011        123           8.3   \n",
       "999                 Incendies            2010        131           8.3   \n",
       "\n",
       "    Metascore      Votes Gross collection  \\\n",
       "0         Nan    173,295             #139   \n",
       "1          80  2,541,091          $28.34M   \n",
       "2         100  1,748,410         $134.97M   \n",
       "3         Nan    107,159              Nan   \n",
       "4          84  2,491,371         $534.86M   \n",
       "..        ...        ...              ...   \n",
       "995       Nan     35,901              Nan   \n",
       "996       Nan     39,570             #244   \n",
       "997        77    313,647           $0.69M   \n",
       "998        95    238,130           $7.10M   \n",
       "999        80    168,727           $6.86M   \n",
       "\n",
       "                                           Description  \\\n",
       "0    When a tribal man is arrested for a case of al...   \n",
       "1    Two imprisoned men bond over a number of years...   \n",
       "2    The aging patriarch of an organized crime dyna...   \n",
       "3    Nedumaaran Rajangam \"Maara\" sets out to make t...   \n",
       "4    When the menace known as the Joker wreaks havo...   \n",
       "..                                                 ...   \n",
       "995  Vikram, a no-nonsense police officer, accompan...   \n",
       "996  A man goes to extreme lengths to save his fami...   \n",
       "997  A teacher lives a lonely life, all the while s...   \n",
       "998  A married couple are faced with a difficult de...   \n",
       "999  Twins journey to the Middle East to discover t...   \n",
       "\n",
       "                       Director  \\\n",
       "0                 T.J. Gnanavel   \n",
       "1                Frank Darabont   \n",
       "2          Francis Ford Coppola   \n",
       "3                 Sudha Kongara   \n",
       "4             Christopher Nolan   \n",
       "..                          ...   \n",
       "995  Directors:Gayatri, Pushkar   \n",
       "996               Jeethu Joseph   \n",
       "997           Thomas Vinterberg   \n",
       "998              Asghar Farhadi   \n",
       "999            Denis Villeneuve   \n",
       "\n",
       "                                                  Star  \n",
       "0    ['Suriya', 'Lijo Mol Jose', 'Manikandan', 'Raj...  \n",
       "1    ['Tim Robbins', 'Morgan Freeman', 'Bob Gunton'...  \n",
       "2    ['Marlon Brando', 'Al Pacino', 'James Caan', '...  \n",
       "3    ['Suriya', 'Paresh Rawal', 'Aparna Balamurali'...  \n",
       "4    ['Christian Bale', 'Heath Ledger', 'Aaron Eckh...  \n",
       "..                                                 ...  \n",
       "995  ['Madhavan', 'Vijay Sethupathi', 'Shraddha Sri...  \n",
       "996    ['Mohanlal', 'Meena', 'Asha Sharath', 'Ansiba']  \n",
       "997  ['Mads Mikkelsen', 'Thomas Bo Larsen', 'Annika...  \n",
       "998  ['Payman Maadi', 'Leila Hatami', 'Sareh Bayat'...  \n",
       "999  ['Lubna Azabal', 'Mélissa Désormeaux-Poulin', ...  \n",
       "\n",
       "[1000 rows x 10 columns]"
      ]
     },
     "execution_count": 22,
     "metadata": {},
     "output_type": "execute_result"
    }
   ],
   "source": [
    "df"
   ]
  },
  {
   "cell_type": "code",
   "execution_count": 23,
   "id": "9f46d00c",
   "metadata": {},
   "outputs": [],
   "source": [
    "# df = df.drop([\"Unnamed: 0\"], axis=1) alternative for drop "
   ]
  },
  {
   "cell_type": "markdown",
   "id": "b130fe0e",
   "metadata": {},
   "source": [
    "## Working with Nan values"
   ]
  },
  {
   "cell_type": "code",
   "execution_count": 24,
   "id": "17a86558",
   "metadata": {},
   "outputs": [
    {
     "data": {
      "text/plain": [
       "Name of movie       False\n",
       "Year of relase      False\n",
       "Watchtime           False\n",
       "Movie Rating        False\n",
       "Metascore           False\n",
       "Votes               False\n",
       "Gross collection    False\n",
       "Description         False\n",
       "Director            False\n",
       "Star                False\n",
       "dtype: bool"
      ]
     },
     "execution_count": 24,
     "metadata": {},
     "output_type": "execute_result"
    }
   ],
   "source": [
    "df.isna().any() # will return True if there is a single NaN value"
   ]
  },
  {
   "cell_type": "code",
   "execution_count": 25,
   "id": "d42a9686",
   "metadata": {},
   "outputs": [
    {
     "data": {
      "text/plain": [
       "Name of movie       False\n",
       "Year of relase      False\n",
       "Watchtime           False\n",
       "Movie Rating        False\n",
       "Metascore            True\n",
       "Votes               False\n",
       "Gross collection     True\n",
       "Description         False\n",
       "Director            False\n",
       "Star                False\n",
       "dtype: bool"
      ]
     },
     "execution_count": 25,
     "metadata": {},
     "output_type": "execute_result"
    }
   ],
   "source": [
    "df[df.isin(['Nan'])].any()"
   ]
  },
  {
   "cell_type": "code",
   "execution_count": 26,
   "id": "dc621185",
   "metadata": {},
   "outputs": [
    {
     "data": {
      "text/plain": [
       "Name of movie       0\n",
       "Year of relase      0\n",
       "Watchtime           0\n",
       "Movie Rating        0\n",
       "Metascore           0\n",
       "Votes               0\n",
       "Gross collection    0\n",
       "Description         0\n",
       "Director            0\n",
       "Star                0\n",
       "dtype: int64"
      ]
     },
     "execution_count": 26,
     "metadata": {},
     "output_type": "execute_result"
    }
   ],
   "source": [
    "df.isna().sum() # will return # of rows with NaN values"
   ]
  },
  {
   "cell_type": "code",
   "execution_count": 27,
   "id": "edf92099",
   "metadata": {},
   "outputs": [
    {
     "data": {
      "text/plain": [
       "Name of movie       1000\n",
       "Year of relase      1000\n",
       "Watchtime           1000\n",
       "Movie Rating        1000\n",
       "Metascore           1000\n",
       "Votes               1000\n",
       "Gross collection    1000\n",
       "Description         1000\n",
       "Director            1000\n",
       "Star                1000\n",
       "dtype: int64"
      ]
     },
     "execution_count": 27,
     "metadata": {},
     "output_type": "execute_result"
    }
   ],
   "source": [
    "df.isna().count() # will count all rows even if there is only 1 NaN values"
   ]
  },
  {
   "cell_type": "code",
   "execution_count": 28,
   "id": "772663bf",
   "metadata": {},
   "outputs": [
    {
     "data": {
      "text/plain": [
       "Int64Index([  3,  16,  17,  18,  25,  38,  62,  63,  93,  94,\n",
       "            ...\n",
       "            916, 917, 918, 925, 938, 962, 963, 993, 994, 995],\n",
       "           dtype='int64', length=110)"
      ]
     },
     "execution_count": 28,
     "metadata": {},
     "output_type": "execute_result"
    }
   ],
   "source": [
    "df[df[\"Gross collection\"]==\"Nan\"].index"
   ]
  },
  {
   "cell_type": "code",
   "execution_count": 29,
   "id": "c5c655e7",
   "metadata": {},
   "outputs": [],
   "source": [
    "a = df[df[\"Metascore\"]==\"Nan\"].index"
   ]
  },
  {
   "cell_type": "code",
   "execution_count": 30,
   "id": "b941462a",
   "metadata": {
    "scrolled": true
   },
   "outputs": [
    {
     "data": {
      "text/html": [
       "<div>\n",
       "<style scoped>\n",
       "    .dataframe tbody tr th:only-of-type {\n",
       "        vertical-align: middle;\n",
       "    }\n",
       "\n",
       "    .dataframe tbody tr th {\n",
       "        vertical-align: top;\n",
       "    }\n",
       "\n",
       "    .dataframe thead th {\n",
       "        text-align: right;\n",
       "    }\n",
       "</style>\n",
       "<table border=\"1\" class=\"dataframe\">\n",
       "  <thead>\n",
       "    <tr style=\"text-align: right;\">\n",
       "      <th></th>\n",
       "      <th>Name of movie</th>\n",
       "      <th>Year of relase</th>\n",
       "      <th>Watchtime</th>\n",
       "      <th>Movie Rating</th>\n",
       "      <th>Metascore</th>\n",
       "      <th>Votes</th>\n",
       "      <th>Gross collection</th>\n",
       "      <th>Description</th>\n",
       "      <th>Director</th>\n",
       "      <th>Star</th>\n",
       "    </tr>\n",
       "  </thead>\n",
       "  <tbody>\n",
       "    <tr>\n",
       "      <th>0</th>\n",
       "      <td>Jai Bhim</td>\n",
       "      <td>2021</td>\n",
       "      <td>164</td>\n",
       "      <td>9.3</td>\n",
       "      <td>Nan</td>\n",
       "      <td>173,295</td>\n",
       "      <td>#139</td>\n",
       "      <td>When a tribal man is arrested for a case of al...</td>\n",
       "      <td>T.J. Gnanavel</td>\n",
       "      <td>['Suriya', 'Lijo Mol Jose', 'Manikandan', 'Raj...</td>\n",
       "    </tr>\n",
       "    <tr>\n",
       "      <th>3</th>\n",
       "      <td>Soorarai Pottru</td>\n",
       "      <td>2020</td>\n",
       "      <td>153</td>\n",
       "      <td>9.1</td>\n",
       "      <td>Nan</td>\n",
       "      <td>107,159</td>\n",
       "      <td>Nan</td>\n",
       "      <td>Nedumaaran Rajangam \"Maara\" sets out to make t...</td>\n",
       "      <td>Sudha Kongara</td>\n",
       "      <td>['Suriya', 'Paresh Rawal', 'Aparna Balamurali'...</td>\n",
       "    </tr>\n",
       "    <tr>\n",
       "      <th>16</th>\n",
       "      <td>Dara iz Jasenovca</td>\n",
       "      <td>2020</td>\n",
       "      <td>130</td>\n",
       "      <td>8.7</td>\n",
       "      <td>Nan</td>\n",
       "      <td>80,317</td>\n",
       "      <td>Nan</td>\n",
       "      <td>Follows the story of a young girl named Dara w...</td>\n",
       "      <td>Predrag Antonijevic</td>\n",
       "      <td>['Biljana Cekic', 'Zlatan Vidovic', 'Anja Stan...</td>\n",
       "    </tr>\n",
       "    <tr>\n",
       "      <th>17</th>\n",
       "      <td>Shershaah</td>\n",
       "      <td>2021</td>\n",
       "      <td>135</td>\n",
       "      <td>8.7</td>\n",
       "      <td>Nan</td>\n",
       "      <td>112,894</td>\n",
       "      <td>Nan</td>\n",
       "      <td>The story of PVC awardee Indian soldier Capt. ...</td>\n",
       "      <td>Vishnuvardhan</td>\n",
       "      <td>['Sidharth Malhotra', 'Kiara Advani', 'Shiv Pa...</td>\n",
       "    </tr>\n",
       "    <tr>\n",
       "      <th>18</th>\n",
       "      <td>Sardar Udham</td>\n",
       "      <td>2021</td>\n",
       "      <td>164</td>\n",
       "      <td>8.7</td>\n",
       "      <td>Nan</td>\n",
       "      <td>35,937</td>\n",
       "      <td>Nan</td>\n",
       "      <td>A biopic detailing the 2 decades that Punjabi ...</td>\n",
       "      <td>Shoojit Sircar</td>\n",
       "      <td>['Vicky Kaushal', 'Banita Sandhu', 'Shaun Scot...</td>\n",
       "    </tr>\n",
       "    <tr>\n",
       "      <th>...</th>\n",
       "      <td>...</td>\n",
       "      <td>...</td>\n",
       "      <td>...</td>\n",
       "      <td>...</td>\n",
       "      <td>...</td>\n",
       "      <td>...</td>\n",
       "      <td>...</td>\n",
       "      <td>...</td>\n",
       "      <td>...</td>\n",
       "      <td>...</td>\n",
       "    </tr>\n",
       "    <tr>\n",
       "      <th>992</th>\n",
       "      <td>Uri: The Surgical Strike</td>\n",
       "      <td>2019</td>\n",
       "      <td>138</td>\n",
       "      <td>8.3</td>\n",
       "      <td>Nan</td>\n",
       "      <td>55,176</td>\n",
       "      <td>$4.19M</td>\n",
       "      <td>Indian army special forces execute a covert op...</td>\n",
       "      <td>Aditya Dhar</td>\n",
       "      <td>['Vicky Kaushal', 'Paresh Rawal', 'Mohit Raina...</td>\n",
       "    </tr>\n",
       "    <tr>\n",
       "      <th>993</th>\n",
       "      <td>Tumbbad</td>\n",
       "      <td>2018</td>\n",
       "      <td>104</td>\n",
       "      <td>8.3</td>\n",
       "      <td>Nan</td>\n",
       "      <td>39,757</td>\n",
       "      <td>Nan</td>\n",
       "      <td>A mythological story about a goddess who creat...</td>\n",
       "      <td>Directors:Rahi Anil Barve, Anand Gandhi, Adesh...</td>\n",
       "      <td>['Sohum Shah', 'Jyoti Malshe', 'Anita Date', '...</td>\n",
       "    </tr>\n",
       "    <tr>\n",
       "      <th>994</th>\n",
       "      <td>K.G.F: Chapter 1</td>\n",
       "      <td>2018</td>\n",
       "      <td>156</td>\n",
       "      <td>8.3</td>\n",
       "      <td>Nan</td>\n",
       "      <td>54,515</td>\n",
       "      <td>Nan</td>\n",
       "      <td>In the 1970s, a gangster goes undercover as a ...</td>\n",
       "      <td>Prashanth Neel</td>\n",
       "      <td>['Yash', 'Srinidhi Shetty', 'Ramachandra Raju'...</td>\n",
       "    </tr>\n",
       "    <tr>\n",
       "      <th>995</th>\n",
       "      <td>Vikram Vedha</td>\n",
       "      <td>2017</td>\n",
       "      <td>147</td>\n",
       "      <td>8.3</td>\n",
       "      <td>Nan</td>\n",
       "      <td>35,901</td>\n",
       "      <td>Nan</td>\n",
       "      <td>Vikram, a no-nonsense police officer, accompan...</td>\n",
       "      <td>Directors:Gayatri, Pushkar</td>\n",
       "      <td>['Madhavan', 'Vijay Sethupathi', 'Shraddha Sri...</td>\n",
       "    </tr>\n",
       "    <tr>\n",
       "      <th>996</th>\n",
       "      <td>Drishyam</td>\n",
       "      <td>2013</td>\n",
       "      <td>160</td>\n",
       "      <td>8.3</td>\n",
       "      <td>Nan</td>\n",
       "      <td>39,570</td>\n",
       "      <td>#244</td>\n",
       "      <td>A man goes to extreme lengths to save his fami...</td>\n",
       "      <td>Jeethu Joseph</td>\n",
       "      <td>['Mohanlal', 'Meena', 'Asha Sharath', 'Ansiba']</td>\n",
       "    </tr>\n",
       "  </tbody>\n",
       "</table>\n",
       "<p>220 rows × 10 columns</p>\n",
       "</div>"
      ],
      "text/plain": [
       "                Name of movie  Year of relase  Watchtime  Movie Rating  \\\n",
       "0                    Jai Bhim            2021        164           9.3   \n",
       "3             Soorarai Pottru            2020        153           9.1   \n",
       "16          Dara iz Jasenovca            2020        130           8.7   \n",
       "17                  Shershaah            2021        135           8.7   \n",
       "18               Sardar Udham            2021        164           8.7   \n",
       "..                        ...             ...        ...           ...   \n",
       "992  Uri: The Surgical Strike            2019        138           8.3   \n",
       "993                   Tumbbad            2018        104           8.3   \n",
       "994          K.G.F: Chapter 1            2018        156           8.3   \n",
       "995              Vikram Vedha            2017        147           8.3   \n",
       "996                  Drishyam            2013        160           8.3   \n",
       "\n",
       "    Metascore    Votes Gross collection  \\\n",
       "0         Nan  173,295             #139   \n",
       "3         Nan  107,159              Nan   \n",
       "16        Nan   80,317              Nan   \n",
       "17        Nan  112,894              Nan   \n",
       "18        Nan   35,937              Nan   \n",
       "..        ...      ...              ...   \n",
       "992       Nan   55,176           $4.19M   \n",
       "993       Nan   39,757              Nan   \n",
       "994       Nan   54,515              Nan   \n",
       "995       Nan   35,901              Nan   \n",
       "996       Nan   39,570             #244   \n",
       "\n",
       "                                           Description  \\\n",
       "0    When a tribal man is arrested for a case of al...   \n",
       "3    Nedumaaran Rajangam \"Maara\" sets out to make t...   \n",
       "16   Follows the story of a young girl named Dara w...   \n",
       "17   The story of PVC awardee Indian soldier Capt. ...   \n",
       "18   A biopic detailing the 2 decades that Punjabi ...   \n",
       "..                                                 ...   \n",
       "992  Indian army special forces execute a covert op...   \n",
       "993  A mythological story about a goddess who creat...   \n",
       "994  In the 1970s, a gangster goes undercover as a ...   \n",
       "995  Vikram, a no-nonsense police officer, accompan...   \n",
       "996  A man goes to extreme lengths to save his fami...   \n",
       "\n",
       "                                              Director  \\\n",
       "0                                        T.J. Gnanavel   \n",
       "3                                        Sudha Kongara   \n",
       "16                                 Predrag Antonijevic   \n",
       "17                                       Vishnuvardhan   \n",
       "18                                      Shoojit Sircar   \n",
       "..                                                 ...   \n",
       "992                                        Aditya Dhar   \n",
       "993  Directors:Rahi Anil Barve, Anand Gandhi, Adesh...   \n",
       "994                                     Prashanth Neel   \n",
       "995                         Directors:Gayatri, Pushkar   \n",
       "996                                      Jeethu Joseph   \n",
       "\n",
       "                                                  Star  \n",
       "0    ['Suriya', 'Lijo Mol Jose', 'Manikandan', 'Raj...  \n",
       "3    ['Suriya', 'Paresh Rawal', 'Aparna Balamurali'...  \n",
       "16   ['Biljana Cekic', 'Zlatan Vidovic', 'Anja Stan...  \n",
       "17   ['Sidharth Malhotra', 'Kiara Advani', 'Shiv Pa...  \n",
       "18   ['Vicky Kaushal', 'Banita Sandhu', 'Shaun Scot...  \n",
       "..                                                 ...  \n",
       "992  ['Vicky Kaushal', 'Paresh Rawal', 'Mohit Raina...  \n",
       "993  ['Sohum Shah', 'Jyoti Malshe', 'Anita Date', '...  \n",
       "994  ['Yash', 'Srinidhi Shetty', 'Ramachandra Raju'...  \n",
       "995  ['Madhavan', 'Vijay Sethupathi', 'Shraddha Sri...  \n",
       "996    ['Mohanlal', 'Meena', 'Asha Sharath', 'Ansiba']  \n",
       "\n",
       "[220 rows x 10 columns]"
      ]
     },
     "execution_count": 30,
     "metadata": {},
     "output_type": "execute_result"
    }
   ],
   "source": [
    "df.iloc[a]"
   ]
  },
  {
   "cell_type": "code",
   "execution_count": 31,
   "id": "15390b34",
   "metadata": {},
   "outputs": [
    {
     "data": {
      "text/html": [
       "<div>\n",
       "<style scoped>\n",
       "    .dataframe tbody tr th:only-of-type {\n",
       "        vertical-align: middle;\n",
       "    }\n",
       "\n",
       "    .dataframe tbody tr th {\n",
       "        vertical-align: top;\n",
       "    }\n",
       "\n",
       "    .dataframe thead th {\n",
       "        text-align: right;\n",
       "    }\n",
       "</style>\n",
       "<table border=\"1\" class=\"dataframe\">\n",
       "  <thead>\n",
       "    <tr style=\"text-align: right;\">\n",
       "      <th></th>\n",
       "      <th>Name of movie</th>\n",
       "      <th>Year of relase</th>\n",
       "      <th>Watchtime</th>\n",
       "      <th>Movie Rating</th>\n",
       "      <th>Metascore</th>\n",
       "      <th>Votes</th>\n",
       "      <th>Gross collection</th>\n",
       "      <th>Description</th>\n",
       "      <th>Director</th>\n",
       "      <th>Star</th>\n",
       "    </tr>\n",
       "  </thead>\n",
       "  <tbody>\n",
       "    <tr>\n",
       "      <th>0</th>\n",
       "      <td>Jai Bhim</td>\n",
       "      <td>2021</td>\n",
       "      <td>164</td>\n",
       "      <td>9.3</td>\n",
       "      <td>Nan</td>\n",
       "      <td>173,295</td>\n",
       "      <td>#139</td>\n",
       "      <td>When a tribal man is arrested for a case of al...</td>\n",
       "      <td>T.J. Gnanavel</td>\n",
       "      <td>['Suriya', 'Lijo Mol Jose', 'Manikandan', 'Raj...</td>\n",
       "    </tr>\n",
       "    <tr>\n",
       "      <th>1</th>\n",
       "      <td>The Shawshank Redemption</td>\n",
       "      <td>1994</td>\n",
       "      <td>142</td>\n",
       "      <td>9.3</td>\n",
       "      <td>80</td>\n",
       "      <td>2,541,091</td>\n",
       "      <td>$28.34M</td>\n",
       "      <td>Two imprisoned men bond over a number of years...</td>\n",
       "      <td>Frank Darabont</td>\n",
       "      <td>['Tim Robbins', 'Morgan Freeman', 'Bob Gunton'...</td>\n",
       "    </tr>\n",
       "    <tr>\n",
       "      <th>2</th>\n",
       "      <td>The Godfather</td>\n",
       "      <td>1972</td>\n",
       "      <td>175</td>\n",
       "      <td>9.2</td>\n",
       "      <td>100</td>\n",
       "      <td>1,748,410</td>\n",
       "      <td>$134.97M</td>\n",
       "      <td>The aging patriarch of an organized crime dyna...</td>\n",
       "      <td>Francis Ford Coppola</td>\n",
       "      <td>['Marlon Brando', 'Al Pacino', 'James Caan', '...</td>\n",
       "    </tr>\n",
       "    <tr>\n",
       "      <th>3</th>\n",
       "      <td>Soorarai Pottru</td>\n",
       "      <td>2020</td>\n",
       "      <td>153</td>\n",
       "      <td>9.1</td>\n",
       "      <td>Nan</td>\n",
       "      <td>107,159</td>\n",
       "      <td>Nan</td>\n",
       "      <td>Nedumaaran Rajangam \"Maara\" sets out to make t...</td>\n",
       "      <td>Sudha Kongara</td>\n",
       "      <td>['Suriya', 'Paresh Rawal', 'Aparna Balamurali'...</td>\n",
       "    </tr>\n",
       "    <tr>\n",
       "      <th>4</th>\n",
       "      <td>The Dark Knight</td>\n",
       "      <td>2008</td>\n",
       "      <td>152</td>\n",
       "      <td>9.0</td>\n",
       "      <td>84</td>\n",
       "      <td>2,491,371</td>\n",
       "      <td>$534.86M</td>\n",
       "      <td>When the menace known as the Joker wreaks havo...</td>\n",
       "      <td>Christopher Nolan</td>\n",
       "      <td>['Christian Bale', 'Heath Ledger', 'Aaron Eckh...</td>\n",
       "    </tr>\n",
       "    <tr>\n",
       "      <th>...</th>\n",
       "      <td>...</td>\n",
       "      <td>...</td>\n",
       "      <td>...</td>\n",
       "      <td>...</td>\n",
       "      <td>...</td>\n",
       "      <td>...</td>\n",
       "      <td>...</td>\n",
       "      <td>...</td>\n",
       "      <td>...</td>\n",
       "      <td>...</td>\n",
       "    </tr>\n",
       "    <tr>\n",
       "      <th>995</th>\n",
       "      <td>Vikram Vedha</td>\n",
       "      <td>2017</td>\n",
       "      <td>147</td>\n",
       "      <td>8.3</td>\n",
       "      <td>Nan</td>\n",
       "      <td>35,901</td>\n",
       "      <td>Nan</td>\n",
       "      <td>Vikram, a no-nonsense police officer, accompan...</td>\n",
       "      <td>Directors:Gayatri, Pushkar</td>\n",
       "      <td>['Madhavan', 'Vijay Sethupathi', 'Shraddha Sri...</td>\n",
       "    </tr>\n",
       "    <tr>\n",
       "      <th>996</th>\n",
       "      <td>Drishyam</td>\n",
       "      <td>2013</td>\n",
       "      <td>160</td>\n",
       "      <td>8.3</td>\n",
       "      <td>Nan</td>\n",
       "      <td>39,570</td>\n",
       "      <td>#244</td>\n",
       "      <td>A man goes to extreme lengths to save his fami...</td>\n",
       "      <td>Jeethu Joseph</td>\n",
       "      <td>['Mohanlal', 'Meena', 'Asha Sharath', 'Ansiba']</td>\n",
       "    </tr>\n",
       "    <tr>\n",
       "      <th>997</th>\n",
       "      <td>Jagten</td>\n",
       "      <td>2012</td>\n",
       "      <td>115</td>\n",
       "      <td>8.3</td>\n",
       "      <td>77</td>\n",
       "      <td>313,647</td>\n",
       "      <td>$0.69M</td>\n",
       "      <td>A teacher lives a lonely life, all the while s...</td>\n",
       "      <td>Thomas Vinterberg</td>\n",
       "      <td>['Mads Mikkelsen', 'Thomas Bo Larsen', 'Annika...</td>\n",
       "    </tr>\n",
       "    <tr>\n",
       "      <th>998</th>\n",
       "      <td>Jodaeiye Nader az Simin</td>\n",
       "      <td>2011</td>\n",
       "      <td>123</td>\n",
       "      <td>8.3</td>\n",
       "      <td>95</td>\n",
       "      <td>238,130</td>\n",
       "      <td>$7.10M</td>\n",
       "      <td>A married couple are faced with a difficult de...</td>\n",
       "      <td>Asghar Farhadi</td>\n",
       "      <td>['Payman Maadi', 'Leila Hatami', 'Sareh Bayat'...</td>\n",
       "    </tr>\n",
       "    <tr>\n",
       "      <th>999</th>\n",
       "      <td>Incendies</td>\n",
       "      <td>2010</td>\n",
       "      <td>131</td>\n",
       "      <td>8.3</td>\n",
       "      <td>80</td>\n",
       "      <td>168,727</td>\n",
       "      <td>$6.86M</td>\n",
       "      <td>Twins journey to the Middle East to discover t...</td>\n",
       "      <td>Denis Villeneuve</td>\n",
       "      <td>['Lubna Azabal', 'Mélissa Désormeaux-Poulin', ...</td>\n",
       "    </tr>\n",
       "  </tbody>\n",
       "</table>\n",
       "<p>1000 rows × 10 columns</p>\n",
       "</div>"
      ],
      "text/plain": [
       "                Name of movie  Year of relase  Watchtime  Movie Rating  \\\n",
       "0                    Jai Bhim            2021        164           9.3   \n",
       "1    The Shawshank Redemption            1994        142           9.3   \n",
       "2               The Godfather            1972        175           9.2   \n",
       "3             Soorarai Pottru            2020        153           9.1   \n",
       "4             The Dark Knight            2008        152           9.0   \n",
       "..                        ...             ...        ...           ...   \n",
       "995              Vikram Vedha            2017        147           8.3   \n",
       "996                  Drishyam            2013        160           8.3   \n",
       "997                    Jagten            2012        115           8.3   \n",
       "998   Jodaeiye Nader az Simin            2011        123           8.3   \n",
       "999                 Incendies            2010        131           8.3   \n",
       "\n",
       "    Metascore      Votes Gross collection  \\\n",
       "0         Nan    173,295             #139   \n",
       "1          80  2,541,091          $28.34M   \n",
       "2         100  1,748,410         $134.97M   \n",
       "3         Nan    107,159              Nan   \n",
       "4          84  2,491,371         $534.86M   \n",
       "..        ...        ...              ...   \n",
       "995       Nan     35,901              Nan   \n",
       "996       Nan     39,570             #244   \n",
       "997        77    313,647           $0.69M   \n",
       "998        95    238,130           $7.10M   \n",
       "999        80    168,727           $6.86M   \n",
       "\n",
       "                                           Description  \\\n",
       "0    When a tribal man is arrested for a case of al...   \n",
       "1    Two imprisoned men bond over a number of years...   \n",
       "2    The aging patriarch of an organized crime dyna...   \n",
       "3    Nedumaaran Rajangam \"Maara\" sets out to make t...   \n",
       "4    When the menace known as the Joker wreaks havo...   \n",
       "..                                                 ...   \n",
       "995  Vikram, a no-nonsense police officer, accompan...   \n",
       "996  A man goes to extreme lengths to save his fami...   \n",
       "997  A teacher lives a lonely life, all the while s...   \n",
       "998  A married couple are faced with a difficult de...   \n",
       "999  Twins journey to the Middle East to discover t...   \n",
       "\n",
       "                       Director  \\\n",
       "0                 T.J. Gnanavel   \n",
       "1                Frank Darabont   \n",
       "2          Francis Ford Coppola   \n",
       "3                 Sudha Kongara   \n",
       "4             Christopher Nolan   \n",
       "..                          ...   \n",
       "995  Directors:Gayatri, Pushkar   \n",
       "996               Jeethu Joseph   \n",
       "997           Thomas Vinterberg   \n",
       "998              Asghar Farhadi   \n",
       "999            Denis Villeneuve   \n",
       "\n",
       "                                                  Star  \n",
       "0    ['Suriya', 'Lijo Mol Jose', 'Manikandan', 'Raj...  \n",
       "1    ['Tim Robbins', 'Morgan Freeman', 'Bob Gunton'...  \n",
       "2    ['Marlon Brando', 'Al Pacino', 'James Caan', '...  \n",
       "3    ['Suriya', 'Paresh Rawal', 'Aparna Balamurali'...  \n",
       "4    ['Christian Bale', 'Heath Ledger', 'Aaron Eckh...  \n",
       "..                                                 ...  \n",
       "995  ['Madhavan', 'Vijay Sethupathi', 'Shraddha Sri...  \n",
       "996    ['Mohanlal', 'Meena', 'Asha Sharath', 'Ansiba']  \n",
       "997  ['Mads Mikkelsen', 'Thomas Bo Larsen', 'Annika...  \n",
       "998  ['Payman Maadi', 'Leila Hatami', 'Sareh Bayat'...  \n",
       "999  ['Lubna Azabal', 'Mélissa Désormeaux-Poulin', ...  \n",
       "\n",
       "[1000 rows x 10 columns]"
      ]
     },
     "execution_count": 31,
     "metadata": {},
     "output_type": "execute_result"
    }
   ],
   "source": [
    "df"
   ]
  },
  {
   "cell_type": "code",
   "execution_count": 32,
   "id": "2c17cc3e",
   "metadata": {},
   "outputs": [],
   "source": [
    "df = df.replace(\"Nan\", np.nan)"
   ]
  },
  {
   "cell_type": "code",
   "execution_count": 33,
   "id": "b8b548b4",
   "metadata": {},
   "outputs": [
    {
     "data": {
      "text/plain": [
       "Name of movie         0\n",
       "Year of relase        0\n",
       "Watchtime             0\n",
       "Movie Rating          0\n",
       "Metascore           220\n",
       "Votes                 0\n",
       "Gross collection    110\n",
       "Description           0\n",
       "Director              0\n",
       "Star                  0\n",
       "dtype: int64"
      ]
     },
     "execution_count": 33,
     "metadata": {},
     "output_type": "execute_result"
    }
   ],
   "source": [
    "df.isna().sum()"
   ]
  },
  {
   "cell_type": "code",
   "execution_count": 34,
   "id": "6b5f8114",
   "metadata": {},
   "outputs": [],
   "source": [
    "#df.dropna(axis=1, inplace=True)"
   ]
  },
  {
   "cell_type": "code",
   "execution_count": 35,
   "id": "40d37bd0",
   "metadata": {},
   "outputs": [
    {
     "data": {
      "text/plain": [
       "Name of movie       False\n",
       "Year of relase      False\n",
       "Watchtime           False\n",
       "Movie Rating        False\n",
       "Metascore           False\n",
       "Votes               False\n",
       "Gross collection    False\n",
       "Description         False\n",
       "Director            False\n",
       "Star                False\n",
       "dtype: bool"
      ]
     },
     "execution_count": 35,
     "metadata": {},
     "output_type": "execute_result"
    }
   ],
   "source": [
    "df[df.isin(['NaN'])].any()"
   ]
  },
  {
   "cell_type": "code",
   "execution_count": 36,
   "id": "7993ee51",
   "metadata": {},
   "outputs": [
    {
     "data": {
      "text/html": [
       "<div>\n",
       "<style scoped>\n",
       "    .dataframe tbody tr th:only-of-type {\n",
       "        vertical-align: middle;\n",
       "    }\n",
       "\n",
       "    .dataframe tbody tr th {\n",
       "        vertical-align: top;\n",
       "    }\n",
       "\n",
       "    .dataframe thead th {\n",
       "        text-align: right;\n",
       "    }\n",
       "</style>\n",
       "<table border=\"1\" class=\"dataframe\">\n",
       "  <thead>\n",
       "    <tr style=\"text-align: right;\">\n",
       "      <th></th>\n",
       "      <th>Name of movie</th>\n",
       "      <th>Year of relase</th>\n",
       "      <th>Watchtime</th>\n",
       "      <th>Movie Rating</th>\n",
       "      <th>Metascore</th>\n",
       "      <th>Votes</th>\n",
       "      <th>Gross collection</th>\n",
       "      <th>Description</th>\n",
       "      <th>Director</th>\n",
       "      <th>Star</th>\n",
       "    </tr>\n",
       "  </thead>\n",
       "  <tbody>\n",
       "    <tr>\n",
       "      <th>0</th>\n",
       "      <td>Jai Bhim</td>\n",
       "      <td>2021</td>\n",
       "      <td>164</td>\n",
       "      <td>9.3</td>\n",
       "      <td>NaN</td>\n",
       "      <td>173,295</td>\n",
       "      <td>#139</td>\n",
       "      <td>When a tribal man is arrested for a case of al...</td>\n",
       "      <td>T.J. Gnanavel</td>\n",
       "      <td>['Suriya', 'Lijo Mol Jose', 'Manikandan', 'Raj...</td>\n",
       "    </tr>\n",
       "    <tr>\n",
       "      <th>1</th>\n",
       "      <td>The Shawshank Redemption</td>\n",
       "      <td>1994</td>\n",
       "      <td>142</td>\n",
       "      <td>9.3</td>\n",
       "      <td>80</td>\n",
       "      <td>2,541,091</td>\n",
       "      <td>$28.34M</td>\n",
       "      <td>Two imprisoned men bond over a number of years...</td>\n",
       "      <td>Frank Darabont</td>\n",
       "      <td>['Tim Robbins', 'Morgan Freeman', 'Bob Gunton'...</td>\n",
       "    </tr>\n",
       "    <tr>\n",
       "      <th>2</th>\n",
       "      <td>The Godfather</td>\n",
       "      <td>1972</td>\n",
       "      <td>175</td>\n",
       "      <td>9.2</td>\n",
       "      <td>100</td>\n",
       "      <td>1,748,410</td>\n",
       "      <td>$134.97M</td>\n",
       "      <td>The aging patriarch of an organized crime dyna...</td>\n",
       "      <td>Francis Ford Coppola</td>\n",
       "      <td>['Marlon Brando', 'Al Pacino', 'James Caan', '...</td>\n",
       "    </tr>\n",
       "    <tr>\n",
       "      <th>3</th>\n",
       "      <td>Soorarai Pottru</td>\n",
       "      <td>2020</td>\n",
       "      <td>153</td>\n",
       "      <td>9.1</td>\n",
       "      <td>NaN</td>\n",
       "      <td>107,159</td>\n",
       "      <td>NaN</td>\n",
       "      <td>Nedumaaran Rajangam \"Maara\" sets out to make t...</td>\n",
       "      <td>Sudha Kongara</td>\n",
       "      <td>['Suriya', 'Paresh Rawal', 'Aparna Balamurali'...</td>\n",
       "    </tr>\n",
       "    <tr>\n",
       "      <th>4</th>\n",
       "      <td>The Dark Knight</td>\n",
       "      <td>2008</td>\n",
       "      <td>152</td>\n",
       "      <td>9.0</td>\n",
       "      <td>84</td>\n",
       "      <td>2,491,371</td>\n",
       "      <td>$534.86M</td>\n",
       "      <td>When the menace known as the Joker wreaks havo...</td>\n",
       "      <td>Christopher Nolan</td>\n",
       "      <td>['Christian Bale', 'Heath Ledger', 'Aaron Eckh...</td>\n",
       "    </tr>\n",
       "    <tr>\n",
       "      <th>...</th>\n",
       "      <td>...</td>\n",
       "      <td>...</td>\n",
       "      <td>...</td>\n",
       "      <td>...</td>\n",
       "      <td>...</td>\n",
       "      <td>...</td>\n",
       "      <td>...</td>\n",
       "      <td>...</td>\n",
       "      <td>...</td>\n",
       "      <td>...</td>\n",
       "    </tr>\n",
       "    <tr>\n",
       "      <th>995</th>\n",
       "      <td>Vikram Vedha</td>\n",
       "      <td>2017</td>\n",
       "      <td>147</td>\n",
       "      <td>8.3</td>\n",
       "      <td>NaN</td>\n",
       "      <td>35,901</td>\n",
       "      <td>NaN</td>\n",
       "      <td>Vikram, a no-nonsense police officer, accompan...</td>\n",
       "      <td>Directors:Gayatri, Pushkar</td>\n",
       "      <td>['Madhavan', 'Vijay Sethupathi', 'Shraddha Sri...</td>\n",
       "    </tr>\n",
       "    <tr>\n",
       "      <th>996</th>\n",
       "      <td>Drishyam</td>\n",
       "      <td>2013</td>\n",
       "      <td>160</td>\n",
       "      <td>8.3</td>\n",
       "      <td>NaN</td>\n",
       "      <td>39,570</td>\n",
       "      <td>#244</td>\n",
       "      <td>A man goes to extreme lengths to save his fami...</td>\n",
       "      <td>Jeethu Joseph</td>\n",
       "      <td>['Mohanlal', 'Meena', 'Asha Sharath', 'Ansiba']</td>\n",
       "    </tr>\n",
       "    <tr>\n",
       "      <th>997</th>\n",
       "      <td>Jagten</td>\n",
       "      <td>2012</td>\n",
       "      <td>115</td>\n",
       "      <td>8.3</td>\n",
       "      <td>77</td>\n",
       "      <td>313,647</td>\n",
       "      <td>$0.69M</td>\n",
       "      <td>A teacher lives a lonely life, all the while s...</td>\n",
       "      <td>Thomas Vinterberg</td>\n",
       "      <td>['Mads Mikkelsen', 'Thomas Bo Larsen', 'Annika...</td>\n",
       "    </tr>\n",
       "    <tr>\n",
       "      <th>998</th>\n",
       "      <td>Jodaeiye Nader az Simin</td>\n",
       "      <td>2011</td>\n",
       "      <td>123</td>\n",
       "      <td>8.3</td>\n",
       "      <td>95</td>\n",
       "      <td>238,130</td>\n",
       "      <td>$7.10M</td>\n",
       "      <td>A married couple are faced with a difficult de...</td>\n",
       "      <td>Asghar Farhadi</td>\n",
       "      <td>['Payman Maadi', 'Leila Hatami', 'Sareh Bayat'...</td>\n",
       "    </tr>\n",
       "    <tr>\n",
       "      <th>999</th>\n",
       "      <td>Incendies</td>\n",
       "      <td>2010</td>\n",
       "      <td>131</td>\n",
       "      <td>8.3</td>\n",
       "      <td>80</td>\n",
       "      <td>168,727</td>\n",
       "      <td>$6.86M</td>\n",
       "      <td>Twins journey to the Middle East to discover t...</td>\n",
       "      <td>Denis Villeneuve</td>\n",
       "      <td>['Lubna Azabal', 'Mélissa Désormeaux-Poulin', ...</td>\n",
       "    </tr>\n",
       "  </tbody>\n",
       "</table>\n",
       "<p>1000 rows × 10 columns</p>\n",
       "</div>"
      ],
      "text/plain": [
       "                Name of movie  Year of relase  Watchtime  Movie Rating  \\\n",
       "0                    Jai Bhim            2021        164           9.3   \n",
       "1    The Shawshank Redemption            1994        142           9.3   \n",
       "2               The Godfather            1972        175           9.2   \n",
       "3             Soorarai Pottru            2020        153           9.1   \n",
       "4             The Dark Knight            2008        152           9.0   \n",
       "..                        ...             ...        ...           ...   \n",
       "995              Vikram Vedha            2017        147           8.3   \n",
       "996                  Drishyam            2013        160           8.3   \n",
       "997                    Jagten            2012        115           8.3   \n",
       "998   Jodaeiye Nader az Simin            2011        123           8.3   \n",
       "999                 Incendies            2010        131           8.3   \n",
       "\n",
       "    Metascore      Votes Gross collection  \\\n",
       "0         NaN    173,295             #139   \n",
       "1          80  2,541,091          $28.34M   \n",
       "2         100  1,748,410         $134.97M   \n",
       "3         NaN    107,159              NaN   \n",
       "4          84  2,491,371         $534.86M   \n",
       "..        ...        ...              ...   \n",
       "995       NaN     35,901              NaN   \n",
       "996       NaN     39,570             #244   \n",
       "997        77    313,647           $0.69M   \n",
       "998        95    238,130           $7.10M   \n",
       "999        80    168,727           $6.86M   \n",
       "\n",
       "                                           Description  \\\n",
       "0    When a tribal man is arrested for a case of al...   \n",
       "1    Two imprisoned men bond over a number of years...   \n",
       "2    The aging patriarch of an organized crime dyna...   \n",
       "3    Nedumaaran Rajangam \"Maara\" sets out to make t...   \n",
       "4    When the menace known as the Joker wreaks havo...   \n",
       "..                                                 ...   \n",
       "995  Vikram, a no-nonsense police officer, accompan...   \n",
       "996  A man goes to extreme lengths to save his fami...   \n",
       "997  A teacher lives a lonely life, all the while s...   \n",
       "998  A married couple are faced with a difficult de...   \n",
       "999  Twins journey to the Middle East to discover t...   \n",
       "\n",
       "                       Director  \\\n",
       "0                 T.J. Gnanavel   \n",
       "1                Frank Darabont   \n",
       "2          Francis Ford Coppola   \n",
       "3                 Sudha Kongara   \n",
       "4             Christopher Nolan   \n",
       "..                          ...   \n",
       "995  Directors:Gayatri, Pushkar   \n",
       "996               Jeethu Joseph   \n",
       "997           Thomas Vinterberg   \n",
       "998              Asghar Farhadi   \n",
       "999            Denis Villeneuve   \n",
       "\n",
       "                                                  Star  \n",
       "0    ['Suriya', 'Lijo Mol Jose', 'Manikandan', 'Raj...  \n",
       "1    ['Tim Robbins', 'Morgan Freeman', 'Bob Gunton'...  \n",
       "2    ['Marlon Brando', 'Al Pacino', 'James Caan', '...  \n",
       "3    ['Suriya', 'Paresh Rawal', 'Aparna Balamurali'...  \n",
       "4    ['Christian Bale', 'Heath Ledger', 'Aaron Eckh...  \n",
       "..                                                 ...  \n",
       "995  ['Madhavan', 'Vijay Sethupathi', 'Shraddha Sri...  \n",
       "996    ['Mohanlal', 'Meena', 'Asha Sharath', 'Ansiba']  \n",
       "997  ['Mads Mikkelsen', 'Thomas Bo Larsen', 'Annika...  \n",
       "998  ['Payman Maadi', 'Leila Hatami', 'Sareh Bayat'...  \n",
       "999  ['Lubna Azabal', 'Mélissa Désormeaux-Poulin', ...  \n",
       "\n",
       "[1000 rows x 10 columns]"
      ]
     },
     "execution_count": 36,
     "metadata": {},
     "output_type": "execute_result"
    }
   ],
   "source": [
    "df"
   ]
  },
  {
   "cell_type": "markdown",
   "id": "021d2bca",
   "metadata": {},
   "source": [
    "## Filling Metascore NaN values"
   ]
  },
  {
   "cell_type": "code",
   "execution_count": 40,
   "id": "0c6025db",
   "metadata": {},
   "outputs": [],
   "source": [
    "df[\"Metascore\"] = pd.to_numeric(df[\"Metascore\"])"
   ]
  },
  {
   "cell_type": "code",
   "execution_count": 41,
   "id": "7c1d6679",
   "metadata": {},
   "outputs": [
    {
     "data": {
      "text/plain": [
       "82.67948717948718"
      ]
     },
     "execution_count": 41,
     "metadata": {},
     "output_type": "execute_result"
    }
   ],
   "source": [
    "np.mean(df[\"Metascore\"])"
   ]
  },
  {
   "cell_type": "code",
   "execution_count": 42,
   "id": "f02cea74",
   "metadata": {},
   "outputs": [
    {
     "data": {
      "text/plain": [
       "8.551999999999968"
      ]
     },
     "execution_count": 42,
     "metadata": {},
     "output_type": "execute_result"
    }
   ],
   "source": [
    "np.mean(df[\"Movie Rating\"])"
   ]
  },
  {
   "cell_type": "code",
   "execution_count": 43,
   "id": "3cf1733e",
   "metadata": {},
   "outputs": [
    {
     "data": {
      "text/plain": [
       "9.667853973279641"
      ]
     },
     "execution_count": 43,
     "metadata": {},
     "output_type": "execute_result"
    }
   ],
   "source": [
    "np.mean(df[\"Metascore\"])/np.mean(df[\"Movie Rating\"])"
   ]
  },
  {
   "cell_type": "code",
   "execution_count": 44,
   "id": "ce621e99",
   "metadata": {},
   "outputs": [],
   "source": [
    "#I decided to fill nan values of Metascore using Movie Rating and multyiplying it with 9.67.\n",
    "#9.67 is the ratio between means"
   ]
  },
  {
   "cell_type": "code",
   "execution_count": 45,
   "id": "d909e8bf",
   "metadata": {},
   "outputs": [],
   "source": [
    "df[\"Metascore\"] =df[\"Metascore\"].fillna((df[\"Movie Rating\"]*9.67))"
   ]
  },
  {
   "cell_type": "code",
   "execution_count": 46,
   "id": "4ca1a24e",
   "metadata": {},
   "outputs": [],
   "source": [
    "df[\"Metascore\"] =df[\"Metascore\"].astype(int)"
   ]
  },
  {
   "cell_type": "code",
   "execution_count": 47,
   "id": "56d23d91",
   "metadata": {},
   "outputs": [
    {
     "data": {
      "text/plain": [
       "Name of movie        object\n",
       "Year of relase        int64\n",
       "Watchtime             int64\n",
       "Movie Rating        float64\n",
       "Metascore             int32\n",
       "Votes                object\n",
       "Gross collection     object\n",
       "Description          object\n",
       "Director             object\n",
       "Star                 object\n",
       "dtype: object"
      ]
     },
     "execution_count": 47,
     "metadata": {},
     "output_type": "execute_result"
    }
   ],
   "source": [
    "df.dtypes"
   ]
  },
  {
   "cell_type": "code",
   "execution_count": 48,
   "id": "314bcb1b",
   "metadata": {},
   "outputs": [
    {
     "data": {
      "text/plain": [
       "0       89\n",
       "1       80\n",
       "2      100\n",
       "3       87\n",
       "4       84\n",
       "      ... \n",
       "995     80\n",
       "996     80\n",
       "997     77\n",
       "998     95\n",
       "999     80\n",
       "Name: Metascore, Length: 1000, dtype: int32"
      ]
     },
     "execution_count": 48,
     "metadata": {},
     "output_type": "execute_result"
    }
   ],
   "source": [
    "df.Metascore"
   ]
  },
  {
   "cell_type": "code",
   "execution_count": null,
   "id": "c213d62a",
   "metadata": {},
   "outputs": [],
   "source": []
  },
  {
   "cell_type": "markdown",
   "id": "ab05dbea",
   "metadata": {},
   "source": [
    "## Seperate Star Names"
   ]
  },
  {
   "cell_type": "code",
   "execution_count": 205,
   "id": "782391d4",
   "metadata": {},
   "outputs": [],
   "source": [
    "df.Star=df.Star.str.strip(\",\")"
   ]
  },
  {
   "cell_type": "code",
   "execution_count": 206,
   "id": "170c60f5",
   "metadata": {},
   "outputs": [
    {
     "data": {
      "text/plain": [
       "\"['Suriya', 'Lijo Mol Jose', 'Manikandan', 'Rajisha Vijayan']\""
      ]
     },
     "execution_count": 206,
     "metadata": {},
     "output_type": "execute_result"
    }
   ],
   "source": [
    "df.Star[0]"
   ]
  },
  {
   "cell_type": "code",
   "execution_count": 207,
   "id": "c34cba66",
   "metadata": {},
   "outputs": [
    {
     "data": {
      "text/plain": [
       "0      ['Suriya', 'Lijo Mol Jose', 'Manikandan', 'Raj...\n",
       "1      ['Tim Robbins', 'Morgan Freeman', 'Bob Gunton'...\n",
       "2      ['Marlon Brando', 'Al Pacino', 'James Caan', '...\n",
       "3      ['Suriya', 'Paresh Rawal', 'Aparna Balamurali'...\n",
       "4      ['Christian Bale', 'Heath Ledger', 'Aaron Eckh...\n",
       "                             ...                        \n",
       "995    ['Madhavan', 'Vijay Sethupathi', 'Shraddha Sri...\n",
       "996      ['Mohanlal', 'Meena', 'Asha Sharath', 'Ansiba']\n",
       "997    ['Mads Mikkelsen', 'Thomas Bo Larsen', 'Annika...\n",
       "998    ['Payman Maadi', 'Leila Hatami', 'Sareh Bayat'...\n",
       "999    ['Lubna Azabal', 'Mélissa Désormeaux-Poulin', ...\n",
       "Name: Star, Length: 1000, dtype: object"
      ]
     },
     "execution_count": 207,
     "metadata": {},
     "output_type": "execute_result"
    }
   ],
   "source": [
    "df.Star"
   ]
  },
  {
   "cell_type": "code",
   "execution_count": 208,
   "id": "97cdf837",
   "metadata": {},
   "outputs": [
    {
     "data": {
      "text/html": [
       "<div>\n",
       "<style scoped>\n",
       "    .dataframe tbody tr th:only-of-type {\n",
       "        vertical-align: middle;\n",
       "    }\n",
       "\n",
       "    .dataframe tbody tr th {\n",
       "        vertical-align: top;\n",
       "    }\n",
       "\n",
       "    .dataframe thead th {\n",
       "        text-align: right;\n",
       "    }\n",
       "</style>\n",
       "<table border=\"1\" class=\"dataframe\">\n",
       "  <thead>\n",
       "    <tr style=\"text-align: right;\">\n",
       "      <th></th>\n",
       "      <th>Name of movie</th>\n",
       "      <th>Year of relase</th>\n",
       "      <th>Watchtime</th>\n",
       "      <th>Movie Rating</th>\n",
       "      <th>Metascore</th>\n",
       "      <th>Votes</th>\n",
       "      <th>Gross collection</th>\n",
       "      <th>Description</th>\n",
       "      <th>Director</th>\n",
       "      <th>Star</th>\n",
       "    </tr>\n",
       "  </thead>\n",
       "  <tbody>\n",
       "    <tr>\n",
       "      <th>0</th>\n",
       "      <td>Jai Bhim</td>\n",
       "      <td>2021</td>\n",
       "      <td>164</td>\n",
       "      <td>9.3</td>\n",
       "      <td>89</td>\n",
       "      <td>173,295</td>\n",
       "      <td>#139</td>\n",
       "      <td>When a tribal man is arrested for a case of al...</td>\n",
       "      <td>T.J. Gnanavel</td>\n",
       "      <td>['Suriya', 'Lijo Mol Jose', 'Manikandan', 'Raj...</td>\n",
       "    </tr>\n",
       "    <tr>\n",
       "      <th>1</th>\n",
       "      <td>The Shawshank Redemption</td>\n",
       "      <td>1994</td>\n",
       "      <td>142</td>\n",
       "      <td>9.3</td>\n",
       "      <td>80</td>\n",
       "      <td>2,541,091</td>\n",
       "      <td>$28.34M</td>\n",
       "      <td>Two imprisoned men bond over a number of years...</td>\n",
       "      <td>Frank Darabont</td>\n",
       "      <td>['Tim Robbins', 'Morgan Freeman', 'Bob Gunton'...</td>\n",
       "    </tr>\n",
       "    <tr>\n",
       "      <th>2</th>\n",
       "      <td>The Godfather</td>\n",
       "      <td>1972</td>\n",
       "      <td>175</td>\n",
       "      <td>9.2</td>\n",
       "      <td>100</td>\n",
       "      <td>1,748,410</td>\n",
       "      <td>$134.97M</td>\n",
       "      <td>The aging patriarch of an organized crime dyna...</td>\n",
       "      <td>Francis Ford Coppola</td>\n",
       "      <td>['Marlon Brando', 'Al Pacino', 'James Caan', '...</td>\n",
       "    </tr>\n",
       "    <tr>\n",
       "      <th>3</th>\n",
       "      <td>Soorarai Pottru</td>\n",
       "      <td>2020</td>\n",
       "      <td>153</td>\n",
       "      <td>9.1</td>\n",
       "      <td>87</td>\n",
       "      <td>107,159</td>\n",
       "      <td>NaN</td>\n",
       "      <td>Nedumaaran Rajangam \"Maara\" sets out to make t...</td>\n",
       "      <td>Sudha Kongara</td>\n",
       "      <td>['Suriya', 'Paresh Rawal', 'Aparna Balamurali'...</td>\n",
       "    </tr>\n",
       "    <tr>\n",
       "      <th>4</th>\n",
       "      <td>The Dark Knight</td>\n",
       "      <td>2008</td>\n",
       "      <td>152</td>\n",
       "      <td>9.0</td>\n",
       "      <td>84</td>\n",
       "      <td>2,491,371</td>\n",
       "      <td>$534.86M</td>\n",
       "      <td>When the menace known as the Joker wreaks havo...</td>\n",
       "      <td>Christopher Nolan</td>\n",
       "      <td>['Christian Bale', 'Heath Ledger', 'Aaron Eckh...</td>\n",
       "    </tr>\n",
       "  </tbody>\n",
       "</table>\n",
       "</div>"
      ],
      "text/plain": [
       "              Name of movie  Year of relase  Watchtime  Movie Rating  \\\n",
       "0                  Jai Bhim            2021        164           9.3   \n",
       "1  The Shawshank Redemption            1994        142           9.3   \n",
       "2             The Godfather            1972        175           9.2   \n",
       "3           Soorarai Pottru            2020        153           9.1   \n",
       "4           The Dark Knight            2008        152           9.0   \n",
       "\n",
       "   Metascore      Votes Gross collection  \\\n",
       "0         89    173,295             #139   \n",
       "1         80  2,541,091          $28.34M   \n",
       "2        100  1,748,410         $134.97M   \n",
       "3         87    107,159              NaN   \n",
       "4         84  2,491,371         $534.86M   \n",
       "\n",
       "                                         Description              Director  \\\n",
       "0  When a tribal man is arrested for a case of al...         T.J. Gnanavel   \n",
       "1  Two imprisoned men bond over a number of years...        Frank Darabont   \n",
       "2  The aging patriarch of an organized crime dyna...  Francis Ford Coppola   \n",
       "3  Nedumaaran Rajangam \"Maara\" sets out to make t...         Sudha Kongara   \n",
       "4  When the menace known as the Joker wreaks havo...     Christopher Nolan   \n",
       "\n",
       "                                                Star  \n",
       "0  ['Suriya', 'Lijo Mol Jose', 'Manikandan', 'Raj...  \n",
       "1  ['Tim Robbins', 'Morgan Freeman', 'Bob Gunton'...  \n",
       "2  ['Marlon Brando', 'Al Pacino', 'James Caan', '...  \n",
       "3  ['Suriya', 'Paresh Rawal', 'Aparna Balamurali'...  \n",
       "4  ['Christian Bale', 'Heath Ledger', 'Aaron Eckh...  "
      ]
     },
     "execution_count": 208,
     "metadata": {},
     "output_type": "execute_result"
    }
   ],
   "source": [
    "df.head()"
   ]
  },
  {
   "cell_type": "markdown",
   "id": "656245e5",
   "metadata": {},
   "source": [
    "## Working on Gross collection"
   ]
  },
  {
   "cell_type": "code",
   "execution_count": 209,
   "id": "64af6b64",
   "metadata": {},
   "outputs": [
    {
     "data": {
      "text/plain": [
       "0          #139\n",
       "1       $28.34M\n",
       "2      $134.97M\n",
       "3           NaN\n",
       "4      $534.86M\n",
       "         ...   \n",
       "995         NaN\n",
       "996        #244\n",
       "997      $0.69M\n",
       "998      $7.10M\n",
       "999      $6.86M\n",
       "Name: Gross collection, Length: 1000, dtype: object"
      ]
     },
     "execution_count": 209,
     "metadata": {},
     "output_type": "execute_result"
    }
   ],
   "source": [
    "df[\"Gross collection\"]"
   ]
  },
  {
   "cell_type": "code",
   "execution_count": null,
   "id": "4a48c7da",
   "metadata": {},
   "outputs": [],
   "source": []
  },
  {
   "cell_type": "code",
   "execution_count": null,
   "id": "93e9040c",
   "metadata": {},
   "outputs": [],
   "source": []
  },
  {
   "cell_type": "markdown",
   "id": "deca857d",
   "metadata": {},
   "source": [
    "## # of Votes, Most and Least Voted Movies"
   ]
  },
  {
   "cell_type": "code",
   "execution_count": 210,
   "id": "0d6e1423",
   "metadata": {},
   "outputs": [],
   "source": [
    "df.Votes = df.Votes.str.replace(\",\", \"\")"
   ]
  },
  {
   "cell_type": "code",
   "execution_count": 211,
   "id": "639e2158",
   "metadata": {},
   "outputs": [],
   "source": [
    "df.Votes = pd.to_numeric(df.Votes)"
   ]
  },
  {
   "cell_type": "code",
   "execution_count": 212,
   "id": "3866d032",
   "metadata": {},
   "outputs": [
    {
     "data": {
      "text/plain": [
       "0       173295\n",
       "1      2541091\n",
       "2      1748410\n",
       "3       107159\n",
       "4      2491371\n",
       "        ...   \n",
       "995      35901\n",
       "996      39570\n",
       "997     313647\n",
       "998     238130\n",
       "999     168727\n",
       "Name: Votes, Length: 1000, dtype: int64"
      ]
     },
     "execution_count": 212,
     "metadata": {},
     "output_type": "execute_result"
    }
   ],
   "source": [
    "df.Votes"
   ]
  },
  {
   "cell_type": "code",
   "execution_count": 217,
   "id": "75bda158",
   "metadata": {},
   "outputs": [
    {
     "data": {
      "text/html": [
       "<div>\n",
       "<style scoped>\n",
       "    .dataframe tbody tr th:only-of-type {\n",
       "        vertical-align: middle;\n",
       "    }\n",
       "\n",
       "    .dataframe tbody tr th {\n",
       "        vertical-align: top;\n",
       "    }\n",
       "\n",
       "    .dataframe thead th {\n",
       "        text-align: right;\n",
       "    }\n",
       "</style>\n",
       "<table border=\"1\" class=\"dataframe\">\n",
       "  <thead>\n",
       "    <tr style=\"text-align: right;\">\n",
       "      <th></th>\n",
       "      <th>Name of movie</th>\n",
       "      <th>Year of relase</th>\n",
       "      <th>Watchtime</th>\n",
       "      <th>Movie Rating</th>\n",
       "      <th>Metascore</th>\n",
       "      <th>Votes</th>\n",
       "      <th>Gross collection</th>\n",
       "      <th>Description</th>\n",
       "      <th>Director</th>\n",
       "      <th>Star</th>\n",
       "    </tr>\n",
       "  </thead>\n",
       "  <tbody>\n",
       "    <tr>\n",
       "      <th>1</th>\n",
       "      <td>The Shawshank Redemption</td>\n",
       "      <td>1994</td>\n",
       "      <td>142</td>\n",
       "      <td>9.3</td>\n",
       "      <td>80</td>\n",
       "      <td>2541091</td>\n",
       "      <td>$28.34M</td>\n",
       "      <td>Two imprisoned men bond over a number of years...</td>\n",
       "      <td>Frank Darabont</td>\n",
       "      <td>['Tim Robbins', 'Morgan Freeman', 'Bob Gunton'...</td>\n",
       "    </tr>\n",
       "  </tbody>\n",
       "</table>\n",
       "</div>"
      ],
      "text/plain": [
       "              Name of movie  Year of relase  Watchtime  Movie Rating  \\\n",
       "1  The Shawshank Redemption            1994        142           9.3   \n",
       "\n",
       "   Metascore    Votes Gross collection  \\\n",
       "1         80  2541091          $28.34M   \n",
       "\n",
       "                                         Description        Director  \\\n",
       "1  Two imprisoned men bond over a number of years...  Frank Darabont   \n",
       "\n",
       "                                                Star  \n",
       "1  ['Tim Robbins', 'Morgan Freeman', 'Bob Gunton'...  "
      ]
     },
     "execution_count": 217,
     "metadata": {},
     "output_type": "execute_result"
    }
   ],
   "source": [
    "df.iloc[[df.Votes.argmax()]]"
   ]
  },
  {
   "cell_type": "code",
   "execution_count": 218,
   "id": "56ffd878",
   "metadata": {},
   "outputs": [
    {
     "data": {
      "text/html": [
       "<div>\n",
       "<style scoped>\n",
       "    .dataframe tbody tr th:only-of-type {\n",
       "        vertical-align: middle;\n",
       "    }\n",
       "\n",
       "    .dataframe tbody tr th {\n",
       "        vertical-align: top;\n",
       "    }\n",
       "\n",
       "    .dataframe thead th {\n",
       "        text-align: right;\n",
       "    }\n",
       "</style>\n",
       "<table border=\"1\" class=\"dataframe\">\n",
       "  <thead>\n",
       "    <tr style=\"text-align: right;\">\n",
       "      <th></th>\n",
       "      <th>Name of movie</th>\n",
       "      <th>Year of relase</th>\n",
       "      <th>Watchtime</th>\n",
       "      <th>Movie Rating</th>\n",
       "      <th>Metascore</th>\n",
       "      <th>Votes</th>\n",
       "      <th>Gross collection</th>\n",
       "      <th>Description</th>\n",
       "      <th>Director</th>\n",
       "      <th>Star</th>\n",
       "    </tr>\n",
       "  </thead>\n",
       "  <tbody>\n",
       "    <tr>\n",
       "      <th>38</th>\n",
       "      <td>96</td>\n",
       "      <td>2018</td>\n",
       "      <td>158</td>\n",
       "      <td>8.5</td>\n",
       "      <td>82</td>\n",
       "      <td>27527</td>\n",
       "      <td>NaN</td>\n",
       "      <td>Two high school sweethearts meet at a reunion ...</td>\n",
       "      <td>C. Prem Kumar</td>\n",
       "      <td>['Vijay Sethupathi', 'Adithya Bhaskar', 'Trish...</td>\n",
       "    </tr>\n",
       "  </tbody>\n",
       "</table>\n",
       "</div>"
      ],
      "text/plain": [
       "   Name of movie  Year of relase  Watchtime  Movie Rating  Metascore  Votes  \\\n",
       "38            96            2018        158           8.5         82  27527   \n",
       "\n",
       "   Gross collection                                        Description  \\\n",
       "38              NaN  Two high school sweethearts meet at a reunion ...   \n",
       "\n",
       "         Director                                               Star  \n",
       "38  C. Prem Kumar  ['Vijay Sethupathi', 'Adithya Bhaskar', 'Trish...  "
      ]
     },
     "execution_count": 218,
     "metadata": {},
     "output_type": "execute_result"
    }
   ],
   "source": [
    "df.iloc[[df.Votes.argmin()]]"
   ]
  },
  {
   "cell_type": "code",
   "execution_count": 216,
   "id": "f6aef5ca",
   "metadata": {},
   "outputs": [
    {
     "data": {
      "text/plain": [
       "738      27527\n",
       "938      27527\n",
       "638      27527\n",
       "538      27527\n",
       "38       27527\n",
       "        ...   \n",
       "701    2541091\n",
       "101    2541091\n",
       "1      2541091\n",
       "601    2541091\n",
       "401    2541091\n",
       "Name: Votes, Length: 1000, dtype: int64"
      ]
     },
     "execution_count": 216,
     "metadata": {},
     "output_type": "execute_result"
    }
   ],
   "source": [
    "df.Votes.sort_values(ascending=True)"
   ]
  },
  {
   "cell_type": "markdown",
   "id": "76ddd0be",
   "metadata": {},
   "source": [
    "## Top 10 Rated Movies (By Movie Rating)"
   ]
  },
  {
   "cell_type": "code",
   "execution_count": null,
   "id": "b26f5d7a",
   "metadata": {},
   "outputs": [],
   "source": []
  },
  {
   "cell_type": "code",
   "execution_count": null,
   "id": "478c9cf9",
   "metadata": {},
   "outputs": [],
   "source": []
  },
  {
   "cell_type": "code",
   "execution_count": null,
   "id": "7fe54803",
   "metadata": {},
   "outputs": [],
   "source": []
  },
  {
   "cell_type": "code",
   "execution_count": null,
   "id": "fd6256d1",
   "metadata": {},
   "outputs": [],
   "source": []
  },
  {
   "cell_type": "code",
   "execution_count": null,
   "id": "e17a5ef2",
   "metadata": {},
   "outputs": [],
   "source": []
  },
  {
   "cell_type": "code",
   "execution_count": null,
   "id": "cdac2532",
   "metadata": {},
   "outputs": [],
   "source": []
  },
  {
   "cell_type": "code",
   "execution_count": null,
   "id": "528cee39",
   "metadata": {},
   "outputs": [],
   "source": []
  },
  {
   "cell_type": "markdown",
   "id": "adb24230",
   "metadata": {},
   "source": [
    "## Top 10 Rated Movies (By Metascore)"
   ]
  },
  {
   "cell_type": "code",
   "execution_count": null,
   "id": "9931fa10",
   "metadata": {},
   "outputs": [],
   "source": []
  },
  {
   "cell_type": "code",
   "execution_count": null,
   "id": "ca32350f",
   "metadata": {},
   "outputs": [],
   "source": []
  },
  {
   "cell_type": "code",
   "execution_count": null,
   "id": "88412f6e",
   "metadata": {},
   "outputs": [],
   "source": []
  },
  {
   "cell_type": "code",
   "execution_count": null,
   "id": "74eef129",
   "metadata": {},
   "outputs": [],
   "source": []
  },
  {
   "cell_type": "markdown",
   "id": "6e669bac",
   "metadata": {},
   "source": [
    "## Top 10 Rated Movies (Movie Rating and  Metascore Combined)"
   ]
  },
  {
   "cell_type": "code",
   "execution_count": null,
   "id": "15dadcd1",
   "metadata": {},
   "outputs": [],
   "source": []
  },
  {
   "cell_type": "code",
   "execution_count": null,
   "id": "9d2af8ac",
   "metadata": {},
   "outputs": [],
   "source": []
  },
  {
   "cell_type": "code",
   "execution_count": null,
   "id": "0ff25b09",
   "metadata": {},
   "outputs": [],
   "source": []
  },
  {
   "cell_type": "code",
   "execution_count": null,
   "id": "32452b2f",
   "metadata": {},
   "outputs": [],
   "source": []
  },
  {
   "cell_type": "code",
   "execution_count": null,
   "id": "88118be9",
   "metadata": {},
   "outputs": [],
   "source": []
  },
  {
   "cell_type": "code",
   "execution_count": null,
   "id": "8d6d291a",
   "metadata": {},
   "outputs": [],
   "source": []
  },
  {
   "cell_type": "markdown",
   "id": "83b6e64b",
   "metadata": {},
   "source": [
    "## Top 10 Rated Movies (Movie Rating, Metascore Combined and Votes Combined)"
   ]
  },
  {
   "cell_type": "code",
   "execution_count": null,
   "id": "7db807f8",
   "metadata": {},
   "outputs": [],
   "source": []
  },
  {
   "cell_type": "code",
   "execution_count": null,
   "id": "23b161ed",
   "metadata": {},
   "outputs": [],
   "source": []
  },
  {
   "cell_type": "code",
   "execution_count": null,
   "id": "61d6ce97",
   "metadata": {},
   "outputs": [],
   "source": []
  },
  {
   "cell_type": "markdown",
   "id": "00657e2d",
   "metadata": {},
   "source": [
    "## Most Famous Stars"
   ]
  },
  {
   "cell_type": "code",
   "execution_count": null,
   "id": "a19b9b34",
   "metadata": {},
   "outputs": [],
   "source": []
  },
  {
   "cell_type": "code",
   "execution_count": null,
   "id": "dc2b4f7d",
   "metadata": {},
   "outputs": [],
   "source": []
  },
  {
   "cell_type": "code",
   "execution_count": null,
   "id": "bcfd3f6e",
   "metadata": {},
   "outputs": [],
   "source": []
  },
  {
   "cell_type": "markdown",
   "id": "3f7f947e",
   "metadata": {},
   "source": [
    "## The stars with most movies"
   ]
  },
  {
   "cell_type": "code",
   "execution_count": null,
   "id": "e9b00b22",
   "metadata": {},
   "outputs": [],
   "source": []
  },
  {
   "cell_type": "code",
   "execution_count": null,
   "id": "c882ae08",
   "metadata": {},
   "outputs": [],
   "source": []
  },
  {
   "cell_type": "code",
   "execution_count": null,
   "id": "22d3d29c",
   "metadata": {},
   "outputs": [],
   "source": []
  },
  {
   "cell_type": "markdown",
   "id": "ce60e14f",
   "metadata": {},
   "source": [
    "## Top 5 Highest Gross Collection Movies"
   ]
  },
  {
   "cell_type": "code",
   "execution_count": null,
   "id": "5b7eea3a",
   "metadata": {},
   "outputs": [],
   "source": []
  },
  {
   "cell_type": "code",
   "execution_count": null,
   "id": "b731b11b",
   "metadata": {},
   "outputs": [],
   "source": []
  },
  {
   "cell_type": "code",
   "execution_count": null,
   "id": "ffb5925a",
   "metadata": {},
   "outputs": [],
   "source": []
  },
  {
   "cell_type": "code",
   "execution_count": null,
   "id": "d01ba2a1",
   "metadata": {},
   "outputs": [],
   "source": []
  },
  {
   "cell_type": "markdown",
   "id": "23289ba8",
   "metadata": {},
   "source": [
    "## Top 5 Directors"
   ]
  },
  {
   "cell_type": "code",
   "execution_count": null,
   "id": "676850df",
   "metadata": {},
   "outputs": [],
   "source": []
  },
  {
   "cell_type": "code",
   "execution_count": null,
   "id": "eb3068b9",
   "metadata": {},
   "outputs": [],
   "source": []
  },
  {
   "cell_type": "code",
   "execution_count": null,
   "id": "8e485c08",
   "metadata": {},
   "outputs": [],
   "source": []
  },
  {
   "cell_type": "code",
   "execution_count": null,
   "id": "905a63f5",
   "metadata": {},
   "outputs": [],
   "source": []
  },
  {
   "cell_type": "code",
   "execution_count": null,
   "id": "bd6996e8",
   "metadata": {},
   "outputs": [],
   "source": []
  },
  {
   "cell_type": "code",
   "execution_count": null,
   "id": "b7caec53",
   "metadata": {},
   "outputs": [],
   "source": []
  },
  {
   "cell_type": "code",
   "execution_count": null,
   "id": "3b423f4f",
   "metadata": {},
   "outputs": [],
   "source": []
  },
  {
   "cell_type": "code",
   "execution_count": null,
   "id": "32ae48c3",
   "metadata": {},
   "outputs": [],
   "source": []
  }
 ],
 "metadata": {
  "kernelspec": {
   "display_name": "Python 3 (ipykernel)",
   "language": "python",
   "name": "python3"
  },
  "language_info": {
   "codemirror_mode": {
    "name": "ipython",
    "version": 3
   },
   "file_extension": ".py",
   "mimetype": "text/x-python",
   "name": "python",
   "nbconvert_exporter": "python",
   "pygments_lexer": "ipython3",
   "version": "3.9.12"
  },
  "toc": {
   "base_numbering": 1,
   "nav_menu": {},
   "number_sections": true,
   "sideBar": true,
   "skip_h1_title": false,
   "title_cell": "Table of Contents",
   "title_sidebar": "Contents",
   "toc_cell": false,
   "toc_position": {},
   "toc_section_display": true,
   "toc_window_display": false
  }
 },
 "nbformat": 4,
 "nbformat_minor": 5
}
